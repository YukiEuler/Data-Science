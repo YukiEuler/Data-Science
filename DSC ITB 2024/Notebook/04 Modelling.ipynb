{
 "cells": [
  {
   "cell_type": "code",
   "execution_count": 1,
   "metadata": {},
   "outputs": [
    {
     "name": "stderr",
     "output_type": "stream",
     "text": [
      "c:\\Users\\User\\AppData\\Local\\Programs\\Python\\Python311\\Lib\\site-packages\\tqdm\\auto.py:21: TqdmWarning: IProgress not found. Please update jupyter and ipywidgets. See https://ipywidgets.readthedocs.io/en/stable/user_install.html\n",
      "  from .autonotebook import tqdm as notebook_tqdm\n"
     ]
    }
   ],
   "source": [
    "import numpy as np\n",
    "import pandas as pd\n",
    "from tqdm.notebook import tqdm\n",
    "\n",
    "import matplotlib.pyplot as plt\n",
    "import seaborn as sns\n",
    "\n",
    "from sklearn.feature_selection import mutual_info_regression\n",
    "from sklearn.preprocessing import OrdinalEncoder\n",
    "from sklearn.preprocessing import OneHotEncoder\n",
    "from sklearn.preprocessing import LabelEncoder\n",
    "from sklearn.preprocessing import StandardScaler\n",
    "from sklearn.preprocessing import RobustScaler\n",
    "from sklearn.ensemble import VotingRegressor\n",
    "\n",
    "from sklearn.model_selection import train_test_split\n",
    "from sklearn.model_selection import KFold, StratifiedKFold\n",
    "from sklearn.model_selection import RepeatedKFold\n",
    "from sklearn.model_selection import cross_val_score\n",
    "from sklearn.metrics import mean_absolute_error, mean_squared_error\n",
    "from sklearn.metrics import roc_auc_score\n",
    "from sklearn.cluster import KMeans\n",
    "from sklearn.decomposition import PCA\n",
    "\n",
    "from sklearn import ensemble\n",
    "from sklearn import svm\n",
    "from sklearn.linear_model import LinearRegression, LogisticRegression, Ridge, Lasso\n",
    "from sklearn.ensemble import RandomForestRegressor, RandomForestClassifier\n",
    "from catboost import CatBoostRegressor, CatBoostClassifier, Pool\n",
    "from xgboost import XGBRegressor, XGBClassifier\n",
    "from lightgbm import LGBMRegressor, LGBMClassifier\n",
    "\n",
    "import optuna\n",
    "\n",
    "import warnings\n",
    "warnings.filterwarnings(\"ignore\")\n",
    "pd.set_option('display.max_columns', None)"
   ]
  },
  {
   "cell_type": "code",
   "execution_count": 8,
   "metadata": {},
   "outputs": [],
   "source": [
    "data = pd.read_csv('data.csv')\n",
    "data = data[data['Cholesterol Total (mg/dL)'] != 187]\n",
    "target = data['Cholesterol Total (mg/dL)']\n",
    "data.drop(['Responden', 'Cholesterol Total (mg/dL)', 'Tempat lahir'], axis=1, inplace=True)\n",
    "data[\"Jenis Kelamin\"] = data[\"Jenis Kelamin\"].apply(lambda x: 1 if x == 'M' else 0)"
   ]
  },
  {
   "cell_type": "code",
   "execution_count": 22,
   "metadata": {},
   "outputs": [],
   "source": [
    "def perform_cross_validation(model, X, y, num_folds):\n",
    "    # Initialize KFold with stratified sampling\n",
    "    kf = StratifiedKFold(n_splits=num_folds, shuffle=True, random_state=42)\n",
    "    \n",
    "    # Initialize list to store RMSE scores for each fold\n",
    "    rmse_scores = []\n",
    "    accuracy = []\n",
    "\n",
    "    # Perform k-fold cross-validation\n",
    "    for train_index, test_index in kf.split(X, y):\n",
    "        X_train, X_test = X.iloc[train_index], X.iloc[test_index]\n",
    "        y_train, y_test = y.iloc[train_index], y.iloc[test_index]\n",
    "\n",
    "        # Train the model\n",
    "        model.fit(X_train, y_train)\n",
    "\n",
    "        # Make predictions on the test set\n",
    "        y_pred = model.predict(X_test)\n",
    "\n",
    "        counter = y_pred - np.array(y_test)\n",
    "        \n",
    "        counter = len([elm for elm in counter if elm == 0])\n",
    "        # Calculate RMSE\n",
    "        rmse = np.sqrt(mean_squared_error(y_test, y_pred))\n",
    "        accuracy.append(counter/len(y_test))\n",
    "        # Append RMSE to the list of scores\n",
    "        rmse_scores.append(rmse)\n",
    "\n",
    "    print(rmse_scores)\n",
    "    print(f'RMSE = {np.mean(rmse_scores)}')"
   ]
  },
  {
   "cell_type": "code",
   "execution_count": 10,
   "metadata": {},
   "outputs": [
    {
     "name": "stdout",
     "output_type": "stream",
     "text": [
      "XGBRegressor\n",
      "RMSE = 32.55845011260976\n",
      "CatBoostRegressor\n",
      "RMSE = 32.21672503030186\n",
      "LGBMRegressor\n",
      "RMSE = 32.53727556023499\n",
      "RandomForestRegressor\n",
      "RMSE = 31.52978966740082\n",
      "LinearRegression\n",
      "RMSE = 32.2936294706871\n",
      "Ridge\n",
      "RMSE = 32.28843252235978\n",
      "Lasso\n",
      "RMSE = 32.26098747866248\n",
      "LogisticRegression\n",
      "RMSE = 39.77495361746239\n"
     ]
    }
   ],
   "source": [
    "# Define the models\n",
    "models = [\n",
    "    XGBRegressor(),\n",
    "    CatBoostRegressor(verbose=False),\n",
    "    LGBMRegressor(),\n",
    "    RandomForestRegressor(),\n",
    "    LinearRegression(),\n",
    "    Ridge(),\n",
    "    Lasso(),\n",
    "    LogisticRegression(),\n",
    "]\n",
    "\n",
    "for model in models:\n",
    "    print(model.__class__.__name__)\n",
    "    perform_cross_validation(model, data, target, 5)"
   ]
  },
  {
   "cell_type": "code",
   "execution_count": 20,
   "metadata": {},
   "outputs": [
    {
     "name": "stdout",
     "output_type": "stream",
     "text": [
      "RMSE = 32.09047706266671\n"
     ]
    }
   ],
   "source": [
    "perform_cross_validation(RandomForestRegressor(), data.drop(['IMT (kg/m2)', 'Tinggi badan (cm)', 'Lingkar perut (cm)', 'Masa Kerja',  'Tekanan darah  (S)', 'Tekanan darah  (D)'], axis=1), target, 5)"
   ]
  },
  {
   "cell_type": "code",
   "execution_count": 27,
   "metadata": {},
   "outputs": [],
   "source": [
    "class DSCModel:\n",
    "    def __init__(self):\n",
    "        self.__classifier = XGBClassifier()\n",
    "        self.__regressor = RandomForestRegressor()    \n",
    "\n",
    "    def fit(self, X, y):\n",
    "        target = y.apply(lambda x: 1 if x == 187 else 0)\n",
    "        self.__classifier.fit(X, target)\n",
    "        X.drop(['IMT (kg/m2)', 'Tinggi badan (cm)', 'Lingkar perut (cm)', 'Masa Kerja',  'Tekanan darah  (S)', 'Tekanan darah  (D)'], axis=1, inplace=True)\n",
    "        x_filtered, y_filtered = X[target == 0], y[target == 0]\n",
    "        self.__regressor.fit(x_filtered, y_filtered)\n",
    "\n",
    "    def predict(self, X):\n",
    "        pred_187 = self.__classifier.predict(X)\n",
    "        not_187 = X[pred_187 == 0]\n",
    "        not_187.drop(['IMT (kg/m2)', 'Tinggi badan (cm)', 'Lingkar perut (cm)', 'Masa Kerja',  'Tekanan darah  (S)', 'Tekanan darah  (D)'], axis=1, inplace=True)\n",
    "        pred = self.__regressor.predict(not_187)\n",
    "        pred = np.round(pred)\n",
    "        result = []\n",
    "        idx1, idx2 = 0, 0\n",
    "        while idx1 + idx2 < len(X):\n",
    "            if pred_187[idx1 + idx2]:\n",
    "                result.append(187)\n",
    "                idx1 += 1\n",
    "            else:\n",
    "                result.append(pred[idx2])\n",
    "                idx2 += 1\n",
    "        return result"
   ]
  },
  {
   "cell_type": "code",
   "execution_count": 29,
   "metadata": {},
   "outputs": [],
   "source": [
    "data = pd.read_csv('data.csv')\n",
    "target = data['Cholesterol Total (mg/dL)']\n",
    "data.drop(['Responden', 'Cholesterol Total (mg/dL)', 'Tempat lahir'], axis=1, inplace=True)\n",
    "data[\"Jenis Kelamin\"] = data[\"Jenis Kelamin\"].apply(lambda x: 1 if x == 'M' else 0)"
   ]
  },
  {
   "cell_type": "code",
   "execution_count": 30,
   "metadata": {},
   "outputs": [
    {
     "name": "stdout",
     "output_type": "stream",
     "text": [
      "[22.61224077432002, 21.426462227397447, 20.60937332032967, 15.738653814116283, 20.87801201665978]\n",
      "RMSE = 20.252948430564636\n"
     ]
    }
   ],
   "source": [
    "perform_cross_validation(DSCModel(), data, target, 5)"
   ]
  }
 ],
 "metadata": {
  "kernelspec": {
   "display_name": "Python 3",
   "language": "python",
   "name": "python3"
  },
  "language_info": {
   "codemirror_mode": {
    "name": "ipython",
    "version": 3
   },
   "file_extension": ".py",
   "mimetype": "text/x-python",
   "name": "python",
   "nbconvert_exporter": "python",
   "pygments_lexer": "ipython3",
   "version": "3.11.5"
  }
 },
 "nbformat": 4,
 "nbformat_minor": 2
}
