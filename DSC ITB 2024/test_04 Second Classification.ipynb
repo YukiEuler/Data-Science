import numpy as np
from sklearn.metrics import mean_squared_error

def test_rmse(y_test, y_pred):
    rmse = np.sqrt(mean_squared_error(y_test, y_pred))
    return rmse

# Test case 1
y_test_1 = [1, 2, 3, 4, 5]
y_pred_1 = [1, 2, 3, 4, 5]
expected_rmse_1 = 0.0
assert test_rmse(y_test_1, y_pred_1) == expected_rmse_1

# Test case 2
y_test_2 = [1, 2, 3, 4, 5]
y_pred_2 = [2, 3, 4, 5, 6]
expected_rmse_2 = 1.0
assert test_rmse(y_test_2, y_pred_2) == expected_rmse_2

# Test case 3
y_test_3 = [1, 2, 3, 4, 5]
y_pred_3 = [5, 4, 3, 2, 1]
expected_rmse_3 = 2.8284271247461903
assert test_rmse(y_test_3, y_pred_3) == expected_rmse_3

# Additional test cases...