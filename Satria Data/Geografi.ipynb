{
 "cells": [
  {
   "cell_type": "code",
   "execution_count": 29,
   "metadata": {},
   "outputs": [],
   "source": [
    "import pandas as pd"
   ]
  },
  {
   "cell_type": "code",
   "execution_count": 30,
   "metadata": {},
   "outputs": [],
   "source": [
    "df = pd.read_csv('error_analysis_v2.csv')"
   ]
  },
  {
   "cell_type": "code",
   "execution_count": 31,
   "metadata": {},
   "outputs": [
    {
     "name": "stdout",
     "output_type": "stream",
     "text": [
      "RT Malam Tahun Baru, Ganjar salawatan &amp; istighosah bareng puluhan ribu warga Semarang, Senin (1/1/2024) Dipimpin Gus Ali Gondrong berlokasi di Lapangan Sapta Rengga, Bandungan Kabupaten Semarang, suasana penuh suka cita Ganjar dan warga dalam menyambut tahun 2024 bersama-sama. https://t.co/cFiM9YpKcS [RE Ghurem2] \n",
      "\n",
      "Ã°ÂŸÂ¥Âœ Jangan Golput, pilih Capres No 3 Ganjar Pranowo Mahfud MD untuk masa depan yang lebih baik Ganjar Mahfud Hebat #L3bihbaik #MahfudLebihBaik3 #GanjarMahfud2024 Guru Ngaji satu juta \n",
      "\n",
      "@jlR4/JTXt2he4U//daNzl8gNIcWN5t2zGb4CBZ/8+ho= @slfSxn46om4q3VtXgJFny6E5KWDBn2ee1P9aECqEl6Y= Di tiktok ada yg bilang Anies kepengen bangun 40 kota seperti Jakarta, tapi provinsi cuma 34 Ã°ÂŸÂ˜Â­ ngakak \n",
      "\n",
      "@REUCyeU5ewg9Wke5v4Rqc68hWShJi9zwGDvQZ4syZMk= @9INe0hQ90NjmD5hJeBPB+a7u6XcSARL2zJETPIZsbSQ= @s15+nVdzoGbYyOuoZXoDzCqHEoCsFn1ay1QFBaaWj5g= @8oASjsL4hbfnh59iapyDoa+OCMsfnggyBeyjYH345cY= Kuliah gratis dampaknya bisa utk semua anak baik yg tinggal di kota maupun pelosok. Kalau makan siang gratis akan sulit diterapkan di pedalaman. Internet gratis akan membuat anak-anak malah suka main game, mager, kurang aktivitas fisik. \n",
      "\n",
      "@lXTizyseN+6d/g9rFO1GpFRkOFWi8qmRnPrfvpRMgQI= owi dan org\"nya ngerti, pasti bkl panen cuan banyak soalnya yg di bawah ikn itu tanahnya prabowo sm adek prabowo bilangnya mah tanah negara tp wkwk, pantes milih bangun 1 wilayah bukan pemerataan wilayah lain Ã°ÂŸÂ˜Â‚Ã°ÂŸÂ˜Â† cape gw dukung prabowo cmn di peralat doang mending ke paslon 1/3 \n",
      "\n",
      "@t+7/By19Hcw9NS0Mxioa2duMRz9nGYwpFgFlBWUudDE= @ZQ3ImPMuAdUavpmzEktsvOMtANbZILMcB1gz1zlKYZI= @advEzBjACKj+ggKyu7PdTApTSrZz2iuM2OPFqdNxWho= Lu paling gblok, lu liat tuh pulau reklamasi berjalan, lalu apa yg dipermasalahin Anies? \n",
      "\n",
      "@udE3YJGs1eiq+ECNv/jUBoiph5bI6qifhV2pxeSzL8E= kata siapa nih sumbernya? food estate gunung mas di KALTENG penanggung jawab nya Prabowo (02) dari Kemhan yg ditunjuk langsung sm Jokowi bro tiati misleading trs org org percaya \n",
      "\n",
      "@wqUhnAYnMTRxBhoyIJ2nR350pMpIRm3EeIVjyW/DhkQ= @QXvW4+R6HUeWnVQ9xNytb8tiEpv9i1sqsHtZiBfK06M= @9lU1TD9mQQ6hAhXVJFNMiZhouLRQBrKh+nhuhb2fvpg= @ArYwAiKxR3+CgLEVIrkiBASpFR6PPXZh54012dRzW4E= @LLrNfxf1uirpnHDvV3+YFiaU67iAvtCdd7naK15HI4U= @BvPbbkFz5ibUx5W7bgYZL34m \n",
      "\n",
      "@hNlEOfEwyu0Trrx8pLf1Z/Kszi1PpRM2zZa6zTbcnhg= @ML8clfUJHQTgmQTN5We5O6GDWaXGwBrpzQ2gDUxSZ8o= @GjEJSNH2vVHHYOgT1MzRnfTblLbW84lgeGxNHb9+XnU= @Q1eB+zwZ9QwF3Zl1lIzt9oRP4zjGg4OpIT9a+woI2bo= Dulu marah2 ke Pak Anies waktu pulau reklamasi diusik. Eee pas pembuktian di pengadilan kalah. \n",
      "\n",
      "RT Setiap temen w komentar Ã¢Â€Â˜Anies mah janji doang, manis. Aslinya?Ã¢Â€Â™ Pasti w akan jawab Ã¢Â€Â˜capres mana yg ga janji? Bedanya kan di apakah kita akan punya kebebasan mengkritik dan menagih janji, atau tidak?Ã¢Â€Â™ Dan beliau addressing this exact statement Ã°ÂŸÂ¥Â¹Ã°ÂŸÂ«Â¡ [RE sipaaround] \n",
      "\n",
      "RT Ditakedown di Jakarta &amp; Bekasi, videotron pak Anies muncul lagi di Surabaya, Medan &amp; Gorontalo. Lawan intimidasi!! Anies Deserve Better Videotron #HotlineParisAMIN https://t.co/QHGCezLCk0 [RE ekowboy2] \n",
      "\n",
      "RT Semua Pendukung ANIES; tetap Semangaaat yaaa Bentar lagi kita sampe puncak. Insya Allah [RE dapitnih] \n",
      "\n",
      "@sGiygsn7a7yYjfMg5T4nmGffvpzpa5qzl0Gc/d5j/Yk= Umat Islam rata rata mendukung Anies Baswedan 2024. Bayangkan kesultanan Islam tertua di Indonesia kepulauan Tidore Maluku Utara rata2 mendukung Anies Baswedan, begitupun kota Ternate dan sekitarnya. AMIN 2024 \n",
      "\n",
      "@E/5kbRlcY5pcyjDvk8BWOCC0PIjEsgsLg7Xgy2J9nLU= Jadi mau pindah nanti ke IKN kalo dapet rezeki. Masa depan anak cucu mudah2an menjadi lebih baik. Jakarta-bandung kabarnya akan bergabung, makin tambah sumpek pulau Jawa nanti. Kita lihat saja perkembangan IKN. Semangat lanjutkan pembangunan pak @wk6Kd6D5h6lvpKJ14i4FFCJNn0i1AVk+M0SKShWavUw= Terimakasih pak @t6mPYQA62lQ5kXPhkn+CTfX83TxkauWLwepHOX8Bgr8= \n",
      "\n",
      "@/uof4ullzLSBqU3WoTsJGYZ8zyPgYnUFFYM/KENW/bo= @ZvwT3Ztm7BE3fBbdaftMbN8MBro1evn9WhukQEJxGo0= Pulau Sebira ini diperhatikan di zaman gubernur pak Anies mba btw, di sana skarang jdi lokasi wisata baru bagi rakyat Jakarta. Skrng ad kapal cepat dulu 8 jam ke daratan, skrang menjadi 3 jam . Dibangun sea water osmosis, yaitu teknologi utk mengubah air laut menjadi air minum \n",
      "\n",
      "@O0qE+vFNscHrzKdl82KGZJzcW/RKFcQFS4qEiEdXOQI= Peta politiknya lihat saja yang dulu bersama dengan pak anies dan sekarang dengan pak prab siapa, sama cek jg selama pak anies jadi gub apa Jakarta jadi Suriah? \n",
      "\n",
      "/n+ReiI= @Ik0fEI9ImTJjlmBO5SYL5Ag2NzJPHiOaiBuO7rxFFjc= Pak Ganjar dan Pak Mahfud, titip dipikirkan gagasannya. Kira\" apa program untuk meningkatkan SDM unggul di Indonesia Timur dan/atau daerah Kepulauan? Terima kasih :) \n",
      "\n",
      "@ye0JbwmcE1h7dFQK9qwvF+vT9grqKqwozxEWj2MzE34= @E5pj9ASCqoSbd6iRAxZMpQTAtSz1B/ZxGRkm+2YCjew= @V+XpWaQm3JlclMv1/9lqeGZwO/c2lIANDZgd4D/RchA= @XNQq+fVdYEBsoFmW1njiiVt1NA+t6dyAcUF92zmajTA= @Um70oxfjJ58O/2zwJTp4J+nBbuvngjn8iqLY6QiBG54= Oiya, kak km bisa cek pul \n",
      "\n",
      "@fapCxwBJ+UIVl8g3hWUMSNOSfjCbbKnNPScvUXsN04U= kampung ku di aeange, deket bukit tinggi. kamoung petani yg menjual hasilnya ke riau, palembang. sering banget jalanan longsor, dan truk truk itu balik pulang lagi, dan petani rugi. tapi mayoitas kampung ku tetap pilih anies baswedan , jadi yaaah gak jadi kasihan \n",
      "\n",
      "@aKQPv0oQR49lGbG4wRZgHP5ml4Sa6N6wzB69F+tpnVI= @/rXlaTK7aevN/jwtERmJUrYzEvkE5fZMNp4nx1h0Iq4= Itu juga pulau yg jalan, krna emg udah jadi duluan sblum Anies naik. Dan gue lupa, pulau C atau D gitu, diatur supaya jadi inklusif, yg tadinya bakal ekslusif, makanya ada pantai maju bersama di pulau itu skrg \n",
      "\n"
     ]
    }
   ],
   "source": [
    "for elm in df[df['label'] == 'Geografi']['text']:\n",
    "    print(elm, '\\n')"
   ]
  },
  {
   "cell_type": "code",
   "execution_count": 32,
   "metadata": {},
   "outputs": [
    {
     "data": {
      "text/plain": [
       "label\n",
       "Geografi            6\n",
       "Sumber Daya Alam    5\n",
       "Sosial Budaya       1\n",
       "Name: count, dtype: int64"
      ]
     },
     "execution_count": 32,
     "metadata": {},
     "output_type": "execute_result"
    }
   ],
   "source": [
    "df[df['text'].str.contains('pulau')]['label'].value_counts()"
   ]
  },
  {
   "cell_type": "code",
   "execution_count": 33,
   "metadata": {},
   "outputs": [
    {
     "data": {
      "text/plain": [
       "label\n",
       "Politik          6\n",
       "Geografi         1\n",
       "Demografi        1\n",
       "Ideologi         1\n",
       "Sosial Budaya    1\n",
       "Name: count, dtype: int64"
      ]
     },
     "execution_count": 33,
     "metadata": {},
     "output_type": "execute_result"
    }
   ],
   "source": [
    "df[df['text'].str.contains('pelosok')]['label'].value_counts()"
   ]
  },
  {
   "cell_type": "code",
   "execution_count": 34,
   "metadata": {},
   "outputs": [
    {
     "data": {
      "text/plain": [
       "label\n",
       "Geografi    1\n",
       "Name: count, dtype: int64"
      ]
     },
     "execution_count": 34,
     "metadata": {},
     "output_type": "execute_result"
    }
   ],
   "source": [
    "df[df['text'].str.contains('pedalaman')]['label'].value_counts()"
   ]
  },
  {
   "cell_type": "code",
   "execution_count": 35,
   "metadata": {},
   "outputs": [
    {
     "data": {
      "text/plain": [
       "label\n",
       "Politik                    8\n",
       "Sumber Daya Alam           7\n",
       "Sosial Budaya              6\n",
       "Ekonomi                    2\n",
       "Pertahanan dan Keamanan    2\n",
       "Geografi                   1\n",
       "Ideologi                   1\n",
       "Name: count, dtype: int64"
      ]
     },
     "execution_count": 35,
     "metadata": {},
     "output_type": "execute_result"
    }
   ],
   "source": [
    "df[df['text'].str.contains('wilayah')]['label'].value_counts()"
   ]
  },
  {
   "cell_type": "code",
   "execution_count": 36,
   "metadata": {},
   "outputs": [
    {
     "data": {
      "text/plain": [
       "label\n",
       "Sosial Budaya       12\n",
       "Politik             10\n",
       "Sumber Daya Alam     6\n",
       "Demografi            1\n",
       "Ekonomi              1\n",
       "Ideologi             1\n",
       "Geografi             1\n",
       "Name: count, dtype: int64"
      ]
     },
     "execution_count": 36,
     "metadata": {},
     "output_type": "execute_result"
    }
   ],
   "source": [
    "df[df['text'].str.contains('kampung')]['label'].value_counts()"
   ]
  },
  {
   "cell_type": "code",
   "execution_count": 37,
   "metadata": {},
   "outputs": [
    {
     "data": {
      "text/plain": [
       "label\n",
       "Politik                    37\n",
       "Sosial Budaya              11\n",
       "Sumber Daya Alam            6\n",
       "Ekonomi                     5\n",
       "Ideologi                    4\n",
       "Pertahanan dan Keamanan     4\n",
       "Geografi                    1\n",
       "Name: count, dtype: int64"
      ]
     },
     "execution_count": 37,
     "metadata": {},
     "output_type": "execute_result"
    }
   ],
   "source": [
    "df[df['text'].str.contains('tanah')]['label'].value_counts()"
   ]
  },
  {
   "cell_type": "code",
   "execution_count": 38,
   "metadata": {},
   "outputs": [],
   "source": [
    "test = pd.read_csv('dataset_unlabeled_penyisihan_bdc_2024.csv', delimiter=';')"
   ]
  },
  {
   "cell_type": "code",
   "execution_count": 39,
   "metadata": {},
   "outputs": [
    {
     "name": "stdout",
     "output_type": "stream",
     "text": [
      "@RM55Bn/jTOYBntGhLJUBSxbB+yKFrIWQVNDlunZ3qJo= @Nhmw096c2GxBV8+mwzNDoy6GpwXedLhaiEXKudEnO8s= @JupboPaPSlW9++zMIRZLL4qb36IubVN8gCnCwqqEPLw= Apalagi kita sebgai negara kepulauan. Bagian pasifik utara kita harus punya 3 Selatan 2. Bagian barat 3 dan timur 2.  ngra di dua samudra . Colek pak @gMG3cXk1x4nZ4v4fCBxdzeVFP35ZJll838I3xfJxoS8=\n",
      "@LCjBfZHQxjn2rekd4KGjxxx5tt6Lg/Gu8bCAQZyAKM8= @txP4xdSq3R4zo+7WNR5pj+l8BgxRzTiO7IfiQmOj2jk= @sdbcocLpwPXH3uFf+BN6p44jJ2CLHV2XBon3jUI20D8= sia sia dong bgn IKN kl pusat ekonomi ttp di pulau jawa, katanya mau tenggelem pulaunyaÃ°ÂŸÂ˜Â\n",
      "@H/EqAXex69zeXoYlup5j0l0GJ4Y/uJKeH7OhmihxL3g= @aR6Gu9UkUVOCAn26FLNgBYKoJTY5gXaWwv8pm1R1oak= @1Dnm/Z6aYYkytHTiEti21yYt9PAq2QKX5rZ5Smn29iw= Kalau memang masuk ke Banten, ngapain Anies sampai mengubah reklamasi menjadi kawasan pantai? Pulau C, D, G diubah menjadi nama Pantai Maju, Pantai Kita, Pantai Bersama. Secara administratif wilayah dan tata ruang, pulau ini masuk ke Jakarta Utara. https://t.co/3XM1CGerWy\n"
     ]
    }
   ],
   "source": [
    "for elm in test[test['Text'].str.contains('pulau')]['Text']:\n",
    "    print(elm)"
   ]
  },
  {
   "cell_type": "code",
   "execution_count": null,
   "metadata": {},
   "outputs": [],
   "source": []
  },
  {
   "cell_type": "code",
   "execution_count": 40,
   "metadata": {},
   "outputs": [
    {
     "name": "stdout",
     "output_type": "stream",
     "text": [
      "Gw 15 tahun menjadi bagian dari diaspora Indo di LN cuma bisa ketawa ketika Anies bicara kuliner dan rumah budaya di setiap region di seluruh dunia. Mungkin passport hijau gw kalau bisa denger juga ikutan ketawa. [RE hasmibakhtiar] \n",
      " ====================================================================================================\n",
      "Cara Anies Entaskan Miskin Ekstrem\n",
      "\n",
      "\"Penyumbang terbesar kemiskinan adalah masyarakat yang berada di desa - desa pesisir. Bagaimana cara Anies Baswedan entaskan kemiskinan ekstrem berdasarkan pengalaman Gubernur DKI Jakarta ?.\" @aniesbaswedan\n",
      "\n",
      "Penulis: Rusdianto Samawa, FOURBES Indonesia\n",
      "____\n",
      "\n",
      "Calon Presiden Anies Baswedan yang diusung oleh Koalisi Perubahan membawa visi misi Indonesia 2045 yang mengandung unsur - unsur penting yang penting agar menjadi catatan rakyat Indonesia. Visi misi tersebut, komitmen entaskan seluruh masalah yang dianggap emergency atas kegagalan rezim saat ini.\n",
      "\n",
      "Visi misi Indonesia 2045 Pasangan AMIN mulai dari kinerja pertumbuhan ekonomi atau produk domestik bruto (PDB) per kapita, pengangguran hingga penuntasan kemiskinan ekstrem. Visi misi tersebut, lebih ditekankan kepada kemakmuran yang dirasakan seluruh penduduk Tanah Air. Oleh karena itu, ketimpangan harus menjadi fokus yang selama ini rezim gagal total tuntaskan. Ketimpangan sangat nyata yang kita hadapi dan menjadi PR sesungguhnya.\n",
      "\n",
      "Pasangan AMIN (Anies Baswedan - Muhaimin Iskandar) juga menilai pertumbuhan ekonomi Indonesia belum berhasil menyelesaikan masalah pengangguran. Seperti diketahui, ekonomi Indonesia tumbuh di kisaran 5% selama 7 kuartal beruntun. Namun, jumlah pengangguran masih cukup tinggi. Adapun, BPS mencatat jumlah pengangguran di Indonesia mencapai 7,99 juta orang pada Februari 2023, berkurang sekitar 410 ribu orang dibanding Februari 2022\n",
      "\n",
      "Ditengah merosotnya kepercayaan rakyat terhadap pemerintah dan negara, polemik pengangguran dan kemiskinan ekstrem belum juga usai dibahas. Hal ini sangat bahayakan kedaulatan negara. Pemerintah berbohong kepada rakyat yang munculkan indeks kemiskinan ekstrem yang diklaim tinggal 2% atau sekitar 1,6 juta penduduk. Jumlah tersebut, mayoritas masyarakat pesisir. Upaya pengentasan kemiskinan di pesisir itu, langkah mendasar untuk menetapkan Indonesia masuk kategori Midle Income trap. Pemerintah umumkan keberhasilannya dari 2020 Ã¢Â€Â“ 2023 menurunkan kemiskinan ekstrem. Padahal kebohongan besar. Diketahui angka kemiskinan saat ini sebesar 9,36%.\n",
      "\n",
      "Cara Anies Entaskan Miskin Ekstrem\n",
      "\n",
      "Calon Presiden Koalisi Perubahan, Anies Baswedan menjanjikan kemiskinan di Indonesia bisa turun ke 4-5% pada 2029 mendatang. Diketahui angka kemiskinan saat ini sebesar 9,36%. Harapannya kemiskinan ekstremnya bisa 0%,\" kata Anies dalam acara Sarasehan 100 Ekonom Indonesia di Menara Bank Mega, Jakarta, Rabu (8/11/2023).\n",
      "\n",
      "Sala satu paling rumit dipahami yakni kebijakan pemerintah tidak berperan lakukan intervensi income dalam mendorong distribusi hasil pertanian, peternakan dan kelautan Ã¢Â€Â“ perikanan. Faktor kegagalan kebijakan rezim saat ini, sangat nyata.\n",
      "\n",
      "Pengalaman Anies Baswedan saat Gubernur DKI Jakarta, bahwa September 2017 persentase penduduk miskin di Jakarta mencapai 3,78 persen. Saat ini tingkat kemiskinan turun hingga 3,42 persen. Angka itu terkecil di Indonesia. Sementara Jawa Tengah paling tinggi angka kemiskinan dibanding daerah lain di Indonesia.\n",
      "\n",
      "Tentu cara Anies menurunkan angka kemiskinan itu, melalui kebijakan transparansi harga dipasar lokal, sehingga ada mekanisme kompetisi yang berjalan dan bisa untungkan konsumen. Harga diklaim bisa turun tanpa harus ada intervensi dari pemerintah. Salah satu hal konkret yang akan dilakukan Anies adalah dengan memastikan biaya hidup terjangkau, salah satunya melalui komponen harga pangan. Kepastian suplai pangan dengan harga yang murah.\n",
      "\n",
      "Menargetkan pertumbuhan ekonomi rata-rata mencapai 7% melalui strategi untuk keluar dari middle income trap secara inklusif, dengan meningkatkan peran koperasi dan UMKM, dukungan usaha baru di seluruh wilayah Indonesia, pemanfaatan infrastruktur, ekonomi digital, pengelolaan ekonomi hijau-biru, serta pertumbuhan industri manufaktur di 7,5%-8%.\n",
      "\n",
      "Sumber:\n",
      "Cara Anies Entaskan Miskin Ekstrem https://t.co/CEkMfMqx77 \n",
      " ====================================================================================================\n"
     ]
    }
   ],
   "source": [
    "for elm in test[test['Text'].str.contains('hijau')]['Text']:\n",
    "    print(elm, '\\n', '='*100)"
   ]
  },
  {
   "cell_type": "code",
   "execution_count": 41,
   "metadata": {},
   "outputs": [
    {
     "name": "stdout",
     "output_type": "stream",
     "text": [
      "Kunjungan Prabowo ini untuk meresmikan dan menyerahkan proyek bantuan air bersih di lima titik. #IndonesiaSentris #IndonesiaHijau #02Melanjutkan #AnakMudaIndonesiaEmas Prabowo Subianto\n",
      "Saat Prabowo Subianto menanyakan tentang kenaikan air saat hujan, Adi membenarkan bahwa situasi memang demikian, dan menekankan kesulitan mendapatkan air bersih sebagai masalah utama. #IndonesiaSentris #IndonesiaHijau #02Melanjutkan #AnakMudaIndonesiaEmas\n",
      "Calon Wakil Presiden nomor urut 3, Mahfud MD, menyatakan bahwa laju deforestasi atau penggundulan hutan Indonesia saat ini merupakan yang tertinggi di dunia. #IndonesiaSentris #IndonesiaHijau #02Melanjutkan #AnakMudaIndonesiaEmas Prabowo Subianto\n",
      "dan dirinya pun memberi dukungan kepada Prabowo Subianto agar ia menjadi pemimpin yang memprioritaskan kepentingan rakyat kecil. #IndonesiaSentris #IndonesiaHijau #02Melanjutkan #AnakMudaIndonesiaEmas Prabowo Subianto\n",
      "Mendengar hal ini, Prabowo Subianto pun, sebagai calon presiden nomor urut 2, berjanji akan mencari solusi atas masalah tersebut. #IndonesiaSentris #IndonesiaHijau #02Melanjutkan #AnakMudaIndonesiaEmas Prabowo Subianto\n",
      "Lebih lanjut, Ketua Umum Partai Gerindra itu menyatakan Sumatera Utara membutuhkan anak muda yang berprestasi sebagai pemimpin. #IndonesiaSentris #IndonesiaHijau #02Melanjutkan #AnakMudaIndonesiaEmas Prabowo Subianto\n",
      "Habiburokhman menyakini antusiasme warga, khususnya emak-emak dapat memberi dampak yang besar bagi Prabowo-Gibran. Dia menilai emak-emak memiliki semangat yang konsisten. #IndonesiaSentris #IndonesiaHijau #02Melanjutkan #AnakMudaIndonesiaEmas Prabowo Subianto\n",
      "Saat Prabowo Subianto menanyakan tentang kenaikan air saat hujan, Adi membenarkan bahwa situasi memang demikian, dan menekankan kesulitan mendapatkan air bersih sebagai masalah utama. #IndonesiaSentris #IndonesiaHijau #02Melanjutkan #AnakMudaIndonesiaEmas\n",
      "Semoga debat malam ini memberikan gambaran tentang ke mana nanti arah ini akan melangkah,\" kata Gibran. #IndonesiaSentris #IndonesiaHijau #02Melanjutkan #AnakMudaIndonesiaEmas Prabowo Subianto\n",
      "Demikian juga turun dari puncak debt to GDP di tengah pandemi pada posisi Desember 2021 sebesar 40,7%. \"Jadi masih kita masih sekitar berada sekitar 40%,\" tuturnya. #IndonesiaSentris #IndonesiaHijau #02Melanjutkan #AnakMudaIndonesiaEmas Prabowo Subianto\n",
      "Calon presiden nomor urut 02 Prabowo Subianto mengajak pengurus Kamar Dagang dan Industri Indonesia (Kadin) untuk berdiskusi membahas pertanian selama lima jam di kediamannya di Hambalang, Bogor, Jawa Barat. #IndonesiaSentris #IndonesiaHijau #02Melanjutkan #AnakMudaIndonesiaEmas\n",
      "Prabowo: Tujuan kerja sama ini agar Indonesia tampil di Piala Dunia #IndonesiaSentris #IndonesiaHijau #02Melanjutkan #AnakMudaIndonesiaEmas Prabowo Subianto https://t.co/WdAtYzMnzb\n",
      "Agama Sebelumnya yang Dipeluk #IndonesiaSentris #IndonesiaHijau #02Melanjutkan #AnakMudaIndonesiaEmas Prabowo Subianto\n",
      "Selama TNI Polri dekat ulama, kiai, dan pesantren Insya Allah negara akan kuat, katanya. #IndonesiaSentris #IndonesiaHijau #02Melanjutkan #AnakMudaIndonesiaEmas Prabowo Subianto\n",
      "Survei ini dilakukan pada 17-23 Desember 2023 terhadap 1.200 responden yang telah berusia 17 tahun atau sudah menikah yang memiliki hak pilih. #IndonesiaSentris #IndonesiaHijau #02Melanjutkan #AnakMudaIndonesiaEmas Prabowo Subianto\n",
      "Momen Seru Prabowo Subianto Masaak Bersama Masyarakat Cilincing. #IndonesiaSentris #IndonesiaHijau #02Melanjutkan #AnakMudaIndonesiaEmas Prabowo Subianto https://t.co/hywcrwrBwr\n",
      "Adi menginformasikan bahwa isu utama di kampung mereka adalah sulitnya mendapatkan air bersih dan masalah naiknya air laut. #IndonesiaSentris #IndonesiaHijau #02Melanjutkan #AnakMudaIndonesiaEmas Prabowo Subianto\n",
      "Saat Kompascom berkunjung ke lokasi tersebut, terlihat beberapa tim Prabowo Subianto juga sempat mendatangi kediaman Yuli dan warga lainnya pada Selasa sore ini. #IndonesiaSentris #IndonesiaHijau #02Melanjutkan #AnakMudaIndonesiaEmas Prabowo Subianto\n",
      "Calon Presiden nomor urut 2 itu pun, setelah mencicipi masakan tersebut, membagikannya kepada para warga setempat untuk dinikmati bersama. #IndonesiaSentris #IndonesiaHijau #02Melanjutkan #AnakMudaIndonesiaEmas Prabowo Subianto\n",
      "Prabowo mengatakan dirinya dan Rizal Ramli saling menghormati pilihan idealisme atau jalan mereka masing-masing. #IndonesiaSentris #IndonesiaHijau #02Melanjutkan #AnakMudaIndonesiaEmas Prabowo Subianto\n",
      "Angka tersebut melesat semakin jauh mengungguli dua paslon lainnya. #IndonesiaSentris #IndonesiaHijau #02Melanjutkan #AnakMudaIndonesiaEmas Prabowo Subianto\n",
      "Dukungan masyarakat Cilincing juga menunjukan bahwa dirinya sudah dipercaya sebagai calon pemimpin masa depan. #IndonesiaSentris #IndonesiaHijau #02Melanjutkan #AnakMudaIndonesiaEmas Prabowo Subianto\n",
      "Kedua, pergeseran suara pendukung dari Jokowi ke Prabowo. #IndonesiaSentris #IndonesiaHijau #02Melanjutkan #AnakMudaIndonesiaEmas Prabowo Subianto\n",
      "Pada kesempatan tersebut, mereka berdua mempersiapkan hidangan ayam teriyaki bersama dalam satu wajan besar. #IndonesiaSentris #IndonesiaHijau #02Melanjutkan #AnakMudaIndonesiaEmas Prabowo Subianto\n",
      "Adi menginformasikan bahwa isu utama di kampung mereka adalah sulitnya mendapatkan air bersih dan masalah naiknya air laut. #IndonesiaSentris #IndonesiaHijau #02Melanjutkan #AnakMudaIndonesiaEmas Prabowo Subianto\n",
      "Selain itu dalam kunjungannya, masalah air bersih dan kenaikan air laut di sembilan kelurahan #IndonesiaSentris Jakarta Utara juga menjadi perhatian serius Prabowo Subianto, calon presiden nomor urut dua. #IndonesiaSentris #IndonesiaHijau #02Melanjutkan #AnakMudaIndonesiaEmas\n",
      "termasuk telah masuknya Ketua Umum Pengajian Ilmu Tasawuf Tarekat Naqsabandiyah Indonesia dalam keanggotaan JSI. #IndonesiaSentris #IndonesiaHijau #02Melanjutkan #AnakMudaIndonesiaEmas Prabowo Subianto\n",
      "Dilansir dari video yang diposting pada laman ANTARA, calon presiden nomor urut dua ini menghadiri acara relawan Indonesia maju di Lapangan Temanggung Abdul Jamal Kota Batam. #IndonesiaSentris #IndonesiaHijau #02Melanjutkan #AnakMudaIndonesiaEmas Prabowo Subianto\n",
      "Dalam kunjungan blusukannya ke Cilincing pada 30 Desember 2023, Calon Presiden nomor urut 2 itu berdialog dengan warga setempat, #IndonesiaSentris #IndonesiaHijau #02Melanjutkan #AnakMudaIndonesiaEmas Prabowo Subianto\n",
      "Debat yang membahas pertahanan negara, lanjut Meutya, seharusnya menjadi ranah persatuan antara calon presiden karena sifatnya yang rawan terhadap kedaulatan bangsa. #IndonesiaSentris #IndonesiaHijau #02Melanjutkan #AnakMudaIndonesiaEmas Prabowo Subianto\n",
      "Nining mengungkapkan bahwa Prabowo sudah ada di hatinya sebagai pilihan untuk pemilihan presiden mendatang. #IndonesiaSentris #IndonesiaHijau #02Melanjutkan #AnakMudaIndonesiaEmas Prabowo Subianto\n",
      "Selain itu dalam kunjungannya, masalah air bersih dan kenaikan air laut di sembilan kelurahan #IndonesiaSentris Jakarta Utara juga menjadi perhatian serius Prabowo Subianto, calon presiden nomor urut dua. #IndonesiaSentris #IndonesiaHijau #02Melanjutkan #AnakMudaIndonesiaEmas\n",
      "Saat Prabowo Subianto menanyakan tentang kenaikan air saat hujan, Adi membenarkan bahwa situasi memang demikian, dan menekankan kesulitan mendapatkan air bersih sebagai masalah utama. #IndonesiaSentris #IndonesiaHijau #02Melanjutkan #AnakMudaIndonesiaEmas\n",
      "Ternyata tiap kali beliau muncul di debat (cawapres), eh kita naik terus (elektabilitas paslon nomor urut 2), ujar Menteri Pertahanan itu. #IndonesiaSentris #IndonesiaHijau #02Melanjutkan #AnakMudaIndonesiaEmas Prabowo Subianto\n",
      "Jakarta, IDN Times - Lembagai survei Indonesia Network Election Survey (INES) merilis hasil survei periode 12 sampai 21 Januari 2024. #IndonesiaSentris #IndonesiaHijau #02Melanjutkan #AnakMudaIndonesiaEmas Prabowo Subianto\n",
      "Survei Charta Politika memperlihatkan elektabilitas atau tingkat keterpilihan calon presiden dan calon wakil presiden nomor urut 2, Prabowo Subianto dan Gibran Rakabuming Raka berada di posisi teratas. #IndonesiaSentris #IndonesiaHijau #02Melanjutkan #AnakMudaIndonesiaEmas\n",
      "Margin of error survei kurang lebih 2,7 persen pada tingkat kepercayaan 95 persen. #IndonesiaSentris #IndonesiaHijau #02Melanjutkan #AnakMudaIndonesiaEmas Prabowo Subianto\n",
      "Dukungan masyarakat Cilincing juga diberikan oleh warga lainnya, yang bernama Nining. #IndonesiaSentris #IndonesiaHijau #02Melanjutkan #AnakMudaIndonesiaEmas Prabowo Subianto\n",
      "termasuk berbagi pakaian dan berjoget bersama mereka dengan iringan musik. #IndonesiaSentris #IndonesiaHijau #02Melanjutkan #AnakMudaIndonesiaEmas Prabowo Subianto\n",
      "Adapun berikut sejumlah titik air bersih yang diresmikan di Sukabumi : 1. Desa Karanganyar Dusun Lembur Jami dan Cimala Kecamatan Jampang Kulon (600 KK) #IndonesiaSentris #IndonesiaHijau #02Melanjutkan #AnakMudaIndonesiaEmas Prabowo Subianto\n",
      "Sementara 5,3 persen responden lainnya memilih tidak menjawab atau tidak tahu. #IndonesiaSentris #IndonesiaHijau #02Melanjutkan #AnakMudaIndonesiaEmas Prabowo Subianto\n",
      "Gibran menjelaskan alasannya dua kali berkunjung ke Pulau Dewata. #IndonesiaSentris #IndonesiaHijau #02Melanjutkan #AnakMudaIndonesiaEmas Prabowo Subianto\n",
      "Kami optimistis Prabowo-Gibran menang satu putaran,Ã¢Â€Â ujar Boedi. #IndonesiaSentris #IndonesiaHijau #02Melanjutkan #AnakMudaIndonesiaEmas Prabowo Subianto\n",
      "Pada 23 November-1 Desember 2023 mencapai 50, 2 dan pada 30 Desember 2024-6 Januari 2024 terus menurun hingga menjadi 43,3 persen. #IndonesiaSentris #IndonesiaHijau #02Melanjutkan #AnakMudaIndonesiaEmas Prabowo Subianto\n",
      "Adi menginformasikan bahwa isu utama di kampung mereka adalah sulitnya mendapatkan air bersih dan masalah naiknya air laut. #IndonesiaSentris #IndonesiaHijau #02Melanjutkan #AnakMudaIndonesiaEmas Prabowo Subianto\n",
      "https://t.co/L6sIjNJbpv #IndonesiaSentris #IndonesiaHijau #02Melanjutkan #AnakMudaIndonesiaEmas Prabowo Subianto\n",
      "Dalam deklarasinya yang bertempat di Gedung Griya Yudha Reksa, Desa Kirig, Kecamatan Mejobo, Kabupaten Kudus, ribuan petani tersebut juga mengaku akan memenangkan Prabowo-Gibran dalam sekali putaran. #IndonesiaSentris #IndonesiaHijau #02Melanjutkan #AnakMudaIndonesiaEmas\n",
      "Menurut dia, semua kekayaan alam harus diolah di bumi Nusantara dengan membangun pabrik-pabrik pengolahan. #IndonesiaSentris #IndonesiaHijau #02Melanjutkan #AnakMudaIndonesiaEmas Prabowo Subianto\n",
      "Selain itu dalam kunjungannya, masalah air bersih dan kenaikan air laut di sembilan kelurahan #IndonesiaSentris Jakarta Utara juga menjadi perhatian serius Prabowo Subianto, calon presiden nomor urut dua. #IndonesiaSentris #IndonesiaHijau #02Melanjutkan #AnakMudaIndonesiaEmas\n",
      "Ia juga menyatakan kegembiraannya dapat berinteraksi dengan Prabowo dan menyambut baik kedatangannya. #IndonesiaSentris #IndonesiaHijau #02Melanjutkan #AnakMudaIndonesiaEmas Prabowo Subianto\n",
      "Hal tersebut Prabowo sampaikan saat menghadiri deklarasi KSPN di Bandung, Minggu (14/1/2024). #IndonesiaSentris #IndonesiaHijau #02Melanjutkan #AnakMudaIndonesiaEmas Prabowo Subianto\n",
      "Saat Prabowo Subianto menanyakan tentang kenaikan air saat hujan, Adi membenarkan bahwa situasi memang demikian, dan menekankan kesulitan mendapatkan air bersih sebagai masalah utama. #IndonesiaSentris #IndonesiaHijau #02Melanjutkan #AnakMudaIndonesiaEmas\n",
      "Adi menginformasikan bahwa isu utama di kampung mereka adalah sulitnya mendapatkan air bersih dan masalah naiknya air laut. #IndonesiaSentris #IndonesiaHijau #02Melanjutkan #AnakMudaIndonesiaEmas Prabowo Subianto\n",
      "Jadi kami di kalangan pondok pesantren menaruh harapan besar terhadap beliau untuk memperhatikan kepentingan kami komunitas pesantren, #IndonesiaSentris #IndonesiaHijau #02Melanjutkan #AnakMudaIndonesiaEmas Prabowo Subianto\n",
      "Di Bangkalan, Satgas Air Unhan menemukan 15 sumber air bersih, kemudian tim itu juga memasang pipa-pipa air untuk mengalirkan airnya itu ke rumah-rumah warga. #IndonesiaSentris #IndonesiaHijau #02Melanjutkan #AnakMudaIndonesiaEmas Prabowo Subianto\n",
      "Saat Prabowo Subianto menanyakan tentang kenaikan air saat hujan, Adi membenarkan bahwa situasi memang demikian, dan menekankan kesulitan mendapatkan air bersih sebagai masalah utama. #IndonesiaSentris #IndonesiaHijau #02Melanjutkan #AnakMudaIndonesiaEmas\n",
      "Menurut Budiman, Indonesia memiliki potensi besar untuk menjadi negara berpengaruh di kawasan Indo-Pasifik, #IndonesiaSentris #IndonesiaHijau #02Melanjutkan #AnakMudaIndonesiaEmas Prabowo Subianto\n",
      "Termasuk menganggap blusukan Prabowo adalah \"setting-an\" Habiburokhman mengatakan, Prabowo sedang mengalami serangan karena sedang di atas angin. #IndonesiaSentris #IndonesiaHijau #02Melanjutkan #AnakMudaIndonesiaEmas Prabowo Subianto\n",
      "Sebab sampai saat ini dari kelompok tani belum banyak disentuh oleh capres-cawapres lainnya. #IndonesiaSentris #IndonesiaHijau #02Melanjutkan #AnakMudaIndonesiaEmas Prabowo Subianto\n",
      "Menurutnya, TNI harus kuat baik Angkatan Darat, Angkatan Laut maupun Angkatan Udara. #IndonesiaSentris #IndonesiaHijau #02Melanjutkan #AnakMudaIndonesiaEmas Prabowo Subianto\n",
      "Adi mengungkapkan rasa syukurnya karena rumahnya dikunjungi oleh Ketua Umum Partai Gerindra itu, #IndonesiaSentris #IndonesiaHijau #02Melanjutkan #AnakMudaIndonesiaEmas Prabowo Subianto\n",
      "LSI sebut Prabowo-Gibran unggul di Jatim #IndonesiaSentris #IndonesiaHijau #02Melanjutkan #AnakMudaIndonesiaEmas Prabowo Subianto https://t.co/jZWV5q6Wb2\n",
      "Adi menginformasikan bahwa isu utama di kampung mereka adalah sulitnya mendapatkan air bersih dan masalah naiknya air laut. #IndonesiaSentris #IndonesiaHijau #02Melanjutkan #AnakMudaIndonesiaEmas Prabowo Subianto\n",
      "Menurutnya, calon presiden dan wakil presiden Prabowo Subianto-Gibran Rakabuming Raka naik hingga menembus 50,3 persen berkat pergeseran pemilih dari kalangan nasionalis. #IndonesiaSentris #IndonesiaHijau #02Melanjutkan #AnakMudaIndonesiaEmas Prabowo Subianto\n",
      "Naik, pak. Kalau di sini keluhannya (kesulitan) air (bersih), jawab Adi. #IndonesiaSentris #IndonesiaHijau #02Melanjutkan #AnakMudaIndonesiaEmas Prabowo Subianto\n",
      "Dalam kesempatan yang sama Prabowo Subianto, turut serta mengikuti Masak Besar dan memasak bersama Youtuber Bobon Santoso. #IndonesiaSentris #IndonesiaHijau #02Melanjutkan #AnakMudaIndonesiaEmas Prabowo Subianto\n",
      "Prabowo mengatakan kaum pekerja merupakan pahlawan bagi bangsa dan negara. Apalagi para pekerja tersebut bisa bekerja dengan gigih demi keluarga, anak, dan istrinya. #IndonesiaSentris #IndonesiaHijau #02Melanjutkan #AnakMudaIndonesiaEmas Prabowo Subianto\n",
      "Awal mula Prabowo Subianto dekat dengan kami itu di tahun 2009, #IndonesiaSentris #IndonesiaHijau #02Melanjutkan #AnakMudaIndonesiaEmas Prabowo Subianto\n",
      "Dukungan masyarakat Cilincing juga diberikan oleh warga lainnya, yang bernama Nining. #IndonesiaSentris #IndonesiaHijau #02Melanjutkan #AnakMudaIndonesiaEmas Prabowo Subianto\n",
      "Adi menginformasikan bahwa isu utama di kampung mereka adalah sulitnya mendapatkan air bersih dan masalah naiknya air laut. #IndonesiaSentris #IndonesiaHijau #02Melanjutkan #AnakMudaIndonesiaEmas Prabowo Subianto\n",
      "Sebagai sebuah Republik, sebagai sebuah negara yang berdemokrasi yang artinya adalah rakyat yang berkuasa,\" ujar Prabowo. #IndonesiaSentris #IndonesiaHijau #02Melanjutkan #AnakMudaIndonesiaEmas Prabowo Subianto\n",
      "Selanjutnya, pasangan Ganjar Pranowo-Mahfud MD menyanding nomor urut 3. Capres-cawapres ini didukung oleh PDI Perjuangan, Partai Persatuan Pembangunan (PPP), Partai Hanura, &amp; Partai Perindo. #IndonesiaSentris #IndonesiaHijau #02Melanjutkan #AnakMudaIndonesiaEmas Prabowo Subianto\n",
      "Kenapa SGP menarik dukungan? Karena kami, ketua umum SGP dan seluruh jajaran pengurus se-Indonesia, merasa sudah diinjak-injak harga diri kita,\" tuturnya. #IndonesiaSentris #IndonesiaHijau #02Melanjutkan #AnakMudaIndonesiaEmas Prabowo Subianto\n",
      "Prabowo Sebut 2 Kali Kalah Pilpres karena Tak Pernah Diundang Relawan Erick Thohir https://t.co/CW47xPmp26 #IndonesiaSentris #IndonesiaHijau #02Melanjutkan #AnakMudaIndonesiaEmas Prabowo Subianto\n",
      "Selain itu dalam kunjungannya, masalah air bersih dan kenaikan air laut di sembilan kelurahan #IndonesiaSentris Jakarta Utara juga menjadi perhatian serius Prabowo Subianto, calon presiden nomor urut dua. #IndonesiaSentris #IndonesiaHijau #02Melanjutkan #AnakMudaIndonesiaEmas\n",
      "Hal tersebut menurut Dudung merupakan klaim sepihak tanpa data-data yang lengkap. #IndonesiaSentris #IndonesiaHijau #02Melanjutkan #AnakMudaIndonesiaEmas Prabowo Subianto\n",
      "Saat Prabowo Subianto menanyakan tentang kenaikan air saat hujan, Adi membenarkan bahwa situasi memang demikian, dan menekankan kesulitan mendapatkan air bersih sebagai masalah utama. #IndonesiaSentris #IndonesiaHijau #02Melanjutkan #AnakMudaIndonesiaEmas\n",
      "Tapi buat yang mungkin baru pertama ketemu saya, perkenalkan nama saya Kaesang Pangarep Ketua Umum PSI, #IndonesiaSentris #IndonesiaHijau #02Melanjutkan #AnakMudaIndonesiaEmas Prabowo Subianto\n",
      "Calon Presiden (Capres) Nomor ururt 2 Prabowo Subianto bakal menghadiri Rapat Pimpinan Nasional (Rapimnas) #IndonesiaSentris #IndonesiaHijau #02Melanjutkan #AnakMudaIndonesiaEmas Prabowo Subianto\n",
      "Saya melihat Unhan ini strategis dan bisa kita jadikan aset. Kita cari anak terpintar dan terbaik, tanpa melihat latar belakang orang tua, ras, suku, dan agama. Putra putri terbaik bangsa,kata Prabowo. #IndonesiaSentris #IndonesiaHijau #02Melanjutkan #AnakMudaIndonesiaEmas\n",
      "Secara pribadi Pak Prabowo luar biasa kompeten dan mumpuni untuk membawa Indonesia 5 tahun ke depan menuju tujuan bangsa Indonesia Emas,\" lanjutnya. #IndonesiaSentris #IndonesiaHijau #02Melanjutkan #AnakMudaIndonesiaEmas Prabowo Subianto\n",
      "kata Yuli dengan suara bergetar saat ditemui di kediamannya, Selasa (2/1/2024). #IndonesiaSentris #IndonesiaHijau #02Melanjutkan #AnakMudaIndonesiaEmas Prabowo Subianto\n",
      "Selain itu dalam kunjungannya, masalah air bersih dan kenaikan air laut di sembilan kelurahan #IndonesiaSentris Jakarta Utara juga menjadi perhatian serius Prabowo Subianto, calon presiden nomor urut dua. #IndonesiaSentris #IndonesiaHijau #02Melanjutkan #AnakMudaIndonesiaEmas\n",
      "Sementara Ganjar-Mahfud di posisi terakhir dengan 21,5 persen. #IndonesiaSentris #IndonesiaHijau #02Melanjutkan #AnakMudaIndonesiaEmas Prabowo Subianto\n",
      "Dia juga menyebut bahwa Koalisi Indonesia Maju (KIM) yang mengusungnya adalah tim Jokowi. #IndonesiaSentris #IndonesiaHijau #02Melanjutkan #AnakMudaIndonesiaEmas Prabowo Subianto\n",
      "Acara ini tidak hanya memasak, tetapi Calon Presiden nomor urut 2 itu juga menghabiskan waktu berinteraksi dengan warga, #IndonesiaSentris #IndonesiaHijau #02Melanjutkan #AnakMudaIndonesiaEmas Prabowo Subianto\n"
     ]
    }
   ],
   "source": [
    "for elm in df[df['text'].str.contains('#IndonesiaHijau')]['text']:\n",
    "    print(elm)"
   ]
  },
  {
   "cell_type": "code",
   "execution_count": 42,
   "metadata": {},
   "outputs": [
    {
     "name": "stdout",
     "output_type": "stream",
     "text": [
      "text\n",
      "False    4789\n",
      "True      211\n",
      "Name: count, dtype: int64\n"
     ]
    }
   ],
   "source": [
    "words = ['gen z', 'menengah', 'berpendidikan', 'muda', 'pemilih muda', 'etnis', 'generasi', 'kalangan atas', 'kalangan menengah']\n",
    "\n",
    "print(df['text'].str.contains('|'.join(words)).value_counts())"
   ]
  },
  {
   "cell_type": "code",
   "execution_count": 43,
   "metadata": {},
   "outputs": [],
   "source": [
    "import re\n",
    "def process_text(text):\n",
    "  # Counter\n",
    "  def count_at(text):\n",
    "    return text.count('@')\n",
    "  def count_hashtag(text):\n",
    "    return text.count('#')\n",
    "  #Preprocess\n",
    "  def retrieve_hashtags(text):\n",
    "    return \" \".join(re.findall(r'#\\S+', text))\n",
    "  def remove_retweet(text):\n",
    "    text = re.sub(r\"@\\S+ \", \"\", text)\n",
    "    return re.sub(r\"@\\S+$\", \"\", text)\n",
    "  def remove_hashtag(text):\n",
    "    text = re.sub(r\"#\\S+ \", \"\", text)\n",
    "    return re.sub(r\"#\\S+$\", \"\", text)\n",
    "  def remove_unwanted_string(text):\n",
    "    # Remove substrings containing unwanted characters\n",
    "    text = re.sub(r'\\S*[ÃÂš°µ]\\S*', '', text)\n",
    "    return text.strip()\n",
    "  def remove_rebrackets(text):\n",
    "    return re.sub(r'\\[RE[^\\]]*\\]', '', text)\n",
    "  def remove_urls(text):\n",
    "      # Remove URLs starting with https\n",
    "      return re.sub(r'https?://\\S+', '', text)\n",
    "  def preprocess_hashtag(text):\n",
    "    if(len(text)==0):\n",
    "      return 0,0,0\n",
    "    texted = text.split(\" \")\n",
    "    #print(texted)\n",
    "    hashtag_1 = ['01','amin','anies','imin','muhaimin','kosongsatu','1']\n",
    "    hashtag_2 = ['02','prabowo','gibran','kosongdua','indonesiasentris','2']\n",
    "    hashtag_3 = ['03','ganjar','mahfud','kosongtiga','jnk','3']\n",
    "    count_tag_1 = 0\n",
    "    count_tag_2 = 0\n",
    "    count_tag_3 = 0\n",
    "    for text in texted :\n",
    "      for word_to_match in hashtag_1:\n",
    "        match = re.search(word_to_match, text)\n",
    "        # Jika kecocokan ditemukan\n",
    "        if match:\n",
    "          count_tag_1 = count_tag_1 + 1\n",
    "          # print(f\"'{word_to_match}' matches with '{text}'\")\n",
    "      for word_to_match in hashtag_2:\n",
    "        match = re.search(word_to_match, text)\n",
    "        # Jika kecocokan ditemukan\n",
    "        if match:\n",
    "          count_tag_2 = count_tag_2 + 1\n",
    "          # print(f\"'{word_to_match}' matches with '{text}'\")\n",
    "      for word_to_match in hashtag_3:\n",
    "        match = re.search(word_to_match, text)\n",
    "        # Jika kecocokan ditemukan\n",
    "        if match:\n",
    "          count_tag_3 = count_tag_3 + 1\n",
    "          # print(f\"'{word_to_match}' matches with '{text}'\")\n",
    "    return count_tag_1, count_tag_2,count_tag_3\n",
    "  def count_paslon(text):\n",
    "    #Process the hashtag first\n",
    "    hashtag_text = retrieve_hashtags(text).lower()\n",
    "    # print(hashtag_text)\n",
    "    count_tag_1,count_tag_2,count_tag_3 = preprocess_hashtag(hashtag_text)\n",
    "    text = remove_hashtag(text)\n",
    "    # print(text)\n",
    "    text_split = re.sub(r'[^\\w\\s]', '', text.lower()).split()\n",
    "    # print(text_split)\n",
    "    paslon_1 = ['anies','muhaimin','imin','anis','01','waktunya','perubahan','amin' , 'asalbukanprabowo']\n",
    "    paslon_2 = ['prabowo','gibran','rakabuming','02','menhan','lanjutkan','gerindra','masbowo','anakmuda']\n",
    "    paslon_3 = ['ganjar','pranowo','mahfud','03','pdi','asalbukanprabowo','ganjarmahfud2024','ganjarmahfudsatset']\n",
    "    counter_01 = 0\n",
    "    counter_02 = 0\n",
    "    counter_03 = 0\n",
    "    for x in text_split:\n",
    "      for word_to_match in paslon_1:\n",
    "        match = re.search(word_to_match, x)\n",
    "        if match:\n",
    "          counter_01 = counter_01 + 1\n",
    "      for word_to_match in paslon_2:\n",
    "        match = re.search(word_to_match, x)\n",
    "        if match:\n",
    "          counter_02 = counter_02 + 1\n",
    "      for word_to_match in paslon_3:\n",
    "        match = re.search(word_to_match, x)\n",
    "        if match:\n",
    "          counter_03 = counter_03 + 1\n",
    "    return \" \".join(text_split),counter_01,counter_02,counter_03,count_tag_1,count_tag_2,count_tag_3,hashtag_text\n",
    "\n",
    "\n",
    "  count_att = count_at(text)\n",
    "  text = remove_retweet(text)\n",
    "  text = remove_urls(text)\n",
    "  text = remove_unwanted_string(text)\n",
    "  text = remove_rebrackets(text)\n",
    "  count_hashtag = count_hashtag(text)\n",
    "  text, count_1,count_2,count_3,count_tag_1,count_tag_2,count_tag_3,hashtag_text = count_paslon(text)\n",
    "  text = remove_hashtag(text)\n",
    "  return text,count_att,count_hashtag,count_1,count_2,count_3,count_tag_1,count_tag_2,count_tag_3,hashtag_text"
   ]
  },
  {
   "cell_type": "code",
   "execution_count": 45,
   "metadata": {},
   "outputs": [],
   "source": [
    "test['Text'] = test['Text'].str.replace('RT', '')\n",
    "test[['text', 'retweet', 'hashtag', 'count_1', 'count_2', 'count_3','count_tag_1','count_tag_2','count_tag_3','hashtag_text']] = test['Text'].apply(lambda x: pd.Series(process_text(x)))"
   ]
  },
  {
   "cell_type": "code",
   "execution_count": 46,
   "metadata": {},
   "outputs": [
    {
     "data": {
      "text/html": [
       "<div>\n",
       "<style scoped>\n",
       "    .dataframe tbody tr th:only-of-type {\n",
       "        vertical-align: middle;\n",
       "    }\n",
       "\n",
       "    .dataframe tbody tr th {\n",
       "        vertical-align: top;\n",
       "    }\n",
       "\n",
       "    .dataframe thead th {\n",
       "        text-align: right;\n",
       "    }\n",
       "</style>\n",
       "<table border=\"1\" class=\"dataframe\">\n",
       "  <thead>\n",
       "    <tr style=\"text-align: right;\">\n",
       "      <th></th>\n",
       "      <th>IDText</th>\n",
       "      <th>Text</th>\n",
       "      <th>text</th>\n",
       "      <th>retweet</th>\n",
       "      <th>hashtag</th>\n",
       "      <th>count_1</th>\n",
       "      <th>count_2</th>\n",
       "      <th>count_3</th>\n",
       "      <th>count_tag_1</th>\n",
       "      <th>count_tag_2</th>\n",
       "      <th>count_tag_3</th>\n",
       "      <th>hashtag_text</th>\n",
       "    </tr>\n",
       "  </thead>\n",
       "  <tbody>\n",
       "    <tr>\n",
       "      <th>0</th>\n",
       "      <td>TXT0001</td>\n",
       "      <td>Lu mau org2 pro-demokrasi di negara ini bisa p...</td>\n",
       "      <td>lu mau org2 prodemokrasi di negara ini bisa pu...</td>\n",
       "      <td>0</td>\n",
       "      <td>0</td>\n",
       "      <td>1</td>\n",
       "      <td>1</td>\n",
       "      <td>1</td>\n",
       "      <td>0</td>\n",
       "      <td>0</td>\n",
       "      <td>0</td>\n",
       "      <td></td>\n",
       "    </tr>\n",
       "    <tr>\n",
       "      <th>1</th>\n",
       "      <td>TXT0002</td>\n",
       "      <td>Prabowo ditanya soal hutang luar negeri dia me...</td>\n",
       "      <td>prabowo ditanya soal hutang luar negeri dia me...</td>\n",
       "      <td>0</td>\n",
       "      <td>0</td>\n",
       "      <td>1</td>\n",
       "      <td>3</td>\n",
       "      <td>2</td>\n",
       "      <td>0</td>\n",
       "      <td>0</td>\n",
       "      <td>0</td>\n",
       "      <td></td>\n",
       "    </tr>\n",
       "    <tr>\n",
       "      <th>2</th>\n",
       "      <td>TXT0003</td>\n",
       "      <td>kiki_daliyo  Ganjar Pranowo itulah beliau soso...</td>\n",
       "      <td>kiki_daliyo ganjar pranowo itulah beliau sosok...</td>\n",
       "      <td>0</td>\n",
       "      <td>6</td>\n",
       "      <td>0</td>\n",
       "      <td>0</td>\n",
       "      <td>3</td>\n",
       "      <td>0</td>\n",
       "      <td>2</td>\n",
       "      <td>10</td>\n",
       "      <td>#ganjarmerawatpancasila #mahfud #mahfudlebihba...</td>\n",
       "    </tr>\n",
       "    <tr>\n",
       "      <th>3</th>\n",
       "      <td>TXT0004</td>\n",
       "      <td>@kumparan Prabowo Gibran yang bisa melakukan i...</td>\n",
       "      <td>prabowo gibran yang bisa melakukan itu semua d...</td>\n",
       "      <td>1</td>\n",
       "      <td>0</td>\n",
       "      <td>0</td>\n",
       "      <td>2</td>\n",
       "      <td>0</td>\n",
       "      <td>0</td>\n",
       "      <td>0</td>\n",
       "      <td>0</td>\n",
       "      <td></td>\n",
       "    </tr>\n",
       "    <tr>\n",
       "      <th>4</th>\n",
       "      <td>TXT0005</td>\n",
       "      <td>@sniperruben45 @uda_zulhendra @ainunnajib Lah ...</td>\n",
       "      <td>lah justru yg gak nyambung junjungan elu aomkm...</td>\n",
       "      <td>3</td>\n",
       "      <td>0</td>\n",
       "      <td>2</td>\n",
       "      <td>0</td>\n",
       "      <td>0</td>\n",
       "      <td>0</td>\n",
       "      <td>0</td>\n",
       "      <td>0</td>\n",
       "      <td></td>\n",
       "    </tr>\n",
       "    <tr>\n",
       "      <th>...</th>\n",
       "      <td>...</td>\n",
       "      <td>...</td>\n",
       "      <td>...</td>\n",
       "      <td>...</td>\n",
       "      <td>...</td>\n",
       "      <td>...</td>\n",
       "      <td>...</td>\n",
       "      <td>...</td>\n",
       "      <td>...</td>\n",
       "      <td>...</td>\n",
       "      <td>...</td>\n",
       "      <td>...</td>\n",
       "    </tr>\n",
       "    <tr>\n",
       "      <th>995</th>\n",
       "      <td>TXT0996</td>\n",
       "      <td>Bikin bangga deh, Ganjar-Mahfud mau alokasikan...</td>\n",
       "      <td>bikin bangga deh ganjarmahfud mau alokasikan s...</td>\n",
       "      <td>1</td>\n",
       "      <td>3</td>\n",
       "      <td>0</td>\n",
       "      <td>1</td>\n",
       "      <td>7</td>\n",
       "      <td>0</td>\n",
       "      <td>2</td>\n",
       "      <td>6</td>\n",
       "      <td>#ganjarmahfud2024 #ganjarmahfudm3nang #l3bihbaik</td>\n",
       "    </tr>\n",
       "    <tr>\n",
       "      <th>996</th>\n",
       "      <td>TXT0997</td>\n",
       "      <td>Pak Jokowi sebelum pilpres 2024 berbesar hati ...</td>\n",
       "      <td>pak jokowi sebelum pilpres 2024 berbesar hati ...</td>\n",
       "      <td>0</td>\n",
       "      <td>0</td>\n",
       "      <td>0</td>\n",
       "      <td>3</td>\n",
       "      <td>0</td>\n",
       "      <td>0</td>\n",
       "      <td>0</td>\n",
       "      <td>0</td>\n",
       "      <td></td>\n",
       "    </tr>\n",
       "    <tr>\n",
       "      <th>997</th>\n",
       "      <td>TXT0998</td>\n",
       "      <td>@datuakrajoangek Sbaiknya si gemot nga usah ik...</td>\n",
       "      <td>sbaiknya si gemot nga usah ikutan debat dehnga...</td>\n",
       "      <td>1</td>\n",
       "      <td>0</td>\n",
       "      <td>2</td>\n",
       "      <td>0</td>\n",
       "      <td>0</td>\n",
       "      <td>0</td>\n",
       "      <td>0</td>\n",
       "      <td>0</td>\n",
       "      <td></td>\n",
       "    </tr>\n",
       "    <tr>\n",
       "      <th>998</th>\n",
       "      <td>TXT0999</td>\n",
       "      <td>kebiasaan merembuk atau bermusyawarah jadi gay...</td>\n",
       "      <td>kebiasaan merembuk atau bermusyawarah jadi gay...</td>\n",
       "      <td>0</td>\n",
       "      <td>1</td>\n",
       "      <td>0</td>\n",
       "      <td>1</td>\n",
       "      <td>1</td>\n",
       "      <td>0</td>\n",
       "      <td>0</td>\n",
       "      <td>1</td>\n",
       "      <td>#rembuganjar</td>\n",
       "    </tr>\n",
       "    <tr>\n",
       "      <th>999</th>\n",
       "      <td>TXT1000</td>\n",
       "      <td>Mirage Ditolak Juwono, Dibeli Prabowo, Jubir T...</td>\n",
       "      <td>mirage ditolak juwono dibeli prabowo jubir tim...</td>\n",
       "      <td>0</td>\n",
       "      <td>0</td>\n",
       "      <td>1</td>\n",
       "      <td>1</td>\n",
       "      <td>0</td>\n",
       "      <td>0</td>\n",
       "      <td>0</td>\n",
       "      <td>0</td>\n",
       "      <td></td>\n",
       "    </tr>\n",
       "  </tbody>\n",
       "</table>\n",
       "<p>1000 rows × 12 columns</p>\n",
       "</div>"
      ],
      "text/plain": [
       "      IDText                                               Text  \\\n",
       "0    TXT0001  Lu mau org2 pro-demokrasi di negara ini bisa p...   \n",
       "1    TXT0002  Prabowo ditanya soal hutang luar negeri dia me...   \n",
       "2    TXT0003  kiki_daliyo  Ganjar Pranowo itulah beliau soso...   \n",
       "3    TXT0004  @kumparan Prabowo Gibran yang bisa melakukan i...   \n",
       "4    TXT0005  @sniperruben45 @uda_zulhendra @ainunnajib Lah ...   \n",
       "..       ...                                                ...   \n",
       "995  TXT0996  Bikin bangga deh, Ganjar-Mahfud mau alokasikan...   \n",
       "996  TXT0997  Pak Jokowi sebelum pilpres 2024 berbesar hati ...   \n",
       "997  TXT0998  @datuakrajoangek Sbaiknya si gemot nga usah ik...   \n",
       "998  TXT0999  kebiasaan merembuk atau bermusyawarah jadi gay...   \n",
       "999  TXT1000  Mirage Ditolak Juwono, Dibeli Prabowo, Jubir T...   \n",
       "\n",
       "                                                  text  retweet  hashtag  \\\n",
       "0    lu mau org2 prodemokrasi di negara ini bisa pu...        0        0   \n",
       "1    prabowo ditanya soal hutang luar negeri dia me...        0        0   \n",
       "2    kiki_daliyo ganjar pranowo itulah beliau sosok...        0        6   \n",
       "3    prabowo gibran yang bisa melakukan itu semua d...        1        0   \n",
       "4    lah justru yg gak nyambung junjungan elu aomkm...        3        0   \n",
       "..                                                 ...      ...      ...   \n",
       "995  bikin bangga deh ganjarmahfud mau alokasikan s...        1        3   \n",
       "996  pak jokowi sebelum pilpres 2024 berbesar hati ...        0        0   \n",
       "997  sbaiknya si gemot nga usah ikutan debat dehnga...        1        0   \n",
       "998  kebiasaan merembuk atau bermusyawarah jadi gay...        0        1   \n",
       "999  mirage ditolak juwono dibeli prabowo jubir tim...        0        0   \n",
       "\n",
       "     count_1  count_2  count_3  count_tag_1  count_tag_2  count_tag_3  \\\n",
       "0          1        1        1            0            0            0   \n",
       "1          1        3        2            0            0            0   \n",
       "2          0        0        3            0            2           10   \n",
       "3          0        2        0            0            0            0   \n",
       "4          2        0        0            0            0            0   \n",
       "..       ...      ...      ...          ...          ...          ...   \n",
       "995        0        1        7            0            2            6   \n",
       "996        0        3        0            0            0            0   \n",
       "997        2        0        0            0            0            0   \n",
       "998        0        1        1            0            0            1   \n",
       "999        1        1        0            0            0            0   \n",
       "\n",
       "                                          hashtag_text  \n",
       "0                                                       \n",
       "1                                                       \n",
       "2    #ganjarmerawatpancasila #mahfud #mahfudlebihba...  \n",
       "3                                                       \n",
       "4                                                       \n",
       "..                                                 ...  \n",
       "995   #ganjarmahfud2024 #ganjarmahfudm3nang #l3bihbaik  \n",
       "996                                                     \n",
       "997                                                     \n",
       "998                                       #rembuganjar  \n",
       "999                                                     \n",
       "\n",
       "[1000 rows x 12 columns]"
      ]
     },
     "execution_count": 46,
     "metadata": {},
     "output_type": "execute_result"
    }
   ],
   "source": [
    "test"
   ]
  },
  {
   "cell_type": "code",
   "execution_count": 53,
   "metadata": {},
   "outputs": [
    {
     "name": "stdout",
     "output_type": "stream",
     "text": [
      "text\n",
      "False    973\n",
      "True      27\n",
      "Name: count, dtype: int64\n"
     ]
    }
   ],
   "source": [
    "words = ['gen z', 'berpendidikan', 'muda', 'pemilih muda', 'etnis', 'generasi', 'kalangan atas', 'kalangan menengah']\n",
    "\n",
    "print(test['text'].str.contains('|'.join(words)).value_counts())"
   ]
  },
  {
   "cell_type": "code",
   "execution_count": 57,
   "metadata": {},
   "outputs": [
    {
     "name": "stdout",
     "output_type": "stream",
     "text": [
      "text\n",
      "False    996\n",
      "True       4\n",
      "Name: count, dtype: int64\n"
     ]
    }
   ],
   "source": [
    "print(test['text'].str.contains('pulau').value_counts())"
   ]
  },
  {
   "cell_type": "code",
   "execution_count": 54,
   "metadata": {},
   "outputs": [
    {
     "data": {
      "text/plain": [
       "label\n",
       "Politik                    2972\n",
       "Sosial Budaya               587\n",
       "Pertahanan dan Keamanan     400\n",
       "Ideologi                    400\n",
       "Ekonomi                     367\n",
       "Sumber Daya Alam            192\n",
       "Demografi                    62\n",
       "Geografi                     20\n",
       "Name: count, dtype: int64"
      ]
     },
     "execution_count": 54,
     "metadata": {},
     "output_type": "execute_result"
    }
   ],
   "source": [
    "df['label'].value_counts()"
   ]
  },
  {
   "cell_type": "code",
   "execution_count": 55,
   "metadata": {},
   "outputs": [
    {
     "data": {
      "text/plain": [
       "0.0124"
      ]
     },
     "execution_count": 55,
     "metadata": {},
     "output_type": "execute_result"
    }
   ],
   "source": [
    "62/5000"
   ]
  },
  {
   "cell_type": "code",
   "execution_count": 56,
   "metadata": {},
   "outputs": [
    {
     "data": {
      "text/plain": [
       "0.027"
      ]
     },
     "execution_count": 56,
     "metadata": {},
     "output_type": "execute_result"
    }
   ],
   "source": [
    "27/1000"
   ]
  },
  {
   "cell_type": "code",
   "execution_count": 60,
   "metadata": {},
   "outputs": [
    {
     "data": {
      "text/plain": [
       "0.004"
      ]
     },
     "execution_count": 60,
     "metadata": {},
     "output_type": "execute_result"
    }
   ],
   "source": [
    "20/5000"
   ]
  },
  {
   "cell_type": "code",
   "execution_count": 61,
   "metadata": {},
   "outputs": [
    {
     "data": {
      "text/plain": [
       "0.004"
      ]
     },
     "execution_count": 61,
     "metadata": {},
     "output_type": "execute_result"
    }
   ],
   "source": [
    "4/1000"
   ]
  },
  {
   "cell_type": "code",
   "execution_count": 67,
   "metadata": {},
   "outputs": [
    {
     "data": {
      "text/html": [
       "<div>\n",
       "<style scoped>\n",
       "    .dataframe tbody tr th:only-of-type {\n",
       "        vertical-align: middle;\n",
       "    }\n",
       "\n",
       "    .dataframe tbody tr th {\n",
       "        vertical-align: top;\n",
       "    }\n",
       "\n",
       "    .dataframe thead th {\n",
       "        text-align: right;\n",
       "    }\n",
       "</style>\n",
       "<table border=\"1\" class=\"dataframe\">\n",
       "  <thead>\n",
       "    <tr style=\"text-align: right;\">\n",
       "      <th></th>\n",
       "      <th>index</th>\n",
       "      <th>IDText</th>\n",
       "      <th>Text</th>\n",
       "      <th>text</th>\n",
       "      <th>retweet</th>\n",
       "      <th>hashtag</th>\n",
       "      <th>count_1</th>\n",
       "      <th>count_2</th>\n",
       "      <th>count_3</th>\n",
       "      <th>count_tag_1</th>\n",
       "      <th>count_tag_2</th>\n",
       "      <th>count_tag_3</th>\n",
       "      <th>hashtag_text</th>\n",
       "    </tr>\n",
       "  </thead>\n",
       "  <tbody>\n",
       "    <tr>\n",
       "      <th>0</th>\n",
       "      <td>3</td>\n",
       "      <td>TXT0004</td>\n",
       "      <td>@kumparan Prabowo Gibran yang bisa melakukan i...</td>\n",
       "      <td>prabowo gibran yang bisa melakukan itu semua d...</td>\n",
       "      <td>1</td>\n",
       "      <td>0</td>\n",
       "      <td>0</td>\n",
       "      <td>2</td>\n",
       "      <td>0</td>\n",
       "      <td>0</td>\n",
       "      <td>0</td>\n",
       "      <td>0</td>\n",
       "      <td></td>\n",
       "    </tr>\n",
       "    <tr>\n",
       "      <th>1</th>\n",
       "      <td>6</td>\n",
       "      <td>TXT0007</td>\n",
       "      <td>Prabowo anti kebebasan pers\\n\\nhttps://t.co/7S...</td>\n",
       "      <td>prabowo anti kebebasan pers</td>\n",
       "      <td>0</td>\n",
       "      <td>0</td>\n",
       "      <td>0</td>\n",
       "      <td>1</td>\n",
       "      <td>0</td>\n",
       "      <td>0</td>\n",
       "      <td>0</td>\n",
       "      <td>0</td>\n",
       "      <td></td>\n",
       "    </tr>\n",
       "    <tr>\n",
       "      <th>2</th>\n",
       "      <td>7</td>\n",
       "      <td>TXT0008</td>\n",
       "      <td>Kontrak terbuka Ganjar Pranowo adalah cermin d...</td>\n",
       "      <td>kontrak terbuka ganjar pranowo adalah cermin d...</td>\n",
       "      <td>0</td>\n",
       "      <td>3</td>\n",
       "      <td>0</td>\n",
       "      <td>0</td>\n",
       "      <td>2</td>\n",
       "      <td>0</td>\n",
       "      <td>0</td>\n",
       "      <td>4</td>\n",
       "      <td>#jnk #ganjarmahfudrebound #ganjarpranowopiliha...</td>\n",
       "    </tr>\n",
       "  </tbody>\n",
       "</table>\n",
       "</div>"
      ],
      "text/plain": [
       "   index   IDText                                               Text  \\\n",
       "0      3  TXT0004  @kumparan Prabowo Gibran yang bisa melakukan i...   \n",
       "1      6  TXT0007  Prabowo anti kebebasan pers\\n\\nhttps://t.co/7S...   \n",
       "2      7  TXT0008  Kontrak terbuka Ganjar Pranowo adalah cermin d...   \n",
       "\n",
       "                                                text  retweet  hashtag  \\\n",
       "0  prabowo gibran yang bisa melakukan itu semua d...        1        0   \n",
       "1                        prabowo anti kebebasan pers        0        0   \n",
       "2  kontrak terbuka ganjar pranowo adalah cermin d...        0        3   \n",
       "\n",
       "   count_1  count_2  count_3  count_tag_1  count_tag_2  count_tag_3  \\\n",
       "0        0        2        0            0            0            0   \n",
       "1        0        1        0            0            0            0   \n",
       "2        0        0        2            0            0            4   \n",
       "\n",
       "                                        hashtag_text  \n",
       "0                                                     \n",
       "1                                                     \n",
       "2  #jnk #ganjarmahfudrebound #ganjarpranowopiliha...  "
      ]
     },
     "execution_count": 67,
     "metadata": {},
     "output_type": "execute_result"
    }
   ],
   "source": [
    "test.iloc[[3,6,7]].reset_index()"
   ]
  }
 ],
 "metadata": {
  "kernelspec": {
   "display_name": "Python 3",
   "language": "python",
   "name": "python3"
  },
  "language_info": {
   "codemirror_mode": {
    "name": "ipython",
    "version": 3
   },
   "file_extension": ".py",
   "mimetype": "text/x-python",
   "name": "python",
   "nbconvert_exporter": "python",
   "pygments_lexer": "ipython3",
   "version": "3.12.3"
  }
 },
 "nbformat": 4,
 "nbformat_minor": 2
}
