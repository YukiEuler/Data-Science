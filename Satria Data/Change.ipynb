{
 "cells": [
  {
   "cell_type": "code",
   "execution_count": 55,
   "metadata": {},
   "outputs": [],
   "source": [
    "import pandas as pd"
   ]
  },
  {
   "cell_type": "code",
   "execution_count": 56,
   "metadata": {},
   "outputs": [],
   "source": [
    "df = pd.read_csv('dataset_unlabeled_penyisihan_bdc_2024.csv', delimiter=';')"
   ]
  },
  {
   "cell_type": "code",
   "execution_count": 57,
   "metadata": {},
   "outputs": [],
   "source": [
    "sub = pd.read_csv('submission_1.csv', delimiter=';')"
   ]
  },
  {
   "cell_type": "code",
   "execution_count": 58,
   "metadata": {},
   "outputs": [],
   "source": [
    "import re\n",
    "def process_text(text):\n",
    "  # Counter\n",
    "  def count_at(text):\n",
    "    return text.count('@')\n",
    "  def count_hashtag(text):\n",
    "    return text.count('#')\n",
    "  #Preprocess\n",
    "  def retrieve_hashtags(text):\n",
    "    return \" \".join(re.findall(r'#\\S+', text))\n",
    "  def remove_retweet(text):\n",
    "    text = re.sub(r\"@\\S+ \", \"\", text)\n",
    "    return re.sub(r\"@\\S+$\", \"\", text)\n",
    "  def remove_hashtag(text):\n",
    "    text = re.sub(r\"#\\S+ \", \"\", text)\n",
    "    return re.sub(r\"#\\S+$\", \"\", text)\n",
    "  def remove_unwanted_string(text):\n",
    "    # Remove substrings containing unwanted characters\n",
    "    text = re.sub(r'\\S*[ÃÂš°µ]\\S*', '', text)\n",
    "    return text.strip()\n",
    "  def remove_rebrackets(text):\n",
    "    return re.sub(r'\\[RE[^\\]]*\\]', '', text)\n",
    "  def remove_urls(text):\n",
    "      # Remove URLs starting with https\n",
    "      return re.sub(r'https?://\\S+', '', text)\n",
    "  def preprocess_hashtag(text):\n",
    "    if(len(text)==0):\n",
    "      return 0,0,0\n",
    "    texted = text.split(\" \")\n",
    "    #print(texted)\n",
    "    hashtag_1 = ['01','amin','anies','imin','muhaimin','kosongsatu','1']\n",
    "    hashtag_2 = ['02','prabowo','gibran','kosongdua','indonesiasentris','2']\n",
    "    hashtag_3 = ['03','ganjar','mahfud','kosongtiga','jnk','3']\n",
    "    count_tag_1 = 0\n",
    "    count_tag_2 = 0\n",
    "    count_tag_3 = 0\n",
    "    for text in texted :\n",
    "      for word_to_match in hashtag_1:\n",
    "        match = re.search(word_to_match, text)\n",
    "        # Jika kecocokan ditemukan\n",
    "        if match:\n",
    "          count_tag_1 = count_tag_1 + 1\n",
    "          # print(f\"'{word_to_match}' matches with '{text}'\")\n",
    "      for word_to_match in hashtag_2:\n",
    "        match = re.search(word_to_match, text)\n",
    "        # Jika kecocokan ditemukan\n",
    "        if match:\n",
    "          count_tag_2 = count_tag_2 + 1\n",
    "          # print(f\"'{word_to_match}' matches with '{text}'\")\n",
    "      for word_to_match in hashtag_3:\n",
    "        match = re.search(word_to_match, text)\n",
    "        # Jika kecocokan ditemukan\n",
    "        if match:\n",
    "          count_tag_3 = count_tag_3 + 1\n",
    "          # print(f\"'{word_to_match}' matches with '{text}'\")\n",
    "    return count_tag_1, count_tag_2,count_tag_3\n",
    "  def count_paslon(text):\n",
    "    #Process the hashtag first\n",
    "    hashtag_text = retrieve_hashtags(text).lower()\n",
    "    # print(hashtag_text)\n",
    "    count_tag_1,count_tag_2,count_tag_3 = preprocess_hashtag(hashtag_text)\n",
    "    text = remove_hashtag(text)\n",
    "    # print(text)\n",
    "    text_split = re.sub(r'[^\\w\\s]', '', text.lower()).split()\n",
    "    # print(text_split)\n",
    "    paslon_1 = ['anies','muhaimin','imin','anis','01','waktunya','perubahan','amin' , 'asalbukanprabowo']\n",
    "    paslon_2 = ['prabowo','gibran','rakabuming','02','menhan','lanjutkan','gerindra','masbowo','anakmuda']\n",
    "    paslon_3 = ['ganjar','pranowo','mahfud','03','pdi','asalbukanprabowo','ganjarmahfud2024','ganjarmahfudsatset']\n",
    "    counter_01 = 0\n",
    "    counter_02 = 0\n",
    "    counter_03 = 0\n",
    "    for x in text_split:\n",
    "      for word_to_match in paslon_1:\n",
    "        match = re.search(word_to_match, x)\n",
    "        if match:\n",
    "          counter_01 = counter_01 + 1\n",
    "      for word_to_match in paslon_2:\n",
    "        match = re.search(word_to_match, x)\n",
    "        if match:\n",
    "          counter_02 = counter_02 + 1\n",
    "      for word_to_match in paslon_3:\n",
    "        match = re.search(word_to_match, x)\n",
    "        if match:\n",
    "          counter_03 = counter_03 + 1\n",
    "    return \" \".join(text_split),counter_01,counter_02,counter_03,count_tag_1,count_tag_2,count_tag_3,hashtag_text\n",
    "\n",
    "\n",
    "  count_att = count_at(text)\n",
    "  text = remove_retweet(text)\n",
    "  text = remove_urls(text)\n",
    "  text = remove_unwanted_string(text)\n",
    "  text = remove_rebrackets(text)\n",
    "  count_hashtag = count_hashtag(text)\n",
    "  text, count_1,count_2,count_3,count_tag_1,count_tag_2,count_tag_3,hashtag_text = count_paslon(text)\n",
    "  text = remove_hashtag(text)\n",
    "  return text,count_att,count_hashtag,count_1,count_2,count_3,count_tag_1,count_tag_2,count_tag_3,hashtag_text"
   ]
  },
  {
   "cell_type": "code",
   "execution_count": 59,
   "metadata": {},
   "outputs": [],
   "source": [
    "df['Text'] = df['Text'].str.replace('RT', '')\n",
    "df[['text', 'retweet', 'hashtag', 'count_1', 'count_2', 'count_3','count_tag_1','count_tag_2','count_tag_3','hashtag_text']] = df['Text'].apply(lambda x: pd.Series(process_text(x)))"
   ]
  },
  {
   "cell_type": "code",
   "execution_count": 60,
   "metadata": {},
   "outputs": [],
   "source": [
    "sub['Text'] = df['text']"
   ]
  },
  {
   "cell_type": "code",
   "execution_count": 61,
   "metadata": {},
   "outputs": [
    {
     "data": {
      "text/html": [
       "<div>\n",
       "<style scoped>\n",
       "    .dataframe tbody tr th:only-of-type {\n",
       "        vertical-align: middle;\n",
       "    }\n",
       "\n",
       "    .dataframe tbody tr th {\n",
       "        vertical-align: top;\n",
       "    }\n",
       "\n",
       "    .dataframe thead th {\n",
       "        text-align: right;\n",
       "    }\n",
       "</style>\n",
       "<table border=\"1\" class=\"dataframe\">\n",
       "  <thead>\n",
       "    <tr style=\"text-align: right;\">\n",
       "      <th></th>\n",
       "      <th>IDText</th>\n",
       "      <th>Kelas</th>\n",
       "      <th>Text</th>\n",
       "    </tr>\n",
       "  </thead>\n",
       "  <tbody>\n",
       "    <tr>\n",
       "      <th>0</th>\n",
       "      <td>TXT0001</td>\n",
       "      <td>Politik</td>\n",
       "      <td>lu mau org2 prodemokrasi di negara ini bisa pu...</td>\n",
       "    </tr>\n",
       "    <tr>\n",
       "      <th>1</th>\n",
       "      <td>TXT0002</td>\n",
       "      <td>Politik</td>\n",
       "      <td>prabowo ditanya soal hutang luar negeri dia me...</td>\n",
       "    </tr>\n",
       "    <tr>\n",
       "      <th>2</th>\n",
       "      <td>TXT0003</td>\n",
       "      <td>Ideologi</td>\n",
       "      <td>kiki_daliyo ganjar pranowo itulah beliau sosok...</td>\n",
       "    </tr>\n",
       "    <tr>\n",
       "      <th>3</th>\n",
       "      <td>TXT0004</td>\n",
       "      <td>Politik</td>\n",
       "      <td>prabowo gibran yang bisa melakukan itu semua d...</td>\n",
       "    </tr>\n",
       "    <tr>\n",
       "      <th>4</th>\n",
       "      <td>TXT0005</td>\n",
       "      <td>Ekonomi</td>\n",
       "      <td>lah justru yg gak nyambung junjungan elu aomkm...</td>\n",
       "    </tr>\n",
       "    <tr>\n",
       "      <th>...</th>\n",
       "      <td>...</td>\n",
       "      <td>...</td>\n",
       "      <td>...</td>\n",
       "    </tr>\n",
       "    <tr>\n",
       "      <th>995</th>\n",
       "      <td>TXT0996</td>\n",
       "      <td>Ekonomi</td>\n",
       "      <td>bikin bangga deh ganjarmahfud mau alokasikan s...</td>\n",
       "    </tr>\n",
       "    <tr>\n",
       "      <th>996</th>\n",
       "      <td>TXT0997</td>\n",
       "      <td>Politik</td>\n",
       "      <td>pak jokowi sebelum pilpres 2024 berbesar hati ...</td>\n",
       "    </tr>\n",
       "    <tr>\n",
       "      <th>997</th>\n",
       "      <td>TXT0998</td>\n",
       "      <td>Politik</td>\n",
       "      <td>sbaiknya si gemot nga usah ikutan debat dehnga...</td>\n",
       "    </tr>\n",
       "    <tr>\n",
       "      <th>998</th>\n",
       "      <td>TXT0999</td>\n",
       "      <td>Politik</td>\n",
       "      <td>kebiasaan merembuk atau bermusyawarah jadi gay...</td>\n",
       "    </tr>\n",
       "    <tr>\n",
       "      <th>999</th>\n",
       "      <td>TXT1000</td>\n",
       "      <td>Politik</td>\n",
       "      <td>mirage ditolak juwono dibeli prabowo jubir tim...</td>\n",
       "    </tr>\n",
       "  </tbody>\n",
       "</table>\n",
       "<p>1000 rows × 3 columns</p>\n",
       "</div>"
      ],
      "text/plain": [
       "      IDText     Kelas                                               Text\n",
       "0    TXT0001   Politik  lu mau org2 prodemokrasi di negara ini bisa pu...\n",
       "1    TXT0002   Politik  prabowo ditanya soal hutang luar negeri dia me...\n",
       "2    TXT0003  Ideologi  kiki_daliyo ganjar pranowo itulah beliau sosok...\n",
       "3    TXT0004   Politik  prabowo gibran yang bisa melakukan itu semua d...\n",
       "4    TXT0005   Ekonomi  lah justru yg gak nyambung junjungan elu aomkm...\n",
       "..       ...       ...                                                ...\n",
       "995  TXT0996   Ekonomi  bikin bangga deh ganjarmahfud mau alokasikan s...\n",
       "996  TXT0997   Politik  pak jokowi sebelum pilpres 2024 berbesar hati ...\n",
       "997  TXT0998   Politik  sbaiknya si gemot nga usah ikutan debat dehnga...\n",
       "998  TXT0999   Politik  kebiasaan merembuk atau bermusyawarah jadi gay...\n",
       "999  TXT1000   Politik  mirage ditolak juwono dibeli prabowo jubir tim...\n",
       "\n",
       "[1000 rows x 3 columns]"
      ]
     },
     "execution_count": 61,
     "metadata": {},
     "output_type": "execute_result"
    }
   ],
   "source": [
    "sub"
   ]
  },
  {
   "cell_type": "code",
   "execution_count": 62,
   "metadata": {},
   "outputs": [],
   "source": [
    "words = ['gen z', 'berpendidikan', 'muda', 'pemilih muda', 'etnis', 'generasi tua', 'generasi muda', 'kalangan atas', 'kalangan menengah']\n",
    "# sub.loc[sub['Text'].str.contains('|'.join(words)), 'Kelas'] = 'Demografi'"
   ]
  },
  {
   "cell_type": "code",
   "execution_count": 63,
   "metadata": {},
   "outputs": [
    {
     "data": {
      "text/plain": [
       "Kelas\n",
       "Politik                    780\n",
       "Ekonomi                    105\n",
       "Pertahanan dan Keamanan     52\n",
       "Sosial Budaya               30\n",
       "Ideologi                    21\n",
       "Sumber Daya Alam            10\n",
       "Demografi                    1\n",
       "Geografi                     1\n",
       "Name: count, dtype: int64"
      ]
     },
     "execution_count": 63,
     "metadata": {},
     "output_type": "execute_result"
    }
   ],
   "source": [
    "sub['Kelas'].value_counts()"
   ]
  },
  {
   "cell_type": "code",
   "execution_count": 75,
   "metadata": {},
   "outputs": [],
   "source": [
    "sub.loc[(sub['Text'].str.contains('|'.join(words))) & (sub['Kelas'] == 'Politik'), 'Kelas'] = 'Demografi'"
   ]
  },
  {
   "cell_type": "code",
   "execution_count": 71,
   "metadata": {},
   "outputs": [],
   "source": [
    "sub.loc[sub['Text'].str.contains('pulau'), 'Kelas'] = 'Geografi'"
   ]
  },
  {
   "cell_type": "code",
   "execution_count": 76,
   "metadata": {},
   "outputs": [
    {
     "name": "stdout",
     "output_type": "stream",
     "text": [
      "kampanye politik anies dalam pilgub dki mempengaruhi dinamika masyarakat di mana generasi tua memendam kebencian yang sulit diperbaiki oleh generasi muda berdampak pada kohesi sosial antar kelompok usia dalam populasi\n",
      "====================================================================================================\n",
      "abah online meroket figur pak anies semakin populer di kalangan anak anak milenial dan anakanak genz gagasan dan gaya komunikasi pak anies tentu berhasil memikat anak anak muda terutama anak anak genz dan ini memberi warna baru dalam kancah berpoltikan\n",
      "====================================================================================================\n",
      "sampai kapan kubu prabowo bodohi rakyat oleh tiand raharjo sangat menggelitik sebenarnya melihat kubu prabowogibran dengan masif mengampanyekan pilpres satu putaran dengan alasan menghemat uang negara ini tentu pembodohan sekaligus pengkerdilan yang luar biasa terhadap hakhak rakyat kemungkinan prabowo kalah di putaran dua memang sangat besar dan narasi itu mudah kita tebak hanya untuk menutupi kepanikan yang makin mendera kubu mereka bayangkan saja segala infrastruktur negara sudah dipakai dari mulai aparat hingga penjabat kepala daerah juga sudah dilibatkan untuk memenangkan prabowogibran tapi hasil surveinya masih saja mentok tak kunjung mencapai 50 persen itu adalah fakta yang sulit dibantah kita tahu beberapa hari lalu sempat viral foto pj gubernur jateng nana menjemput prabowo dan tim kampanyenya di bandara ahmadyani saat perayaan hut psi kapasitas prabowo saat itu jelas bukan sebagai menteri melainkan capres apakah anda percaya nana bakal diam saja dan tidak berusaha menambal suara untuk prabowo dengan posisinya saat ini namun ternyata masyarakat tak mudah ditekan dan itulah yang terjadi di lapangan masyarakat tetap berpegang teguh dengan pendirian untuk menentukan siapa sosok yang layak memimpin negeri ini dan prabowo rupanya jauh dari figur yang diharapkan barangkali bukan hanya jejak masa lalunya yang hitam namun juga karena kinerjakinerjanya yang justru kerap menyodorkan kegagalan contoh konkret adalah mangkraknya food estate yang menghabiskan duit negara triliunan rakyat adalah pembaca peristiwa yang baik jika melihat pelanggaran pada pilpres kali ini yang paling banyak memang kubu prabowo bukan hanya pelanggaran sebetulnya namun juga arogansi dan kesewenangwenangan yang mereka perlihatkan dengan beringas dari mulai mempermainkan hukum lewat mahkamah konstitusi perusakan baliho kubu rival hingga tindakantindakan intimidatif pada putaran kedua sudah pasti seluruh akal sehat dan nalar publik akan bersatu membakar semangat untuk mencegah kesewenangwenangan itu berkuasa inilah yang bikin kubu prabowo ketakutan bukan main dan mulai menyenandungkan halhal konyol kita percaya daulat akan selamanya berada di tangan rakyat tak ada yang bisa membendung tekad yang sudah membara menyalanyala belum lagi jika kita bicara soal logistik kubu prabowo mungkin saja keteteran di putaran kedua karena kampanye saat ini yang sudah begitu masif baliho bertebaran dimanamana iklan media sosial yang nilai biayanya sangat fantastis belum lagi biaya publik figur yang mereka gunakan sebagai buzzer dan hasilnya justru bikin mereka uringuringan geram bukan kepalang para pelaku survei kredibel beberapa kali bahkan menyebutkan tidak ditemukan adanya data bahwa pilpres akan terjadi satu putaran jika melihat hasil survei saat ini peluang besar putaran kedua prabowo akan berhadaphadapan dengan ganjar pranowo\n",
      "====================================================================================================\n",
      "menarik ganjarmahfud tampaknya fokus pada memudahkan akses masyarakat terhadap layanan hukum ini akan mendukung investasi happy new year ganjarmahfud2024 ganjarmahfudm3nang\n",
      "====================================================================================================\n",
      "padahal pertanyaan2 anies bisa dijawab dengan mudah oleh prabowo karena dia yg pegang menhan 4 tahun ini disinggung kesejahteraan tni malah plonga plongo disenggol food estate pundung emang kosong silakan lanjut cebokin zar\n",
      "====================================================================================================\n",
      "tim nasional pemenangan anies baswedanmuhaimin iskandar timnas amin mengatakan gerakan di dunia maya dan media sosial dukungan kepada amin merupakan hasil organik karena pihaknya tidak mempunyai uang ketika harus membayar influencer salah satu sasaran pemilih itu generasi muda dan tiktok menjadi sarana untuk menyampaikan visi dan misi pasangan amin kami tidak mempunyai duit untuk influencer ujar wakil deputi konten kreator timnas amin sonny muhammad jumat 512024 simak berita selengkapnya hanya di\n",
      "====================================================================================================\n",
      "jangan mudah terpengaruh ganjar jamin bansos tetap ada ktp sakti tonggak menuju kesejahteraan yang merata\n",
      "====================================================================================================\n",
      "prabowogibran yang mengutamakan pengembangan pemuda salah satunya dengan menempatkan anak muda dalam posisi strategis menyambut bonus demografi indonesia sebagai titik awal menuju indonesia emas 2045\n",
      "====================================================================================================\n",
      "viral ganjar live tiktok bertanya soal kesehatan mental ke anak muda\n",
      "====================================================================================================\n",
      "ganjar pranowo akan beri ruang bagi anak muda untuk masuk ke semuakerja ganjaruntuksemua ganjar mahfud hebat\n",
      "====================================================================================================\n",
      "fear mongering ya anda tidak salah membaca tulisan ini adalah upaya framing terhadap prabowo dan gibran tulisan ini adalah pendapat saya tentang kondisi yang akan terjadi jika mereka berdua terpilih sebagai presiden dan wakil presiden ri tulisan ini dibuat untuk membuat anda berpikir ulang untuk memilih mereka berdua tulisan ini adalah negative campaign sebagai counter argument untuk semua gimmick suka cita riang gembira dan move on berkaca pada pengalaman debat capres dan debat cawapres terlepas apapun yang prabowo dan gibran sampaikan terlepas dari argumen dan kontra argumen yang mereka berdua sampaikan saya melihat ada kecenderungan uncontrolled emotional outburst yang tua tampak menunjuk2 lawan bicara yang muda tampak provokatif dengan menjadi pemandu sorak di kedua debat dan ini adalah wajah dari orang2 yang mungkin akan menjadi pucuk pimpinan tertinggi dari republik indonesia jika anda tidak segera berpikir ulang lalu apa yang membuat kita harus berpikir ulang netizen a bukankah sejak ada amandemen kekuasaan presiden sudah direduksi dan diseimbangkan dengan menguatnya kekuasaan legislatif dan yudikatif jangan lupa besaran gaji anggota dpr dan gaji hakim ditentukan melalui peraturan pemerintah jangan lupa besaran tunjangan anggota dpr dan hakim ditentukan oleh keputusan presiden jangan lupa sebagian besar anggota dpr adalah orang2 yang belum selesai dengan hidupnya mereka masih mencari penghasilan penghasilan yang jika jujur dan tidak mencari proyekan ditentukan besarannya oleh pemerintah cq presiden dan wapres jika presiden berhalangan tetap dengan bargaining position seperti itu apakah legislatif dan yudikatif bisa fair dalam menilai danatau mengawasi tindak tanduk pemerintah tidak ini bisa menjadi lebih parah jika koalisi pengusung presiden mendominasi legislatif ketua umum partai jadi presiden ketua umum partai jadi menteri so lupakan saja fungsi check and balance dari legislatif anggap saja kewenangan pemerintah dengan persetujuan dpr yang diatur di dalam uud sama dengan kewenangan pemerintah saja karena dpr pasti setuju ketiadaan fungsi check and balance dari legislatif ditambah dengan kecenderungan uncontrolled emotional outburst dari presiden yang jika berhalangan tetap digantikan wapres mestinya membuat kita berpikir ulang untuk mencoblos prabowo dan gibran dalam pilpres tahun berapapun pikir ulang sebelum memilih prabowo dia punya hutang masa lalu yang belum diselesaikan sebagai salah satu ketua umum dari partai yg dominan di dpr dia bisa mengusulkan untuk membentuk peradilan ham untuk memeriksa dan memutus semua gosip 5 tahunan yang melekat pada dirinya pikir ulang sebelum memilih gibran dia bukan anak muda terbaik yang dimiliki oleh indonesia dia ada di kertas suara karena dia adalah anak presiden anak presiden yang konon kabarnya berprestasi bukan anak muda yang berprestasi dan kebetulan anak presiden pikir ulang sebelum memilih mereka berdua mereka adalah pasangan yang menikmati keputusan yang diambil dalam kondisi ada pelanggaran etik formulanya dapat disimpulkan sebagai berikut jika mereka berdua terpilih indonesia akan dipimpin oleh sepasang manusia dengan kecenderungan uncontrolled emotional outburst penikmat nir etika ketiadaan check and balance legislatif dan yudikatif bayangkan formula di atas sebelum anda menentukan pilihan anda bayangkan formula di atas saat anda mulai terbuai dengan move on gemoy hilirisasi dsb\n",
      "====================================================================================================\n",
      "orang bilang mesti nya mas anies berpasangan dg prof mahfud mas anies sudah betul berpasangan dg cak imin prof mahfud memiliki segmen yg sama dg mas anies yakni kelas atas menengah cerdik pandai tapi cak imin memiliki segmen kaum boomers amp milenial desa nu yg solid\n",
      "====================================================================================================\n",
      "sosok yang inspiratif ganjar memberikan motivasi kepada generasi muda untuk ikut berkontribusi dalam memajukan daerahnya\n",
      "====================================================================================================\n",
      "teruntuk gen z yang baru perdana ikut pilpres 2024 nanti mgkn blm tahu sejarah di 2019 lalu 2019 lalu ps berjanji akan berjuang bersama rakyat indonesia dg timbul dan tenggelam tidak meninggalkan para pendukungnya harapannya ps tetap jd oposisi agar jd penyeimbang pemerintah tp ternyata ps tidak tahan utk jd oposisi diluar pemerintah dan masuk dalam pemerintahan itulah kenapa kami mantan pendukungnya sangat kecewa atas komitmen yg diucapkan tidak bisa dipegang di 2024 banyak para pendukung militan di 2014 dan 2019 eksodus mengalihkan dukungan ke pasangan anies muhaimin yg dianggap bs memberikan perubahan buat indonesia adil dan makmur karena pemimpin yg dipegang adalah omongannya bila komitmennya tdk bisa dipegang maka apalagi yg dpt dijaminkan kalau jd presiden dia akan bisa amanah\n",
      "====================================================================================================\n",
      "organik itu menarik buat liat hasilnya nanti sebab militansi dan basis jaringan kpopers udah dari dulu diincar politisi saban pilkadapilpres coba gandeng salah satu fandom berujung gagal karena kpop gak suka diseret ke ranah politik kalau gini sih bakal putaran ke dua antara 01 dan 02 03 masih berbenah selain karena isu soliditas pdip ditambah beberapa kader ppp yg khawatir parliamentary threshold gak goal jika tetep di koalisi ituah sebab memilih pindah sekarang ppp lagi proses pecatin kader yg nyebrang 2024 jadi titik balik kpopers mereka lintas fandom ratarata menyatakan dukung 01 dgn cara mereka sendiri secara sukarela buat gerakin satu fandom tuh gak mudah apalagi itu bubble lintas fandom makanya capaian anies imin gokil walaupun kemaren ada gesekan internal antara ahmad ali dan sudirman said ya udah ganti percakapannya soal live tiktok anies dan dukungan kpop ke amin\n",
      "====================================================================================================\n",
      "usia anies rb saat itu tidak jauh beda dengan usia gibran bobby atau giring dan kaesang namun kualitas kemampuan intelektual muda yang sama sangat jauh beda wacapres 2024 makin tak mutu saat nepo boy nir etika diorbitkan karbitan no capability\n",
      "====================================================================================================\n",
      "jangan mudah terpengaruh ganjar jamin bansos tetap ada ktp sakti tonggak menuju kesejahteraan yang merata\n",
      "====================================================================================================\n",
      "apa yang dicari generasi muda di pilpres 2024 yang pasti mereka tidak akan memilih orang tua untuk menjadi presiden dari semua paslon caprescawapres hanya ganjar yang memberikan bukti hasil kerja dan program realistis pada 2024\n",
      "====================================================================================================\n",
      "ganjar pranowo tugas pemerintah adalah memberikan kesempatan atau ruang bagi anakanak muda untuk dapat masuk ke d sistem pemerintahan ganjar mahfud hebat sikat kkn\n",
      "====================================================================================================\n",
      "heppy weekend sis dan bro tadi pagi mas ketum kaesang dan brojen raja juli antoni berkunjung ke rumah relawan pemenangan prabowogibran provinsi setibanya di sana mas ketum kaesang disambut kreativitas warga setempat yaitu tarian barongsai emang boleh sekeren ini pertemuan dihadiri beberapa organ relawan yakni bolonemase projo bara jp sedulur jokowi penerus negeri jarnas 98 rejo pro dan pandawa lima setelah ngobrol tipistipis dengan para relawan mas ketum membuka acara yang dijamin anak muda pasti suka nih ada yang tau apa acaranya yes betul banget kompetisi mobile legend nama acaranya adalah gemoy esport tiga tahun lalu saya masih main mobile legend dan skill saya masih bagus kalau temanteman punya kesempatan bermain dengan mas gibran tolong jangan soalnya cupu tapi tenang kalau urusan debat beliau itu suhu kata mas ketum lalu ada momen yang seru nih salah satu peserta sempat salah menyapa mas kaesang dengan menyebut ketika dipanggil mas gibran saya seneng aja siapa tahu bisa gabung ke psi siapa tahu psi bisa naik ucap mas kaesang buat para peserta selamat bertanding jangan lupa ikut jokowi pilih menang satu\n",
      "====================================================================================================\n"
     ]
    }
   ],
   "source": [
    "for elm in sub[sub['Kelas'] == 'Demografi']['Text']:\n",
    "    print(elm + '\\n' + '='*100)"
   ]
  },
  {
   "cell_type": "code",
   "execution_count": 77,
   "metadata": {},
   "outputs": [
    {
     "data": {
      "text/plain": [
       "Kelas\n",
       "Politik                    761\n",
       "Ekonomi                    104\n",
       "Pertahanan dan Keamanan     51\n",
       "Sosial Budaya               30\n",
       "Ideologi                    21\n",
       "Demografi                   20\n",
       "Sumber Daya Alam             9\n",
       "Geografi                     4\n",
       "Name: count, dtype: int64"
      ]
     },
     "execution_count": 77,
     "metadata": {},
     "output_type": "execute_result"
    }
   ],
   "source": [
    "sub['Kelas'].value_counts()"
   ]
  },
  {
   "cell_type": "code",
   "execution_count": 67,
   "metadata": {},
   "outputs": [],
   "source": [
    "asli = pd.read_csv('df.csv', delimiter=';')"
   ]
  },
  {
   "cell_type": "code",
   "execution_count": 68,
   "metadata": {},
   "outputs": [
    {
     "data": {
      "text/plain": [
       "label\n",
       "Politik                    2972\n",
       "Sosial Budaya               587\n",
       "Pertahanan dan Keamanan     400\n",
       "Ideologi                    400\n",
       "Ekonomi                     367\n",
       "Sumber Daya Alam            192\n",
       "Demografi                    62\n",
       "Geografi                     20\n",
       "Name: count, dtype: int64"
      ]
     },
     "execution_count": 68,
     "metadata": {},
     "output_type": "execute_result"
    }
   ],
   "source": [
    "asli['label'].value_counts()"
   ]
  },
  {
   "cell_type": "code",
   "execution_count": 78,
   "metadata": {},
   "outputs": [],
   "source": [
    "cekkk = pd.read_csv('submission_1.csv', delimiter=';')"
   ]
  },
  {
   "cell_type": "code",
   "execution_count": 79,
   "metadata": {},
   "outputs": [
    {
     "data": {
      "text/plain": [
       "Kelas\n",
       "Politik                    780\n",
       "Ekonomi                    105\n",
       "Pertahanan dan Keamanan     52\n",
       "Sosial Budaya               30\n",
       "Ideologi                    21\n",
       "Sumber Daya Alam            10\n",
       "Demografi                    1\n",
       "Geografi                     1\n",
       "Name: count, dtype: int64"
      ]
     },
     "execution_count": 79,
     "metadata": {},
     "output_type": "execute_result"
    }
   ],
   "source": [
    "cekkk['Kelas'].value_counts()"
   ]
  },
  {
   "cell_type": "code",
   "execution_count": 84,
   "metadata": {},
   "outputs": [],
   "source": [
    "sub[['IDText', 'Kelas']].to_csv('SD2024040000318.csv', index=False)"
   ]
  },
  {
   "cell_type": "code",
   "execution_count": 86,
   "metadata": {},
   "outputs": [
    {
     "data": {
      "text/plain": [
       "'lu mau org2 prodemokrasi di negara ini bisa punya kesempatan lagi buat ngelawan oligarki di indo pilih amin tpi jangan pilih pks pilih partai buruh jangan pilih prabowo dan semua partai pengusungnya pilih gama tpi jangan pilih pdip pilih partai buruh'"
      ]
     },
     "execution_count": 86,
     "metadata": {},
     "output_type": "execute_result"
    }
   ],
   "source": [
    "sub['Text'][0]"
   ]
  }
 ],
 "metadata": {
  "kernelspec": {
   "display_name": "Python 3",
   "language": "python",
   "name": "python3"
  },
  "language_info": {
   "codemirror_mode": {
    "name": "ipython",
    "version": 3
   },
   "file_extension": ".py",
   "mimetype": "text/x-python",
   "name": "python",
   "nbconvert_exporter": "python",
   "pygments_lexer": "ipython3",
   "version": "3.12.3"
  }
 },
 "nbformat": 4,
 "nbformat_minor": 2
}
