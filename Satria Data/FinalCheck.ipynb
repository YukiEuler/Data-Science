{
 "cells": [
  {
   "cell_type": "code",
   "execution_count": 70,
   "metadata": {},
   "outputs": [],
   "source": [
    "import pandas as pd"
   ]
  },
  {
   "cell_type": "code",
   "execution_count": 71,
   "metadata": {},
   "outputs": [],
   "source": [
    "df = pd.read_csv('FinalSubmissionv2.csv')"
   ]
  },
  {
   "cell_type": "code",
   "execution_count": 72,
   "metadata": {},
   "outputs": [],
   "source": [
    "df.drop('Unnamed: 0', axis=1, inplace=True)"
   ]
  },
  {
   "cell_type": "code",
   "execution_count": 73,
   "metadata": {},
   "outputs": [],
   "source": [
    "asli = pd.read_csv('df.csv', delimiter=';')"
   ]
  },
  {
   "cell_type": "code",
   "execution_count": 74,
   "metadata": {},
   "outputs": [
    {
     "data": {
      "text/plain": [
       "Kelas\n",
       "Politik                    0.775\n",
       "Ekonomi                    0.111\n",
       "Pertahanan dan Keamanan    0.065\n",
       "Sosial Budaya              0.022\n",
       "Ideologi                   0.015\n",
       "Sumber Daya Alam           0.008\n",
       "Demografi                  0.004\n",
       "Name: count, dtype: float64"
      ]
     },
     "execution_count": 74,
     "metadata": {},
     "output_type": "execute_result"
    }
   ],
   "source": [
    "df['Kelas'].value_counts() / 1000"
   ]
  },
  {
   "cell_type": "code",
   "execution_count": 75,
   "metadata": {},
   "outputs": [
    {
     "data": {
      "text/plain": [
       "label\n",
       "Politik                    0.5944\n",
       "Sosial Budaya              0.1174\n",
       "Pertahanan dan Keamanan    0.0800\n",
       "Ideologi                   0.0800\n",
       "Ekonomi                    0.0734\n",
       "Sumber Daya Alam           0.0384\n",
       "Demografi                  0.0124\n",
       "Geografi                   0.0040\n",
       "Name: count, dtype: float64"
      ]
     },
     "execution_count": 75,
     "metadata": {},
     "output_type": "execute_result"
    }
   ],
   "source": [
    "asli['label'].value_counts() / 5000"
   ]
  },
  {
   "cell_type": "code",
   "execution_count": 76,
   "metadata": {},
   "outputs": [],
   "source": [
    "maybe = pd.read_csv('data/SD2024040000318.csv')"
   ]
  },
  {
   "cell_type": "code",
   "execution_count": 77,
   "metadata": {},
   "outputs": [
    {
     "name": "stdout",
     "output_type": "stream",
     "text": [
      "                         precision    recall  f1-score   support\n",
      "\n",
      "              Demografi       0.50      0.13      0.21        15\n",
      "                Ekonomi       0.86      0.90      0.88       107\n",
      "               Geografi       0.00      0.00      0.00         5\n",
      "               Ideologi       0.47      0.10      0.17        68\n",
      "Pertahanan dan Keamanan       0.75      0.79      0.77        62\n",
      "                Politik       0.82      0.95      0.88       666\n",
      "          Sosial Budaya       0.68      0.24      0.35        63\n",
      "       Sumber Daya Alam       0.50      0.29      0.36        14\n",
      "\n",
      "               accuracy                           0.81      1000\n",
      "              macro avg       0.57      0.43      0.45      1000\n",
      "           weighted avg       0.77      0.81      0.77      1000\n",
      "\n"
     ]
    },
    {
     "name": "stderr",
     "output_type": "stream",
     "text": [
      "c:\\Users\\User\\AppData\\Local\\Programs\\Python\\Python312\\Lib\\site-packages\\sklearn\\metrics\\_classification.py:1517: UndefinedMetricWarning: Precision is ill-defined and being set to 0.0 in labels with no predicted samples. Use `zero_division` parameter to control this behavior.\n",
      "  _warn_prf(average, modifier, f\"{metric.capitalize()} is\", len(result))\n",
      "c:\\Users\\User\\AppData\\Local\\Programs\\Python\\Python312\\Lib\\site-packages\\sklearn\\metrics\\_classification.py:1517: UndefinedMetricWarning: Precision is ill-defined and being set to 0.0 in labels with no predicted samples. Use `zero_division` parameter to control this behavior.\n",
      "  _warn_prf(average, modifier, f\"{metric.capitalize()} is\", len(result))\n",
      "c:\\Users\\User\\AppData\\Local\\Programs\\Python\\Python312\\Lib\\site-packages\\sklearn\\metrics\\_classification.py:1517: UndefinedMetricWarning: Precision is ill-defined and being set to 0.0 in labels with no predicted samples. Use `zero_division` parameter to control this behavior.\n",
      "  _warn_prf(average, modifier, f\"{metric.capitalize()} is\", len(result))\n"
     ]
    }
   ],
   "source": [
    "from sklearn.metrics import classification_report\n",
    "print(classification_report(maybe['Kelas'], df['Kelas']))"
   ]
  },
  {
   "cell_type": "code",
   "execution_count": 78,
   "metadata": {},
   "outputs": [
    {
     "name": "stdout",
     "output_type": "stream",
     "text": [
      "0.808\n"
     ]
    }
   ],
   "source": [
    "from sklearn.metrics import accuracy_score\n",
    "\n",
    "accuracy = accuracy_score(maybe['Kelas'], df['Kelas'])\n",
    "print(accuracy)"
   ]
  },
  {
   "cell_type": "code",
   "execution_count": 79,
   "metadata": {},
   "outputs": [
    {
     "name": "stdout",
     "output_type": "stream",
     "text": [
      "                         precision    recall  f1-score   support\n",
      "\n",
      "              Demografi       0.13      0.50      0.21         4\n",
      "                Ekonomi       0.90      0.86      0.88       111\n",
      "               Geografi       0.00      0.00      0.00         0\n",
      "               Ideologi       0.10      0.47      0.17        15\n",
      "Pertahanan dan Keamanan       0.79      0.75      0.77        65\n",
      "                Politik       0.95      0.82      0.88       775\n",
      "          Sosial Budaya       0.24      0.68      0.35        22\n",
      "       Sumber Daya Alam       0.29      0.50      0.36         8\n",
      "\n",
      "               accuracy                           0.81      1000\n",
      "              macro avg       0.43      0.57      0.45      1000\n",
      "           weighted avg       0.90      0.81      0.84      1000\n",
      "\n"
     ]
    },
    {
     "name": "stderr",
     "output_type": "stream",
     "text": [
      "c:\\Users\\User\\AppData\\Local\\Programs\\Python\\Python312\\Lib\\site-packages\\sklearn\\metrics\\_classification.py:1517: UndefinedMetricWarning: Recall is ill-defined and being set to 0.0 in labels with no true samples. Use `zero_division` parameter to control this behavior.\n",
      "  _warn_prf(average, modifier, f\"{metric.capitalize()} is\", len(result))\n",
      "c:\\Users\\User\\AppData\\Local\\Programs\\Python\\Python312\\Lib\\site-packages\\sklearn\\metrics\\_classification.py:1517: UndefinedMetricWarning: Recall is ill-defined and being set to 0.0 in labels with no true samples. Use `zero_division` parameter to control this behavior.\n",
      "  _warn_prf(average, modifier, f\"{metric.capitalize()} is\", len(result))\n",
      "c:\\Users\\User\\AppData\\Local\\Programs\\Python\\Python312\\Lib\\site-packages\\sklearn\\metrics\\_classification.py:1517: UndefinedMetricWarning: Recall is ill-defined and being set to 0.0 in labels with no true samples. Use `zero_division` parameter to control this behavior.\n",
      "  _warn_prf(average, modifier, f\"{metric.capitalize()} is\", len(result))\n"
     ]
    }
   ],
   "source": [
    "print(classification_report(df['Kelas'], maybe['Kelas']))"
   ]
  },
  {
   "cell_type": "code",
   "execution_count": 80,
   "metadata": {},
   "outputs": [],
   "source": [
    "test = pd.read_csv('dataset_unlabeled_penyisihan_bdc_2024.csv', delimiter=';')"
   ]
  },
  {
   "cell_type": "code",
   "execution_count": 81,
   "metadata": {},
   "outputs": [],
   "source": [
    "maybe['text'] = test['Text']"
   ]
  },
  {
   "cell_type": "code",
   "execution_count": 82,
   "metadata": {},
   "outputs": [
    {
     "name": "stdout",
     "output_type": "stream",
     "text": [
      "@RM55Bn/jTOYBntGhLJUBSxbB+yKFrIWQVNDlunZ3qJo= @Nhmw096c2GxBV8+mwzNDoy6GpwXedLhaiEXKudEnO8s= @JupboPaPSlW9++zMIRZLL4qb36IubVN8gCnCwqqEPLw= Apalagi kita sebgai negara kepulauan. Bagian pasifik utara kita harus punya 3 Selatan 2. Bagian barat 3 dan timur 2.  ngra di dua samudra . Colek pak @gMG3cXk1x4nZ4v4fCBxdzeVFP35ZJll838I3xfJxoS8=\n",
      "@CsoUSFGxOYIuCzVuM6elGg23Rr/1ECBS8Ptp8k0aQyQ= PIK island yg dulu disegel anies itu jakarta. maen2 lah ke pik ke jembatan perbatasan jkt banten biar tau mana yg selesai\n",
      "@KTqWCKoRB3mO8d9ysnqimUxwr6XjeebPa0b7eldJKs0= @VjzeCqMtAbgvkuDY7ZadusRbWKhhsYWILfmBrJv8V00= Reklamasi Jokuwi Ahok itu 17 Pulau, dihentikan Anies menjadi 3Ã‚Â½ Pulau saja.. Dulu Pulau Reklamasi itu tertutup untuk rakyat, setelah dihentikan Anies kemudian dibuka untuk umum..\n",
      "@H/EqAXex69zeXoYlup5j0l0GJ4Y/uJKeH7OhmihxL3g= @aR6Gu9UkUVOCAn26FLNgBYKoJTY5gXaWwv8pm1R1oak= @1Dnm/Z6aYYkytHTiEti21yYt9PAq2QKX5rZ5Smn29iw= Kalau memang masuk ke Banten, ngapain Anies sampai mengubah reklamasi menjadi kawasan pantai? Pulau C, D, G diubah menjadi nama Pantai Maju, Pantai Kita, Pantai Bersama. Secara administratif wilayah dan tata ruang, pulau ini masuk ke Jakarta Utara. https://t.co/3XM1CGerWy\n",
      "BUAT PENDUKUNG ANIS SAMA IMIN SAMA GANJAR NOH UDAH BAGUS GA JATUH KE TANGAN SINGAPORE, KALO JATUH KE NEGARA ASING TANAH NYA YANG DI SALAHIN PEMERINTAHÃ°ÂŸÂ˜Â \n",
      "#PrabowoGibran2024 #SlepetImin #ANISSUKAMEMBUAL #anis500hektar #lahanprabowo #tanahprabowo #debatcapres2024 #ganjarrempang https://t.co/AfITLYjkqP\n"
     ]
    }
   ],
   "source": [
    "for elm in maybe[maybe['Kelas'] == 'Geografi']['text']:\n",
    "    print(elm)"
   ]
  },
  {
   "cell_type": "code",
   "execution_count": 83,
   "metadata": {},
   "outputs": [],
   "source": [
    "import re\n",
    "def process_text(text):\n",
    "  # Counter\n",
    "  def count_at(text):\n",
    "    return text.count('@')\n",
    "  def count_hashtag(text):\n",
    "    return text.count('#')\n",
    "  #Preprocess\n",
    "  def retrieve_hashtags(text):\n",
    "    return \" \".join(re.findall(r'#\\S+', text))\n",
    "  def remove_retweet(text):\n",
    "    text = re.sub(r\"@\\S+ \", \"\", text)\n",
    "    return re.sub(r\"@\\S+$\", \"\", text)\n",
    "  def remove_hashtag(text):\n",
    "    text = re.sub(r\"#\\S+ \", \"\", text)\n",
    "    return re.sub(r\"#\\S+$\", \"\", text)\n",
    "  def remove_unwanted_string(text):\n",
    "    # Remove substrings containing unwanted characters\n",
    "    text = re.sub(r'\\S*[ÃÂš°µ]\\S*', '', text)\n",
    "    return text.strip()\n",
    "  def remove_rebrackets(text):\n",
    "    return re.sub(r'\\[RE[^\\]]*\\]', '', text)\n",
    "  def remove_urls(text):\n",
    "      # Remove URLs starting with https\n",
    "      return re.sub(r'https?://\\S+', '', text)\n",
    "  def preprocess_hashtag(text):\n",
    "    if(len(text)==0):\n",
    "      return 0,0,0\n",
    "    texted = text.split(\" \")\n",
    "    #print(texted)\n",
    "    hashtag_1 = ['01','amin','anies','imin','muhaimin','kosongsatu','1']\n",
    "    hashtag_2 = ['02','prabowo','gibran','kosongdua','indonesiasentris','2']\n",
    "    hashtag_3 = ['03','ganjar','mahfud','kosongtiga','jnk','3']\n",
    "    count_tag_1 = 0\n",
    "    count_tag_2 = 0\n",
    "    count_tag_3 = 0\n",
    "    for text in texted :\n",
    "      for word_to_match in hashtag_1:\n",
    "        match = re.search(word_to_match, text)\n",
    "        # Jika kecocokan ditemukan\n",
    "        if match:\n",
    "          count_tag_1 = count_tag_1 + 1\n",
    "          # print(f\"'{word_to_match}' matches with '{text}'\")\n",
    "      for word_to_match in hashtag_2:\n",
    "        match = re.search(word_to_match, text)\n",
    "        # Jika kecocokan ditemukan\n",
    "        if match:\n",
    "          count_tag_2 = count_tag_2 + 1\n",
    "          # print(f\"'{word_to_match}' matches with '{text}'\")\n",
    "      for word_to_match in hashtag_3:\n",
    "        match = re.search(word_to_match, text)\n",
    "        # Jika kecocokan ditemukan\n",
    "        if match:\n",
    "          count_tag_3 = count_tag_3 + 1\n",
    "          # print(f\"'{word_to_match}' matches with '{text}'\")\n",
    "    return count_tag_1, count_tag_2,count_tag_3\n",
    "  def count_paslon(text):\n",
    "    #Process the hashtag first\n",
    "    hashtag_text = retrieve_hashtags(text).lower()\n",
    "    # print(hashtag_text)\n",
    "    count_tag_1,count_tag_2,count_tag_3 = preprocess_hashtag(hashtag_text)\n",
    "    text = remove_hashtag(text)\n",
    "    # print(text)\n",
    "    text_split = re.sub(r'[^\\w\\s]', '', text.lower()).split()\n",
    "    # print(text_split)\n",
    "    paslon_1 = ['anies','muhaimin','imin','anis','01','waktunya','perubahan','amin' , 'asalbukanprabowo']\n",
    "    paslon_2 = ['prabowo','gibran','rakabuming','02','menhan','lanjutkan','gerindra','masbowo','anakmuda']\n",
    "    paslon_3 = ['ganjar','pranowo','mahfud','03','pdi','asalbukanprabowo','ganjarmahfud2024','ganjarmahfudsatset']\n",
    "    counter_01 = 0\n",
    "    counter_02 = 0\n",
    "    counter_03 = 0\n",
    "    for x in text_split:\n",
    "      for word_to_match in paslon_1:\n",
    "        match = re.search(word_to_match, x)\n",
    "        if match:\n",
    "          counter_01 = counter_01 + 1\n",
    "      for word_to_match in paslon_2:\n",
    "        match = re.search(word_to_match, x)\n",
    "        if match:\n",
    "          counter_02 = counter_02 + 1\n",
    "      for word_to_match in paslon_3:\n",
    "        match = re.search(word_to_match, x)\n",
    "        if match:\n",
    "          counter_03 = counter_03 + 1\n",
    "    return \" \".join(text_split),counter_01,counter_02,counter_03,count_tag_1,count_tag_2,count_tag_3,hashtag_text\n",
    "\n",
    "\n",
    "  count_att = count_at(text)\n",
    "  text = remove_retweet(text)\n",
    "  text = remove_urls(text)\n",
    "  text = remove_unwanted_string(text)\n",
    "  text = remove_rebrackets(text)\n",
    "  count_hashtag = count_hashtag(text)\n",
    "  text, count_1,count_2,count_3,count_tag_1,count_tag_2,count_tag_3,hashtag_text = count_paslon(text)\n",
    "  # text = remove_hashtag(text)\n",
    "  return text,count_att,count_hashtag,count_1,count_2,count_3,count_tag_1,count_tag_2,count_tag_3,hashtag_text"
   ]
  },
  {
   "cell_type": "code",
   "execution_count": 84,
   "metadata": {},
   "outputs": [
    {
     "data": {
      "text/plain": [
       "23     @RM55Bn/jTOYBntGhLJUBSxbB+yKFrIWQVNDlunZ3qJo= ...\n",
       "432    @CsoUSFGxOYIuCzVuM6elGg23Rr/1ECBS8Ptp8k0aQyQ= ...\n",
       "728    @KTqWCKoRB3mO8d9ysnqimUxwr6XjeebPa0b7eldJKs0= ...\n",
       "735    @H/EqAXex69zeXoYlup5j0l0GJ4Y/uJKeH7OhmihxL3g= ...\n",
       "968    BUAT PENDUKUNG ANIS SAMA IMIN SAMA GANJAR NOH ...\n",
       "Name: text, dtype: object"
      ]
     },
     "execution_count": 84,
     "metadata": {},
     "output_type": "execute_result"
    }
   ],
   "source": [
    "maybe[maybe['Kelas'] == 'Geografi']['text']"
   ]
  },
  {
   "cell_type": "code",
   "execution_count": 85,
   "metadata": {},
   "outputs": [],
   "source": [
    "df['Text'] = test['Text']"
   ]
  },
  {
   "cell_type": "code",
   "execution_count": 86,
   "metadata": {},
   "outputs": [],
   "source": [
    "df['Text'] = df['Text'].str.replace('RT', '')\n",
    "df[['Text', 'retweet', 'hashtag', 'count_1', 'count_2', 'count_3','count_tag_1','count_tag_2','count_tag_3','hashtag_text']] = df['Text'].apply(lambda x: pd.Series(process_text(x)))"
   ]
  },
  {
   "cell_type": "code",
   "execution_count": 87,
   "metadata": {},
   "outputs": [
    {
     "data": {
      "text/plain": [
       "23     apalagi kita sebgai negara kepulauan bagian pa...\n",
       "704    sia sia dong bgn ikn kl pusat ekonomi ttp di p...\n",
       "728    reklamasi jokuwi ahok itu 17 pulau dihentikan ...\n",
       "735    kalau memang masuk ke banten ngapain anies sam...\n",
       "Name: Text, dtype: object"
      ]
     },
     "execution_count": 87,
     "metadata": {},
     "output_type": "execute_result"
    }
   ],
   "source": [
    "df.loc[(df['Text'].str.contains('pulau')), 'Text']"
   ]
  },
  {
   "cell_type": "code",
   "execution_count": 88,
   "metadata": {},
   "outputs": [],
   "source": [
    "df.loc[(df['Text'].str.contains('pulau')), 'Kelas'] = 'Geografi'"
   ]
  },
  {
   "cell_type": "code",
   "execution_count": 89,
   "metadata": {},
   "outputs": [],
   "source": [
    "ideologi_words = ['negara', 'pancasila', 'aturan']\n",
    "sosial_words = ['budaya', 'warga', 'sekolah', 'disabilitas', 'bansos', 'desak', 'seni', 'budaya']\n",
    "demografi_words = ['gen z', 'berpendidikan', 'muda', 'pemilih muda', 'etnis', 'generasi tua', 'generasi muda', 'kalangan atas', 'kalangan menengah']\n",
    "sda_words = ['food estate', 'pertanian', 'hujan']"
   ]
  },
  {
   "cell_type": "code",
   "execution_count": 90,
   "metadata": {},
   "outputs": [],
   "source": [
    "df.loc[(df['Text'].str.contains('|'.join(ideologi_words))) & (df['Kelas'] == 'Politik'), 'Kelas'] = 'Ideologi'"
   ]
  },
  {
   "cell_type": "code",
   "execution_count": 91,
   "metadata": {},
   "outputs": [],
   "source": [
    "df.loc[(df['Text'].str.contains('|'.join(sosial_words))) & (df['Kelas'] == 'Politik'), 'Kelas'] = 'Sosial Budaya'"
   ]
  },
  {
   "cell_type": "code",
   "execution_count": 92,
   "metadata": {},
   "outputs": [],
   "source": [
    "df.loc[(df['Text'].str.contains('|'.join(demografi_words))) & (df['Kelas'] == 'Politik'), 'Kelas'] = 'Demografi'"
   ]
  },
  {
   "cell_type": "code",
   "execution_count": 93,
   "metadata": {},
   "outputs": [],
   "source": [
    "df.loc[(df['Text'].str.contains('|'.join(sda_words))) & (df['Kelas'] == 'Politik'), 'Kelas'] = 'Sumber Daya Alam'"
   ]
  },
  {
   "cell_type": "code",
   "execution_count": 94,
   "metadata": {},
   "outputs": [
    {
     "name": "stdout",
     "output_type": "stream",
     "text": [
      "                         precision    recall  f1-score   support\n",
      "\n",
      "              Demografi       0.59      0.67      0.62        15\n",
      "                Ekonomi       0.86      0.89      0.88       107\n",
      "               Geografi       0.75      0.60      0.67         5\n",
      "               Ideologi       0.67      0.65      0.66        68\n",
      "Pertahanan dan Keamanan       0.75      0.79      0.77        62\n",
      "                Politik       0.92      0.91      0.91       666\n",
      "          Sosial Budaya       0.63      0.63      0.63        63\n",
      "       Sumber Daya Alam       0.38      0.43      0.40        14\n",
      "\n",
      "               accuracy                           0.85      1000\n",
      "              macro avg       0.69      0.70      0.69      1000\n",
      "           weighted avg       0.85      0.85      0.85      1000\n",
      "\n"
     ]
    }
   ],
   "source": [
    "print(classification_report(maybe['Kelas'], df['Kelas']))"
   ]
  },
  {
   "cell_type": "code",
   "execution_count": 95,
   "metadata": {},
   "outputs": [
    {
     "data": {
      "text/plain": [
       "Kelas\n",
       "Politik                    0.659\n",
       "Ekonomi                    0.110\n",
       "Ideologi                   0.066\n",
       "Pertahanan dan Keamanan    0.065\n",
       "Sosial Budaya              0.063\n",
       "Demografi                  0.017\n",
       "Sumber Daya Alam           0.016\n",
       "Geografi                   0.004\n",
       "Name: count, dtype: float64"
      ]
     },
     "execution_count": 95,
     "metadata": {},
     "output_type": "execute_result"
    }
   ],
   "source": [
    "df['Kelas'].value_counts()/1000"
   ]
  },
  {
   "cell_type": "code",
   "execution_count": 96,
   "metadata": {},
   "outputs": [
    {
     "data": {
      "text/plain": [
       "label\n",
       "Politik                    0.5944\n",
       "Sosial Budaya              0.1174\n",
       "Pertahanan dan Keamanan    0.0800\n",
       "Ideologi                   0.0800\n",
       "Ekonomi                    0.0734\n",
       "Sumber Daya Alam           0.0384\n",
       "Demografi                  0.0124\n",
       "Geografi                   0.0040\n",
       "Name: count, dtype: float64"
      ]
     },
     "execution_count": 96,
     "metadata": {},
     "output_type": "execute_result"
    }
   ],
   "source": [
    "asli['label'].value_counts() / 5000"
   ]
  },
  {
   "cell_type": "code",
   "execution_count": 107,
   "metadata": {},
   "outputs": [
    {
     "data": {
      "text/html": [
       "<div>\n",
       "<style scoped>\n",
       "    .dataframe tbody tr th:only-of-type {\n",
       "        vertical-align: middle;\n",
       "    }\n",
       "\n",
       "    .dataframe tbody tr th {\n",
       "        vertical-align: top;\n",
       "    }\n",
       "\n",
       "    .dataframe thead th {\n",
       "        text-align: right;\n",
       "    }\n",
       "</style>\n",
       "<table border=\"1\" class=\"dataframe\">\n",
       "  <thead>\n",
       "    <tr style=\"text-align: right;\">\n",
       "      <th></th>\n",
       "      <th>IDText</th>\n",
       "      <th>Kelas</th>\n",
       "      <th>Text</th>\n",
       "      <th>retweet</th>\n",
       "      <th>hashtag</th>\n",
       "      <th>count_1</th>\n",
       "      <th>count_2</th>\n",
       "      <th>count_3</th>\n",
       "      <th>count_tag_1</th>\n",
       "      <th>count_tag_2</th>\n",
       "      <th>count_tag_3</th>\n",
       "      <th>hashtag_text</th>\n",
       "    </tr>\n",
       "  </thead>\n",
       "  <tbody>\n",
       "    <tr>\n",
       "      <th>71</th>\n",
       "      <td>TXT0072</td>\n",
       "      <td>Politik</td>\n",
       "      <td>lah tapi tetep aja itu koalisinya pdip faktany...</td>\n",
       "      <td>4</td>\n",
       "      <td>0</td>\n",
       "      <td>0</td>\n",
       "      <td>1</td>\n",
       "      <td>2</td>\n",
       "      <td>0</td>\n",
       "      <td>0</td>\n",
       "      <td>0</td>\n",
       "      <td></td>\n",
       "    </tr>\n",
       "    <tr>\n",
       "      <th>105</th>\n",
       "      <td>TXT0106</td>\n",
       "      <td>Sosial Budaya</td>\n",
       "      <td>abah anies baswedan menanggapi soal pertemuan ...</td>\n",
       "      <td>0</td>\n",
       "      <td>1</td>\n",
       "      <td>1</td>\n",
       "      <td>0</td>\n",
       "      <td>0</td>\n",
       "      <td>1</td>\n",
       "      <td>0</td>\n",
       "      <td>0</td>\n",
       "      <td>#nakesdesakanies</td>\n",
       "    </tr>\n",
       "    <tr>\n",
       "      <th>218</th>\n",
       "      <td>TXT0219</td>\n",
       "      <td>Sosial Budaya</td>\n",
       "      <td>sedikit soal rekam jejak anies baswedan di jak...</td>\n",
       "      <td>0</td>\n",
       "      <td>0</td>\n",
       "      <td>4</td>\n",
       "      <td>0</td>\n",
       "      <td>0</td>\n",
       "      <td>0</td>\n",
       "      <td>0</td>\n",
       "      <td>0</td>\n",
       "      <td></td>\n",
       "    </tr>\n",
       "    <tr>\n",
       "      <th>257</th>\n",
       "      <td>TXT0258</td>\n",
       "      <td>Sosial Budaya</td>\n",
       "      <td>saat ini warga kampung bayam seharusnya bisa h...</td>\n",
       "      <td>0</td>\n",
       "      <td>0</td>\n",
       "      <td>4</td>\n",
       "      <td>0</td>\n",
       "      <td>0</td>\n",
       "      <td>0</td>\n",
       "      <td>0</td>\n",
       "      <td>0</td>\n",
       "      <td></td>\n",
       "    </tr>\n",
       "    <tr>\n",
       "      <th>353</th>\n",
       "      <td>TXT0354</td>\n",
       "      <td>Politik</td>\n",
       "      <td>heboh video minyak goreng berlabel prabowogibr...</td>\n",
       "      <td>0</td>\n",
       "      <td>0</td>\n",
       "      <td>0</td>\n",
       "      <td>2</td>\n",
       "      <td>0</td>\n",
       "      <td>0</td>\n",
       "      <td>0</td>\n",
       "      <td>0</td>\n",
       "      <td></td>\n",
       "    </tr>\n",
       "    <tr>\n",
       "      <th>686</th>\n",
       "      <td>TXT0687</td>\n",
       "      <td>Politik</td>\n",
       "      <td>gue akan selalu memerangi kalian upper class y...</td>\n",
       "      <td>0</td>\n",
       "      <td>0</td>\n",
       "      <td>1</td>\n",
       "      <td>0</td>\n",
       "      <td>0</td>\n",
       "      <td>0</td>\n",
       "      <td>0</td>\n",
       "      <td>0</td>\n",
       "      <td></td>\n",
       "    </tr>\n",
       "    <tr>\n",
       "      <th>775</th>\n",
       "      <td>TXT0776</td>\n",
       "      <td>Politik</td>\n",
       "      <td>branding prabowo ikut pilpres 3x kuat sih di g...</td>\n",
       "      <td>2</td>\n",
       "      <td>0</td>\n",
       "      <td>1</td>\n",
       "      <td>2</td>\n",
       "      <td>1</td>\n",
       "      <td>0</td>\n",
       "      <td>0</td>\n",
       "      <td>0</td>\n",
       "      <td></td>\n",
       "    </tr>\n",
       "    <tr>\n",
       "      <th>879</th>\n",
       "      <td>TXT0880</td>\n",
       "      <td>Sosial Budaya</td>\n",
       "      <td>mereka mengadu pada anies dengan terisakisak n...</td>\n",
       "      <td>0</td>\n",
       "      <td>0</td>\n",
       "      <td>1</td>\n",
       "      <td>0</td>\n",
       "      <td>0</td>\n",
       "      <td>0</td>\n",
       "      <td>0</td>\n",
       "      <td>0</td>\n",
       "      <td></td>\n",
       "    </tr>\n",
       "  </tbody>\n",
       "</table>\n",
       "</div>"
      ],
      "text/plain": [
       "      IDText          Kelas  \\\n",
       "71   TXT0072        Politik   \n",
       "105  TXT0106  Sosial Budaya   \n",
       "218  TXT0219  Sosial Budaya   \n",
       "257  TXT0258  Sosial Budaya   \n",
       "353  TXT0354        Politik   \n",
       "686  TXT0687        Politik   \n",
       "775  TXT0776        Politik   \n",
       "879  TXT0880  Sosial Budaya   \n",
       "\n",
       "                                                  Text  retweet  hashtag  \\\n",
       "71   lah tapi tetep aja itu koalisinya pdip faktany...        4        0   \n",
       "105  abah anies baswedan menanggapi soal pertemuan ...        0        1   \n",
       "218  sedikit soal rekam jejak anies baswedan di jak...        0        0   \n",
       "257  saat ini warga kampung bayam seharusnya bisa h...        0        0   \n",
       "353  heboh video minyak goreng berlabel prabowogibr...        0        0   \n",
       "686  gue akan selalu memerangi kalian upper class y...        0        0   \n",
       "775  branding prabowo ikut pilpres 3x kuat sih di g...        2        0   \n",
       "879  mereka mengadu pada anies dengan terisakisak n...        0        0   \n",
       "\n",
       "     count_1  count_2  count_3  count_tag_1  count_tag_2  count_tag_3  \\\n",
       "71         0        1        2            0            0            0   \n",
       "105        1        0        0            1            0            0   \n",
       "218        4        0        0            0            0            0   \n",
       "257        4        0        0            0            0            0   \n",
       "353        0        2        0            0            0            0   \n",
       "686        1        0        0            0            0            0   \n",
       "775        1        2        1            0            0            0   \n",
       "879        1        0        0            0            0            0   \n",
       "\n",
       "         hashtag_text  \n",
       "71                     \n",
       "105  #nakesdesakanies  \n",
       "218                    \n",
       "257                    \n",
       "353                    \n",
       "686                    \n",
       "775                    \n",
       "879                    "
      ]
     },
     "execution_count": 107,
     "metadata": {},
     "output_type": "execute_result"
    }
   ],
   "source": [
    "df[df['Text'].str.contains('kampung')]"
   ]
  },
  {
   "cell_type": "code",
   "execution_count": 100,
   "metadata": {},
   "outputs": [],
   "source": [
    "train = pd.read_csv('df.csv', delimiter=';')"
   ]
  },
  {
   "cell_type": "code",
   "execution_count": 110,
   "metadata": {},
   "outputs": [
    {
     "data": {
      "text/plain": [
       "label\n",
       "Politik                    72\n",
       "Sosial Budaya              18\n",
       "Pertahanan dan Keamanan     9\n",
       "Ideologi                    9\n",
       "Sumber Daya Alam            6\n",
       "Geografi                    2\n",
       "Demografi                   1\n",
       "Ekonomi                     1\n",
       "Name: count, dtype: int64"
      ]
     },
     "execution_count": 110,
     "metadata": {},
     "output_type": "execute_result"
    }
   ],
   "source": [
    "train[train['text'].str.contains('jawa')]['label'].value_counts()"
   ]
  },
  {
   "cell_type": "code",
   "execution_count": 115,
   "metadata": {},
   "outputs": [],
   "source": [
    "df[['IDText', 'Kelas']].to_csv('last_sub.csv', index=False)"
   ]
  },
  {
   "cell_type": "code",
   "execution_count": 116,
   "metadata": {},
   "outputs": [
    {
     "data": {
      "text/plain": [
       "Kelas\n",
       "Politik                    0.659\n",
       "Ekonomi                    0.110\n",
       "Ideologi                   0.066\n",
       "Pertahanan dan Keamanan    0.065\n",
       "Sosial Budaya              0.063\n",
       "Demografi                  0.017\n",
       "Sumber Daya Alam           0.016\n",
       "Geografi                   0.004\n",
       "Name: count, dtype: float64"
      ]
     },
     "execution_count": 116,
     "metadata": {},
     "output_type": "execute_result"
    }
   ],
   "source": [
    "df['Kelas'].value_counts()/1000"
   ]
  }
 ],
 "metadata": {
  "kernelspec": {
   "display_name": "Python 3",
   "language": "python",
   "name": "python3"
  },
  "language_info": {
   "codemirror_mode": {
    "name": "ipython",
    "version": 3
   },
   "file_extension": ".py",
   "mimetype": "text/x-python",
   "name": "python",
   "nbconvert_exporter": "python",
   "pygments_lexer": "ipython3",
   "version": "3.12.3"
  }
 },
 "nbformat": 4,
 "nbformat_minor": 2
}
