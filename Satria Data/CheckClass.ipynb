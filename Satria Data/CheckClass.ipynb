{
 "cells": [
  {
   "cell_type": "code",
   "execution_count": 1,
   "metadata": {},
   "outputs": [],
   "source": [
    "import pandas as pd"
   ]
  },
  {
   "cell_type": "code",
   "execution_count": 2,
   "metadata": {},
   "outputs": [],
   "source": [
    "df = pd.read_csv('sumbmission_1.csv', delimiter=';')"
   ]
  },
  {
   "cell_type": "code",
   "execution_count": 3,
   "metadata": {},
   "outputs": [
    {
     "data": {
      "text/plain": [
       "Kelas\n",
       "Politik                    760\n",
       "Ekonomi                    110\n",
       "Pertahanan dan Keamanan     62\n",
       "Sosial Budaya               33\n",
       "Ideologi                    21\n",
       "Sumber Daya Alam            14\n",
       "Name: count, dtype: int64"
      ]
     },
     "execution_count": 3,
     "metadata": {},
     "output_type": "execute_result"
    }
   ],
   "source": [
    "df['Kelas'].value_counts()"
   ]
  },
  {
   "cell_type": "code",
   "execution_count": 4,
   "metadata": {},
   "outputs": [],
   "source": [
    "df = pd.read_csv('error_analysis_v2.csv')"
   ]
  },
  {
   "cell_type": "code",
   "execution_count": 5,
   "metadata": {},
   "outputs": [
    {
     "data": {
      "text/plain": [
       "label\n",
       "Politik                    2972\n",
       "Sosial Budaya               587\n",
       "Pertahanan dan Keamanan     400\n",
       "Ideologi                    400\n",
       "Ekonomi                     367\n",
       "Sumber Daya Alam            192\n",
       "Demografi                    62\n",
       "Geografi                     20\n",
       "Name: count, dtype: int64"
      ]
     },
     "execution_count": 5,
     "metadata": {},
     "output_type": "execute_result"
    }
   ],
   "source": [
    "df['label'].value_counts()"
   ]
  },
  {
   "cell_type": "code",
   "execution_count": 6,
   "metadata": {},
   "outputs": [
    {
     "name": "stdout",
     "output_type": "stream",
     "text": [
      "@CIqXqwGAT04tMtx4OCATxjoVq7vv/Y8HeYaIOgMFg8Y= emng bener sih, pendukung 01 ada yg goblok, begitu jg dg pendukung 02.. hnya sj menurut pak Ridwan Kamil skemanya terbalik, klo 01 MAYORITAS PENDIDIKAN MENENGAH ATAS (artinya ada jg pendidikan rendah yg milih \n",
      "\n",
      "RT Konsisten, selama ini bersuara melawan radikalisme dan intoleransi. Yg pilih Prabowo ternyata cuma omon omon. Dianggap Tokoh Paling Toleran, Masyarakat Lintas Etnis Kalbar Kompak Dukung Ganjar PONTIANAK - Ribuan masyarakat lintas etnis se-Kalimantan Barat berkumpul di Hotel Golden Tulip Pontianak, Rabu (31/1/2014). Ada perwakilan dari tokoh Dayak, Tionghoa, Papua, Jawa, Minang, Batak, Madura dan lainnya. \"Selamat datang di Kota Khatulistiwa Pak Ganjar. Kami sangat bangga Bapak datang ke sini,\" ucap beberapa tokoh adat dan etnis menyambut Ganjar. Ketua Dewan Pembina Dewan Adat Daerah (DAD) Kalbar yang juga Ketua Tim Pemenangan Daerah (TPD) Ganjar Mahfud di Kalbar, Lazarus mengatakan, masyarakat Kalbar sangat antusias menyambut Ganjar. Kehadiran para tokoh dan ketua organisasi etnis di tempat itu menjadi bukti bahwa mereka sepakat mendukung Ganjar Mahfud. \"Semua tokoh adat berkumpul di sini. Ini mewakili seluruh organisasi dari kelompok etnis dan adat di Kalimantan Barat. Kami semua mendukung Pak Ganjar, kami siap memenangkan bapak di Kalbar,\" ucap Lazarus disambut teriakan kompak ribuan masyarakat adat Kalbar. \"Ganjar Presiden. Ganjar Mahfud menang, menang, menang,\" teriak mereka kompak. Seorang tokoh adat Dayak, Henusa mengatakan, masyarakat lintas etnis Kalbar kompak mendukung Ganjar karena ia dianggap sebagai tokoh paling toleran. Selama menjadi anggota DPR RI dan Gubernur Jateng dua periode, Ganjar bisa melakukan harmonisasi. \"Untuk itulah kami mengidolakan dan mendukung Pak Ganjar menjadi Presiden 2024. Karena di tangan beliau, kasus-kasus intoleransi di Indonesia bisa dihilangkan,\" ucapnya. Sementara itu, Ganjar menyambut baik dukungan dari masyarakat lintas etnis Kalbar dan mengucapkan terima kasih. Menurutnya, apapun hasil pilpres mendatang, toleransi di Indonesia harus terus terjaga. \"Dan Kalbar adalah contoh daerah paling toleran. Di mana di Kalbar ada satu kota yang dinobatkan sebagai kota paling toleran se-Indonesia, yakni Singkawang,\" ucapnya. [RE ch_chotimah2] \n",
      "\n",
      "RT GANJAR-MAHFUD MD: PROGRAM KULIAH GRATIS BAGI ANAK TENTARA & POLISI Sebagai anak polisi pangkat rendah, Mas @9VHl7wm7ER4gFt39vG3/cIfMvkxsIMVislyiBXWmYb0= paham betul sulitnya kehidupan para bintara dan tamtama polisi maupun tentara. Mas Ganjar dan Prof Mahfud berkomitmen memberikan penghargaan kepada para prajurit dan bhayangkara dengan memberikan beasiswa kuliah untuk anak-anak dari para Bintara dan Tamtama, baik polisi maupun TNI. Prajurit dan bhayangkara, sebagai tiang utama pertahanan dan keamanan negara Indonesia, telah mengukir jasa besar dalam menjaga kedaulatan dan keutuhan Tanah Air. Sayangnya, masih banyak anak-anak dari keluarga prajurit dan bhayangkara yang terkendala dalam melanjutkan pendidikan tinggi akibat keterbatasan finansial. Mas Ganjar, seorang anak polisi pangkat rendah, merasakan langsung kesulitan itu. Orangtua beliau dengan ikhlas menggadaikan sertifikat rumah demi mewujudkan cita-cita anak-anak mereka untuk menempuh pendidikan di universitas negeri. Mas Ganjar dan Prof Mahfud, sebagai pemimpin yang peka terhadap realitas ini, berkomitmen untuk meringankan beban keluarga prajurit dan bhayangkara. Dengan tekad yang bulat, mereka meluncurkan program beasiswa khusus bagi anak-anak dari kalangan Bintara dan Tamtama, baik dari institusi kepolisian maupun TNI, yang berhasil diterima di perguruan tinggi. Program ini bertujuan untuk membuka pintu kesempatan yang seadil-adilnya, sehingga potensi besar generasi penerus bangsa ini dapat terus berkembang tanpa terkendala oleh keterbatasan biaya. Bersama Ganjar-Mahfud tidak akan ada lagi anak dari keluarga Prajurit dan Bhayangkara yang terhalang cita-citanya untuk meraih pendidikan setinggi-tingginya. Bagaimana dengan keluarga yg lain? PKH tetap lanjut, KIP Kuliah diperbanyak, bahkan ada program 1 Keluarga Miskin 1 Sarjana & pemutihan hutang nelayan & petani #GanjarMahfud2024 #Ganjar #MahfudMd #PDIPerjuangan #03 [RE GunRomli] \n",
      "\n",
      "Ã°ÂŸÂšÂµ Jumat, agenda Ganjar Pranowo-Mahfud MD kampanye di Jawa BaratMahfud Md temui dan tampung aspirasi kaum difabel perempuanÃ‚ Ganjar Mahfud Hebat #Coblos3 #3GM #nazarpemilu #GanjarMahfudM3nangDebat https://t.co/nvDxPHfpje \n",
      "\n",
      "RT *Ternyata Anies lebih gila.. share ke semua group agar kita semua bangga menjadi Anak bangsa Indonesia.... *Penuh Prestasi, bukan karya abal\"* @u1viD0tQE0DgbLuK8b2TOF4ptgjBH0bO/ZiGnGtwJH4= @aTVi2CjdfyiBMmbvxgUi/5uJWeKbY0DcM09FaLEOwy0= @kwTW4BflyVaRwUC9olDq9afG9tsBcytcbX4Pl4iVwnQ= @w2vnGwZYu7Opa2og3o4AfyR0we1dF3bHahluZM1pgBg= @xPxUw+4bT6bFQMyg/GJyFz8dIWKvTDCn5tls1I0Ztvo= @fx9rDFx2BOxJLAwggUfhabTMOmwb5qUMquUTLtJI2KY= @JCOsfSpjbGB76RSns6QjzYu8QuRhJEHfMCypSsljkrM= https://t.co/8vJy8SVKg4 [RE Andria75777] \n",
      "\n",
      "gaya campaign yg sejuk MASBOwoGBRan OkeGASSS dpt meningkatkan partisipasi generasi muda saat pemilu nanti. @fCSBvtMh0y+YwCQuPfMvPosv6boMIht3iyaXxAgbrNc= @SPhMEnfhJUbm/IlDGSAuZBl//4j87eGLUp0l2JJFbLE= #BebasPindahKe02 KitaPaKB0W0 KitaKEREN https://t.co/leOD8XukdH \n",
      "\n",
      "Anies berkoalisi sama kaum 'rahmah' ya? Ã°ÂŸÂ¤Â” \n",
      "\n",
      "RT saya kira, saya dan rakyat yang lain ikut menyediakan anggaran untuk subsidi pupuk ini. tapi pasti saya ga milih prabowo. bebaskanlah subsidi ini dari politik partisan yang kasar kaya gini. anda ga faham atau ga peduli atur negara dg benar ya pak @CgCSQF/Q+Jcq972GRs/s55c4SgmTdmmqMm+Eucr1gz4= ? Ã°ÂŸÂ™Âˆ https://t.co/wAyrNyEjfq [RE saiful_mujani] \n",
      "\n",
      "RT Keseruan Warga Sumatra barat Menyambut kedatangan pak Anies hari ini Rabu 3 Januari 2024 https://t.co/whMmYqRm9J [RE Yurissa_Samosir] \n",
      "\n",
      "RT Pemimpin sejatinya mampu mendengar dan memahami keinginan rakyat. Sosok Ganjar Pranowo paham betul kebutuhan rakyat dari berbagai kalangan, baik muda maupun tua. #L3bihbaik https://t.co/LNUlpbXDMn [RE Urrangawak] \n",
      "\n",
      "RT ada double minoritas yg mau pilih Anies gini udah di luar nalar, tapi bebas, to each their own. yg bikin utas ini lucu justru replies-nya. udah capek capek serius ada double minoritas yg mau pilih Anies, dikasih kesempatan tebus dosa, eh diserang sesama pendukungnya Ã°ÂŸÂ˜Â‚ bubar aja. [RE xylans] \n",
      "\n",
      "Demikian dengan masyarakat adat dari Sabang hingga Merauke, etnis Melayu, China, Papua, Bugis, Jawa dan seterusnya, bagi Anies ditarik masuk dalam prinsip kesetaraan. \n",
      "\n",
      "@jC8wGVFZIIym5nUmgxOyGA98PXTxPsJwfKDd6kSH4Cs= Setuju sekali, cara MasBOWOGBran PilihanKITA membangun generasi emas bisa menyiapkan anak muda berkualitas agar bangsa jadi makmur. @pxWd1jkx1PTC0EX7BIyOLIQG37/y/qC/fku3UCFCAtQ= @hwc3eDacBqzMFDk+a2QuCaMVCClZIb \n",
      "\n",
      "RT @AXmV+8J/oXyP84iB/qpvLMpv3XCLRpBQ4y6pAFk9J78= RK bilang pendukung kubu Anies mayoritas datang dari kalangan berpendidikan menengah ke atas, sementara pendukung badut gemoi dtg dari kalangan low educated.  https://t.co/sCaApyQZtq [RE kucingtuabangka] \n",
      "\n",
      "RT Jelang Tengah Malam Anies Melayat ke Rumah Duka Rizal Ramli https://t.co/eL3OjJJrlU [RE geloraco] \n",
      "\n",
      "@vY9F/b+uTyRM5hm1ulJDLbdxwGqRWTCBYbmsg5idi7o= @TeRiIzD5HgScp6WZjCflL9SmpVhR9cHgumDVEhT5kH8= @3LEeLfhbVvGWRseJZMxCKBPBpiENCVEePVpmUvAf3C0= Anies memperhatikan isu-isu sosial yang dihadapi oleh Gen Z. \n",
      "\n",
      "RT 21 PROGRAM GANJAR-MAHFUD U ENTASKAN KEMISKINAN YG UTAMA KTP SAKTI GANJAR-MAHFUD 1 KTP U SEMUA MANFAAT U PETANI NELAYAN BURUH MILENIAL GENZ UMKM BUMIL DLL KASIH KERJAAN 17 JT RAKYAT BANGUN 10 JT UMAH U WONG MISKIN SMKN GRATIS NGINEP MAKAN 3 TH KERJA DISALURKAN SLM LUAR NEGRI 1 KELUARGA MISKIN DIBAIAYAI 1 SARJANA INTERNET LAPTOP GRATIS 24 JAM U SISWA KULIAH & UMKM SEMBAKO BBM MURAH PENDIDIKAN & KESEHATAN GRATIS DLL MBOTEN KORUP. MBOTEN NGAPUSI RAME NYA JUTAAN YG HADIR MOSOK SURVEI NO 3 SURVEI PESANAN TUHÃƒÂ°Ã‚Å¸Ã‚ËœÃ‚Æ’ #GanjarMahfud2024 #ganjarMahfudSatSet @QO+o9St9dD29vuheAc2oIw3gchW3fK9wnW91Wc2D+dg= @rD0PewdvTIUWJ48N7twNSFgHXEyIPMDlVqygh+lHUUs= [RE Ganjar_Mahfud03] \n",
      "\n",
      "RT @T9mCLLFpX5GfaRMgGb1Vg5m7HEikqRDqzazhutmEQIs= Tebet eco park hasil pak anies juga gak sih? Main kesana tuh enak bgt adem bgt rasanya, beberapa temen gua ada yg gak percaya ini tuh masih jakselÃ°ÂŸÂ˜Â¢ https://t.co/sV6ZKF9WZz [RE Elelviaa] \n",
      "\n",
      "RT TREN 3 PASANGAN PADA BASIS USIA/GENERASI [Sebelum 27 Oktober, Simulasi Tanpa Pasangan] Prabowo ÃƒÂ¢Ã‚â‚¬Ã‚â€œ Gibran menguat di Gen Z, Anies - Muhaimin menguat di Millenials, sementara Ganjar ÃƒÂ¢Ã‚â‚¬Ã‚â€œ Mahfud melemah. https://t.co/lU2jALuXOC [RE indikatorcoid] \n",
      "\n",
      "RT Pura pura buat dukung anies, padahal buat ngejatuhin anies bener bener halus banget mainnya [RE kifli127] \n",
      "\n",
      "RT @04D9CoeRKwKC+uDBeaw7rUFfRGGZoYRdgIRm0m8imFI= Yg menikmati fasilitas umum serba gratis itu kan menengah bawah. Bykan kalangan atas jkrta mlh ga tau, Mknya byk dr mrka anies ga bs krja, pbb msh byr , politik identitas. Pdhl kalangan menengah bwh anies bnern di rangkul krn memanusiakan manusia [RE vifahfaw16] \n",
      "\n",
      "@nBIK5lVVdCuOaM9MJeEfzCltR/S4P1UTiVCRwwdLlBA= Bayangin populasi jawa mendadak mbludak karena anak pak anies ga pake kerudung \n",
      "\n",
      "yang gua khawatirkan ini biaya kampanye amin dikit banget, mencapai gk ya ke pelosok pelosok. kalo masalah di kota mah bagus banget, desak anies dll. gua yakin anak muda yang waras gk milih 02. tp suara\" di pelosok kan juga banyak. hadeh kalo 02 menang bomatlah gua ama negara \n",
      "\n",
      "@WSYtb/4pAh2Nd51hsUxJ4aEJ6TLkoXBDobeKb4ylMMM= @Ijjcsy5DAKGXSh37DhQhp0HvKlH2An7SaS3xlDjp8W0= Progam ganjar mahfud memang unggulan semua semoga ditangan pak ganjar nasib para petani,nelayan,dan para buruh lebih sejahtera merata \n",
      "\n",
      "RT Ga afdol rasanya kalo nonton Desak Anies ga bawa uchiwanya Ã°ÂŸÂ•ÂºÃ°ÂŸÂÂ» https://t.co/oM9TgJ9WsI [RE ShinShironaga] \n",
      "\n",
      "Nining mengungkapkan bahwa Prabowo sudah ada di hatinya sebagai pilihan untuk pemilihan presiden mendatang. #IndonesiaSentris #IndonesiaHijau #02Melanjutkan #AnakMudaIndonesiaEmas Prabowo Subianto \n",
      "\n",
      "RT Anies Janji Lagi Siap Koreksi UU Cipta Kerja Jika Menangi Pilpres 2024 https://t.co/C2IuCp9l5P [RE VIVAcoid] \n",
      "\n",
      "RT @xJvKKHCdzdvK4uu5ZoD1rH6UDc+CuyWYG1wQ2SsaNwg= kalangan pendidikan menengah kebawah itu 02 dan hampir kebanyakan. dikampung bini gue, asli 02 militan banget coi. dan ditanya alesannya, \"anis gatau diri, anis ga tau terima kasih ama prabowo, anies ga bisa kerja di jakarta\" org desa dsna gampang kena hoax, apalagi main tiktok [RE aaakmam] \n",
      "\n",
      "@gQ+QGmYJ209N7Py+H3gRyakQiic4NLEklTOIIuALnZA= @gqAL2HIcdWKR2U/VFUq3R0TFxXxtxCsKyUXAKn9R5o0= Iya nih penting suara Batak sebagai populasi etnis ketiga terbesar setelah Jawa Sunda. Mayoritas Batak Kristen cukup anti sama Anies karena diframing radikal sejak \n",
      "\n",
      "@9uAe+rjsV4B77HHSlo21blbdL/mV/lTAZrfhSq9zDNM= @O7UytnzoV5t3VufogWrNxXqmG41nxRWx45trw82cplE= Gibran ini orgny sengaja cari musuh. GK yakin dia bisa merangkul org bnyk . Yg notabene org indo ini dr berbagai suku . Yg ada orang Aceh dan Papua akan beranggapa \n",
      "\n",
      "detikcom #Ganjarpranowo Ganjar paling tenang gamamenang Mahfud Hebat #L3bihbaik #MahfudLebihBaik3 #GanjarMahfud2024 NelayanÃ‚ Sejahtera \n",
      "\n",
      "RT Media Asing Soroti Cara Anies Gaet Pemilih Muda Pakai 'Desak Anies' https://t.co/UYEMKs4Q10 [RE CNNIndonesia] \n",
      "\n",
      "@lkoehnO1Qm0YEAiFP1i2trTDmI416yz0W1dfhoEkqXw= @tLHUnAsKvb7RvyxX/Pu1RZvTuXIMxbY5KgAoGT9F9kQ= Kok gak ngakoni ae pancen prabowo unggul d kalangan pasar... anies itu levelnya orang berpendidikan... gitu aja \n",
      "\n",
      "RT Prabowo - Gibran unggul di semua basis sosio demografi pemilih baik itu Gender, Usia, Etnis, Agama &amp; ormas Islam, pendidikan, Pekerjaan &amp; Pendapatan kecuali Etnis betawi dimana Anies-Imin yg unggul https://t.co/qkI3YS7J6I [RE alextham878] \n",
      "\n",
      "RT BASIS 3 PASANGAN CAPRES MENURUT DEMOGRAFI Prabowo ÃƒÂ¢Ã‚â‚¬Ã‚â€œ Gibran unggul di sebagian besar segmen demografi warga, terutama generasi muda, etnis Sunda dan Melayu. Kecuali pada kelompok pendidikan tinggi. https://t.co/zFKzU0eQXW [RE indikatorcoid] \n",
      "\n",
      "Ganjar-Mahfud menciptakan peluang baru bagi generasi muda Indonesia dari keluarga miskin melalui program Sekolah Gratis yang inklusif . Ganjar Pranowo, karena kamu berhak mendapatkan yang terbaik @myDchjk8eF9wWumrqo3U6N/qTOpa4Hy8mR5ueze5S/E= #GanjarMahfud2024 #GanjarPresidenRakyat #KratonBersamaRakyat https://t.co/5PV7mYgnff \n",
      "\n",
      "@WmPoHq3v0Ohux+QuA2OJwwP3oAKDl4QGBt3tXlGEVTk= @QYJPfFzH5PNDcgtzSKtisz55/bh1I5v3A/5nEBHIoWg= Padahal pas Ganjar dan Anies seenak jidat memberi nilai Prabowo mereka punya 1001 alasan, knp kita juga ga blh punya 1001 alasan. Jd makin semangat tenggelamkan ge \n",
      "\n",
      "RT Minggu spesial bisa menemani Pak @qiASiFYYT9zPLP7+qjTJUYEjLlb89UYWpMm4A7E6Cxk= dan Mas @OFgKx19MprHI52ddoluDrd1Jzxpulj1X5In+A2spdCI= dalam Debat Keempat Calon Wakil Presiden. Salut dengan Mas Gibran yang selalu memiliki gagasan untuk melanjutkan program-program yang bisa memberikan manfaat besar generasi muda Indonesia. \n",
      "\n",
      "Prabowo berpendapat, prajurit militer sepatutnya menjalin hubungan dekat dengan kiai dan ulama. dekade08 Prabowo - Gibran \n",
      "\n",
      "Tim Kampanye Nasional Pemilih Muda Bidang Pertahanan Keamanan (TKN Fanta Hankam) Prabowo-Gibran bersama Ponpes At-Thoillah, Ponpes Namirul Abyadi dan Ponpes Macan Putih menggelar Deklarasi Akbar 20.000 santri Puluhan ribu santri dari 15 Ponpes se-Jawa Timur ini mendukung Prabowo Subianto dan Gibran Rakabuming Raka sebagai Presiden dan wakil Presiden RI. Deklarasi digelar di Lapangan Rejo Mulyo, Kota Madiun. Wakil Komandan TKN Fanta Ulta Levenia Nababan mengharapkan tambahan dukungan ini menjadi kemenangan mutlak Prabowo-Gibran di Jatim. \"Deklarasi akbar para santri ini menunjukkan semakin banyak kalangan muda mendukung Prabowo-Gibran. Kami meyakini gelombang dukungan dari multietnis dan kalangan muda bisa membuat elektabilitas Prabowo-Gibran makin tak terkejar,\" kata Ulta dalam rilis, Rabu (24/1/2024). #airlanggacenter PBOWOGbran BikinADEM memastikanditps 02menang Samsul Rabu Savage Tom Lembong https://t.co/7ciYbZvDJu \n",
      "\n",
      "@DbK/RB+3IS/+U4NXOUT0SWX3lkM7DIjBM0Pq+XmFQJ0= Membludak, Alhamdulillah generasi muda merindukan gagasan cerdas, saya tidak kawatir lagi dg bujukan 02, tidak mempan krn sudah ikut arahan Pak Anies. \n",
      "\n",
      "Sandwich Generation Bisa Makmur, Saatnya Tulang Punggung Keluarga Naik Kelas,ÃƒÂ¢Ã‚â‚¬Ã‚Â yang diselenggarakan oleh @dTHiERY9qiUH4B8AfgX/iNYupiGgTsgTsaHnMqxBLz0= di Surabaya.  AMIN bertekad mendorong perubahan yang merata, mewujudkan Indonesia yang adil dan makmur untuk semua. [RE tomlembong] \n",
      "\n",
      "RT 4 kelompok rentan versi Pak Anies (difabel, bumil, anakÃƒâ€šÃ‚Â², lansia) kurang 2 kelompok lagi : PETANI dan NELAYAN. Kalo ga percaya CARI REKAMAN DEBAT CAPRES PERTAMA, ada capres lain yg menambahkan 2 kelompok tsb ketika moderator menanyakan aksesbilitas pd pelayanan publik. [RE bangmis] \n",
      "\n",
      "RT Yg logis aja lah..!! Dahulu (2012 - 2019).. Pemilih Jokowi di label dari kalangan berpendidikan menengah ke bawah/tidak pintar..ÃƒÂ°Ã‚Å¸Ã‚ËœÃ‚Å  Dan hari ini... Mereka yg setia bersama Jokowi dan memilih Prabowo mengaku orang cerdas..ÃƒÂ°Ã‚Å¸Ã‚ËœÃ‚Â Sak karepmu cuk... Aku panggah .. Milih Ganjar ÃƒÂ°Ã‚Å¸Ã‚Â¤Ã‚Å¸ [RE T4rG3t_2024] \n",
      "\n",
      "Ã°ÂŸÂ«Â˜ Ganjar Pranowo dan Mahfud MD, dua tokoh yang saya yakin akan membawa perubahan positif bagi Indonesia Ganjar Mahfud Hebat #L3bihbaik #MahfudLebihBaik3 #GanjarMahfud2024 Petani Bangga bertani \n",
      "\n",
      "RT Cara berpikir @3a3N2DdnPt5sM3MvAJk15em0NFz1T9ZZar60PSF0hoE= sangat terstruktur & sistematis. Ini yang membedakannya dengan 2 kandidat lainnya. Mas Anies kadang sering terlalu tinggi bahasanya untuk dimengerti oleh awam. Om Wo ga terbiasa bicara detail & sering hanya di permukaannya saja. Ganjar beda... Mudah dimengerti & mampu memberikan solusi yang ga rumit. Jadi kira-kira begitulah kalo kita mau memilih seorang pemimpin. Punya kapasitas memberikan solusi terhadap berbagai permasalahan bangsa dengan pola pikir yang terintegrasi. #GanjarMahfud2024 Ã°ÂŸÂ¤ÂŸ [RE SantorinisSun] \n",
      "\n",
      "RT @r1IV/ImvXfxikCB5X+8i0INOZs6M64E6cVcIRATKDZQ= Yg menikmati fasilitas umum serba gratis itu kan menengah bawah. Bykan kalangan atas jkrta mlh ga tau, Mknya byk dr mrka anies ga bs krja, pbb msh byr , politik identitas. Pdhl kalangan menengah bwh anies bnern di rangkul krn memanusiakan manusia [RE vifahfaw16] \n",
      "\n",
      "@cdTtrPR2qj41VAl1LHWdlO9REkQXECJbY+mb3SscU3A= Sebagai kalangan perempuan muda Bangga rasanya bisa bersama berjuang bersama pasangan Ganjar Mahfud. Tetaplah semangat mewujudkan Indonesia unggul menuju Indonesia emas \n",
      "\n",
      "Ganjar-Mahfud punya cara unik dalam menyuarakan kebahagiaan Lansia, mereka bener-bener memahami apa yang dibutuhkan oleh generasi senior. Ganjar Pranowo, terbukti mensejahterakan @Tsa8p2K9r9TNW5GfzfBrU0cuiDZsOmeOtK+2gK1gVv8= #GanjarPresidenRakyat #GanjarMahfud2024 #Coblos3 https://t.co/SH5X17bks8 \n",
      "\n",
      "Adi mengungkapkan rasa syukurnya karena rumahnya dikunjungi oleh Ketua Umum Partai Gerindra itu, #IndonesiaSentris #IndonesiaHijau #02Melanjutkan #AnakMudaIndonesiaEmas Prabowo Subianto \n",
      "\n",
      "@gQ+QGmYJ209N7Py+H3gRyakQiic4NLEklTOIIuALnZA= @gqAL2HIcdWKR2U/VFUq3R0TFxXxtxCsKyUXAKn9R5o0= Iya nih penting suara Batak sebagai populasi etnis ketiga terbesar setelah Jawa Sunda. Mayoritas Batak Kristen cukup anti sama Anies karena diframing radikal sejak \n",
      "\n",
      "RT Wow dahsyat pak Anies sampai Dorong-Dorongan dan Penuh orang....hari ini pak Anies ada di Ciamis Jawa barat Kamis 4 Januari 2024 https://t.co/SbmcXUeFKa [RE Yurissa_Samosir] \n",
      "\n",
      "RT Ada yang was-was dengan acara Desak Anies!!!?? Diacara Desak Anies di Tanah Datar Sumbar kemarin sempat dibatalkan tempat acaranya, last minute baru dpt di GOR Tanah Datar tp antusias rakyat TIDAK BERKURANG SEDIKITPUN.. Desak Anies smkn Diminati tp penjegalan jg smkn besar..Ã¢Â˜ÂÃ¯Â¸Â https://t.co/8R25TtrczP [RE Malika6027] \n",
      "\n",
      "RT Pak Anies Makan Bersama dengan Petani-Petani Solok Sumatera barat siang Tadi.... Rabu 3 Januari 2024 https://t.co/sP4Vbs7Fvo [RE Yurissa_Samosir] \n",
      "\n",
      "@oiTj0SnKgiyhKNlW+fQ1+HjN9k/5ublQpKDnx85b91Y= @C62/h8+G+avmndYcwXOWCuZo+uZUgMU6f6LhQAC8qhU= @aFDujpS/uWdu2ir51dVjcpkAv3M/wiGxdHN3NOGc7LE= Totalitas. Menangkan 02 utk masa depan kaum muda. Bersama Demokrat, \"berdiri sama tinggi dan duduk sama rendah\" terwu \n",
      "\n",
      "RT Lahir gede ,nenek moyang juga di Jakarta, dan sekarang dah kepala 4 ,baru era pak Anies berasa Jakarta adem indahhhh banget.. Jazakallah pak @UxR5o+3GZGUFrSH/HD4QrsT2U4jJbKA92SPyd146rJs= semoga menjadi pemberat timbangan amal kebaikan bapak di yaumil hisab.. semoga menjadi cacatan sejarah Jakarta [RE ade_amaliaade] \n",
      "\n",
      "RT Ganjar Pranowo dan Prof Mahfud MD dari generasi muda hingga yang senior, menjadi simbol sambutan positif yang mempersatukan kita semua.#GanjarMahfudRebound #JNK #Pemilu2024 https://t.co/vJOR2bA0zt [RE Seneviratn41848] \n",
      "\n",
      "RT Terus terang saya belum tahu ini. Tapi ternyata ini danau buatan antara Jakarta Selatan dan Depok untuk pendampingan air hujan. Salah satu Karya yang inovatif dari Gubenur Anies BaswedanÃ¢Â€Â¦ rekam jejak! https://t.co/WmJR2OsbeZ [RE ShamsiAli2] \n",
      "\n",
      "Kan, sekali lagi maap2 ini, maap2, pendukung Prabowo dari dulu nggak pernah dari golongan berpendidikan. Lihat, dia yang kurang ilmu malah ngetawain yang paham. \n",
      "\n",
      "RT Setelah dari Sumatra barat Pak Anies langsung Malamnya Menuju Ciamis Jawa barat , sampai di Purwakarta Larut Malam dan Warga Purwakarta Cegat pak Anies ...para Warga Teriak Untuk Turun dari Mobil Akhirnya pak Anies keluar dari mobil dan salaman dengan warga Purwakarta https://t.co/ZC5svElyEB [RE Yurissa_Samosir] \n",
      "\n",
      "RT Anak kuliahan, generasi muda, Gen-Z dan milenial milih Prabowo ? Rugi dong, ga tepat ÃƒÂ°Ã‚Å¸Ã‚ËœÃ‚Å ÃƒÂ°Ã‚Å¸Ã‚ËœÃ‚Å ÃƒÂ°Ã‚Å¸Ã‚ËœÃ‚Å  #AsalBukanPrabowo https://t.co/yJSrJHGg1z [RE FirzaHusain] \n",
      "\n",
      "Emang keren MasBOWOGBran PilihanKITA, akan melahirkan generasi emas akan menjadi modal demografi manusia yg mumpuni dan etos kerja yang dibutuhkan. @WxJPex1QLSXi/Sk54jFSxOL2ozfMbCD4BulQ2UboQ+c= @z/yRF0N/OCuUHsjw1j7qigBVn1ypbWFyy8MpTqf6v+8= #MakinBanyakYg02 PastikanVISI MasaDEPAN https://t.co/t9VRgesKVU \n",
      "\n"
     ]
    }
   ],
   "source": [
    "for elm in df[df['label'] == 'Demografi']['text']:\n",
    "    print(elm, '\\n')"
   ]
  },
  {
   "cell_type": "code",
   "execution_count": 7,
   "metadata": {},
   "outputs": [
    {
     "data": {
      "text/plain": [
       "label\n",
       "Politik          19\n",
       "Sosial Budaya    12\n",
       "Ekonomi           5\n",
       "Ideologi          3\n",
       "Demografi         1\n",
       "Name: count, dtype: int64"
      ]
     },
     "execution_count": 7,
     "metadata": {},
     "output_type": "execute_result"
    }
   ],
   "source": [
    "df[df['text'].str.contains('miskin')]['label'].value_counts()"
   ]
  },
  {
   "cell_type": "code",
   "execution_count": 8,
   "metadata": {},
   "outputs": [
    {
     "data": {
      "text/plain": [
       "label\n",
       "Sosial Budaya    8\n",
       "Politik          7\n",
       "Demografi        2\n",
       "Ideologi         2\n",
       "Name: count, dtype: int64"
      ]
     },
     "execution_count": 8,
     "metadata": {},
     "output_type": "execute_result"
    }
   ],
   "source": [
    "df[df['text_cleaned'].str.contains('gen z', na=False)]['label'].value_counts()"
   ]
  },
  {
   "cell_type": "code",
   "execution_count": 9,
   "metadata": {},
   "outputs": [
    {
     "data": {
      "text/plain": [
       "label\n",
       "Politik          14\n",
       "Sosial Budaya     4\n",
       "Demografi         3\n",
       "Ideologi          2\n",
       "Ekonomi           1\n",
       "Name: count, dtype: int64"
      ]
     },
     "execution_count": 9,
     "metadata": {},
     "output_type": "execute_result"
    }
   ],
   "source": [
    "df[df['text_cleaned'].str.contains('kaum', na=False)]['label'].value_counts()"
   ]
  },
  {
   "cell_type": "code",
   "execution_count": 10,
   "metadata": {},
   "outputs": [
    {
     "data": {
      "text/plain": [
       "label\n",
       "Demografi        6\n",
       "Sosial Budaya    3\n",
       "Politik          2\n",
       "Ekonomi          1\n",
       "Name: count, dtype: int64"
      ]
     },
     "execution_count": 10,
     "metadata": {},
     "output_type": "execute_result"
    }
   ],
   "source": [
    "df[df['text_cleaned'].str.contains('menengah', na=False)]['label'].value_counts()"
   ]
  },
  {
   "cell_type": "code",
   "execution_count": 11,
   "metadata": {},
   "outputs": [
    {
     "data": {
      "text/plain": [
       "label\n",
       "Sosial Budaya    5\n",
       "Politik          3\n",
       "Ideologi         3\n",
       "Demografi        1\n",
       "Name: count, dtype: int64"
      ]
     },
     "execution_count": 11,
     "metadata": {},
     "output_type": "execute_result"
    }
   ],
   "source": [
    "df[df['text_cleaned'].str.contains('suku', na=False)]['label'].value_counts()"
   ]
  },
  {
   "cell_type": "code",
   "execution_count": 12,
   "metadata": {},
   "outputs": [
    {
     "data": {
      "text/plain": [
       "label\n",
       "Demografi    2\n",
       "Politik      1\n",
       "Name: count, dtype: int64"
      ]
     },
     "execution_count": 12,
     "metadata": {},
     "output_type": "execute_result"
    }
   ],
   "source": [
    "df[df['text_cleaned'].str.contains('pemilih muda', na=False)]['label'].value_counts()"
   ]
  },
  {
   "cell_type": "code",
   "execution_count": 13,
   "metadata": {},
   "outputs": [
    {
     "data": {
      "text/plain": [
       "label\n",
       "Demografi    4\n",
       "Politik      1\n",
       "Name: count, dtype: int64"
      ]
     },
     "execution_count": 13,
     "metadata": {},
     "output_type": "execute_result"
    }
   ],
   "source": [
    "df[df['text_cleaned'].str.contains('berpendidikan', na=False)]['label'].value_counts()"
   ]
  },
  {
   "cell_type": "code",
   "execution_count": 14,
   "metadata": {},
   "outputs": [
    {
     "data": {
      "text/plain": [
       "label\n",
       "Sosial Budaya              46\n",
       "Politik                    37\n",
       "Demografi                  10\n",
       "Sumber Daya Alam            8\n",
       "Ekonomi                     7\n",
       "Ideologi                    6\n",
       "Pertahanan dan Keamanan     3\n",
       "Name: count, dtype: int64"
      ]
     },
     "execution_count": 14,
     "metadata": {},
     "output_type": "execute_result"
    }
   ],
   "source": [
    "df[df['text_cleaned'].str.contains('pendidikan', na=False)]['label'].value_counts()"
   ]
  },
  {
   "cell_type": "code",
   "execution_count": 15,
   "metadata": {},
   "outputs": [
    {
     "data": {
      "text/plain": [
       "label\n",
       "Sosial Budaya       6\n",
       "Demografi           3\n",
       "Sumber Daya Alam    2\n",
       "Politik             1\n",
       "Name: count, dtype: int64"
      ]
     },
     "execution_count": 15,
     "metadata": {},
     "output_type": "execute_result"
    }
   ],
   "source": [
    "df[df['text_cleaned'].str.contains('demografi', na=False)]['label'].value_counts()"
   ]
  },
  {
   "cell_type": "code",
   "execution_count": 16,
   "metadata": {},
   "outputs": [
    {
     "data": {
      "text/plain": [
       "label\n",
       "Demografi        7\n",
       "Sosial Budaya    1\n",
       "Name: count, dtype: int64"
      ]
     },
     "execution_count": 16,
     "metadata": {},
     "output_type": "execute_result"
    }
   ],
   "source": [
    "df[df['text_cleaned'].str.contains('etnis', na=False)]['label'].value_counts()"
   ]
  },
  {
   "cell_type": "code",
   "execution_count": 17,
   "metadata": {},
   "outputs": [
    {
     "data": {
      "text/plain": [
       "label\n",
       "Politik             17\n",
       "Demografi           12\n",
       "Sosial Budaya        7\n",
       "Sumber Daya Alam     5\n",
       "Ideologi             2\n",
       "Name: count, dtype: int64"
      ]
     },
     "execution_count": 17,
     "metadata": {},
     "output_type": "execute_result"
    }
   ],
   "source": [
    "df[df['text_cleaned'].str.contains('generasi', na=False)]['label'].value_counts()"
   ]
  },
  {
   "cell_type": "code",
   "execution_count": 18,
   "metadata": {},
   "outputs": [
    {
     "data": {
      "text/plain": [
       "label\n",
       "Politik      6\n",
       "Demografi    1\n",
       "Name: count, dtype: int64"
      ]
     },
     "execution_count": 18,
     "metadata": {},
     "output_type": "execute_result"
    }
   ],
   "source": [
    "df[df['text_cleaned'].str.contains('kiai', na=False)]['label'].value_counts()"
   ]
  },
  {
   "cell_type": "code",
   "execution_count": 19,
   "metadata": {},
   "outputs": [
    {
     "data": {
      "text/plain": [
       "label\n",
       "Politik                    54\n",
       "Sosial Budaya               6\n",
       "Ekonomi                     6\n",
       "Demografi                   4\n",
       "Ideologi                    2\n",
       "Pertahanan dan Keamanan     1\n",
       "Name: count, dtype: int64"
      ]
     },
     "execution_count": 19,
     "metadata": {},
     "output_type": "execute_result"
    }
   ],
   "source": [
    "df[df['text_cleaned'].str.contains('keluarga', na=False)]['label'].value_counts()"
   ]
  },
  {
   "cell_type": "code",
   "execution_count": 20,
   "metadata": {},
   "outputs": [
    {
     "data": {
      "text/plain": [
       "label\n",
       "Demografi    1\n",
       "Name: count, dtype: int64"
      ]
     },
     "execution_count": 20,
     "metadata": {},
     "output_type": "execute_result"
    }
   ],
   "source": [
    "df[df['text_cleaned'].str.contains('kelompok rentan', na=False)]['label'].value_counts()"
   ]
  },
  {
   "cell_type": "code",
   "execution_count": 21,
   "metadata": {},
   "outputs": [
    {
     "data": {
      "text/plain": [
       "label\n",
       "Demografi    4\n",
       "Politik      1\n",
       "Name: count, dtype: int64"
      ]
     },
     "execution_count": 21,
     "metadata": {},
     "output_type": "execute_result"
    }
   ],
   "source": [
    "df[df['text_cleaned'].str.contains('berpendidikan', na=False)]['label'].value_counts()"
   ]
  },
  {
   "cell_type": "code",
   "execution_count": 22,
   "metadata": {},
   "outputs": [
    {
     "data": {
      "text/plain": [
       "label\n",
       "Politik                    25\n",
       "Demografi                  10\n",
       "Sosial Budaya               8\n",
       "Pertahanan dan Keamanan     2\n",
       "Ekonomi                     2\n",
       "Name: count, dtype: int64"
      ]
     },
     "execution_count": 22,
     "metadata": {},
     "output_type": "execute_result"
    }
   ],
   "source": [
    "df[df['text_cleaned'].str.contains('kalangan', na=False)]['label'].value_counts()"
   ]
  },
  {
   "cell_type": "code",
   "execution_count": 23,
   "metadata": {},
   "outputs": [
    {
     "data": {
      "text/plain": [
       "label\n",
       "Sosial Budaya    15\n",
       "Politik          14\n",
       "Ideologi          3\n",
       "Demografi         2\n",
       "Ekonomi           1\n",
       "Name: count, dtype: int64"
      ]
     },
     "execution_count": 23,
     "metadata": {},
     "output_type": "execute_result"
    }
   ],
   "source": [
    "df[df['text_cleaned'].str.contains('perempuan', na=False)]['label'].value_counts()"
   ]
  },
  {
   "cell_type": "code",
   "execution_count": 24,
   "metadata": {},
   "outputs": [
    {
     "data": {
      "text/plain": [
       "label\n",
       "Politik                    3\n",
       "Demografi                  2\n",
       "Pertahanan dan Keamanan    1\n",
       "Name: count, dtype: int64"
      ]
     },
     "execution_count": 24,
     "metadata": {},
     "output_type": "execute_result"
    }
   ],
   "source": [
    "df[df['text_cleaned'].str.contains('senior', na=False)]['label'].value_counts()"
   ]
  },
  {
   "cell_type": "code",
   "execution_count": 25,
   "metadata": {},
   "outputs": [
    {
     "data": {
      "text/plain": [
       "label\n",
       "Politik                    2972\n",
       "Sosial Budaya               587\n",
       "Pertahanan dan Keamanan     400\n",
       "Ideologi                    400\n",
       "Ekonomi                     367\n",
       "Sumber Daya Alam            192\n",
       "Demografi                    62\n",
       "Geografi                     20\n",
       "Name: count, dtype: int64"
      ]
     },
     "execution_count": 25,
     "metadata": {},
     "output_type": "execute_result"
    }
   ],
   "source": [
    "df['label'].value_counts()"
   ]
  },
  {
   "cell_type": "code",
   "execution_count": 26,
   "metadata": {},
   "outputs": [],
   "source": [
    "test = pd.read_csv('dataset_unlabeled_penyisihan_bdc_2024.csv', delimiter=';')"
   ]
  },
  {
   "cell_type": "code",
   "execution_count": 33,
   "metadata": {},
   "outputs": [
    {
     "name": "stdout",
     "output_type": "stream",
     "text": [
      "==================================================================================================== \n",
      " @Anak__Ogi @ganjarpranowo @mohmahfudmd Setuju... Jgn sampai Pajak dinaikkan 23 % bisa amblas keuangan generasi Z... \n",
      "\n",
      "Dukung yg nyata saja.. \n",
      "Ganjar-Mahfud lah pilihannya\n",
      "Ganjar-Mahfud lah jawabannya.. \n",
      "#GanjarMahfud2024 #GanjarMahfudSatset #GanjarPresiden #GanjarSikatKorupsi #GanjarUntukSemua \n",
      "\n",
      "==================================================================================================== \n",
      " Kampanye politik Anies dalam Pilgub DKI mempengaruhi dinamika masyarakat, di mana generasi tua memendam kebencian yang sulit diperbaiki oleh generasi muda, berdampak pada kohesi sosial antar kelompok usia dalam populasi. \n",
      "\n",
      "==================================================================================================== \n",
      " Ganjar yakin bahwa dengan beasiswa kita dapat menciptakan generasi penerus yg unggul @wahhabicc_jabar \n",
      "#DebatCapres\n",
      "#GanjarMahfud2024\n",
      "#GanjarMahfudM3nangDebat\n",
      "#Coblos74 https://t.co/R4PdB8dBHt \n",
      "\n",
      "==================================================================================================== \n",
      " Kalo kata pak Prabowo : \"Tidak Perlu Menjatuhkan Agar Terlihat Lebih Unggul\"\n",
      "\n",
      "#pemiludamai  #KitamudaLoginPakBowo #Palingjelas 02 Paling Pas Ã‚Â  #IndonesiaKuatIndonesiaMaju #DiplomasiProgresifPrabowo #02Melanjutkan https://t.co/FgNiUF2cCY \n",
      "\n",
      "==================================================================================================== \n",
      " Umur alutsista itu nggak sama dengan modernisasi yang bisa dilakukan. Prabowo miss his shot. Ada alasan kenapa F-15 dan F-16 bisa beroperasi 50 tahun, hingga masa depan.\n",
      "\n",
      "Kenapa mereka bisa beroperasi selama itu, ya karena emang ada support-nya, dan ada program overhaul, kalau kita namanya MLU (mid-life upgrade). Disitu dimana overhaul airframe itu ada, entah untuk sekedar nambal, atau ganti, dengan mesin yang selalu bisa di-swap, bukan masalah besar.\n",
      "\n",
      "Terakhir, Prabowo juga gagal menyebubkan gimana transisi dari alutsista Rusia menuju Barat bisa memberikan kemudahan dan bahkan kesejahteraan kepada TNI. [RE KentLavis] \n",
      "\n",
      "==================================================================================================== \n",
      " Sampai Kapan Kubu Prabowo Bodohi Rakyat?\n",
      "\n",
      "Oleh : Tiand raharjo\n",
      "\n",
      "Sangat menggelitik sebenarnya melihat kubu Prabowo-Gibran dengan masif mengampanyekan Pilpres satu putaran dengan alasan menghemat uang negara. Ini tentu pembodohan sekaligus pengkerdilan yang luar biasa terhadap hak-hak rakyat. Kemungkinan Prabowo kalah di putaran dua memang sangat besar, dan narasi itu mudah kita tebak hanya untuk menutupi kepanikan yang makin mendera kubu mereka.\n",
      "\n",
      "Bayangkan saja segala infrastruktur negara sudah dipakai, dari mulai aparat, hingga penjabat kepala daerah juga sudah dilibatkan untuk memenangkan Prabowo-Gibran. Tapi hasil surveinya masih saja mentok, tak kunjung mencapai 50 persen. \n",
      "\n",
      "Itu adalah fakta yang sulit dibantah. Kita tahu beberapa hari lalu sempat viral foto PJ Gubernur Jateng Nana menjemput Prabowo dan tim kampanyenya di bandara Ahmadyani saat perayaan HUT PSI. Kapasitas Prabowo saat itu jelas bukan sebagai menteri, melainkan capres. Apakah anda percaya Nana bakal diam saja dan tidak berusaha menambal suara untuk Prabowo dengan posisinya saat ini?\n",
      "\n",
      "Namun ternyata masyarakat tak mudah ditekan, dan itulah yang terjadi di lapangan. Masyarakat tetap berpegang teguh dengan pendirian untuk menentukan siapa sosok yang layak memimpin negeri ini. Dan Prabowo rupanya jauh dari figur yang diharapkan. Barangkali bukan hanya jejak masa lalunya yang hitam, namun juga karena kinerja-kinerjanya yang justru kerap menyodorkan kegagalan. Contoh konkret adalah mangkraknya food estate yang menghabiskan duit negara triliunan. \n",
      "\n",
      "Rakyat adalah pembaca peristiwa yang baik. Jika melihat pelanggaran pada Pilpres kali ini, yang paling banyak memang kubu Prabowo. Bukan hanya pelanggaran sebetulnya, namun juga arogansi dan kesewenang-wenangan yang mereka perlihatkan dengan beringas. Dari mulai mempermainkan hukum lewat Mahkamah Konstitusi, perusakan baliho kubu rival, hingga tindakan-tindakan  intimidatif. Pada putaran kedua, sudah pasti seluruh akal sehat dan nalar publik akan bersatu membakar semangat untuk mencegah kesewenang-wenangan itu berkuasa. \n",
      "\n",
      "Inilah yang bikin kubu Prabowo ketakutan bukan main dan mulai menyenandungkan hal-hal konyol. Kita percaya daulat akan selamanya berada di tangan rakyat. Tak ada yang bisa membendung tekad yang sudah membara menyala-nyala. \n",
      "\n",
      "Belum lagi jika kita bicara soal logistik, kubu Prabowo mungkin saja keteteran di putaran kedua karena kampanye saat ini yang sudah begitu masif. Baliho bertebaran dimana-mana, iklan media sosial yang nilai biayanya sangat fantastis, belum lagi biaya publik figur yang mereka gunakan sebagai buzzer. Dan hasilnya? Justru bikin mereka uring-uringan, geram bukan kepalang.\n",
      "\n",
      "Para pelaku survei kredibel beberapa kali bahkan menyebutkan tidak ditemukan adanya data bahwa Pilpres akan terjadi satu putaran. Jika melihat hasil survei saat ini, peluang besar putaran kedua, Prabowo akan berhadap-hadapan dengan Ganjar Pranowo. [RE Melihat_Indo] \n",
      "\n",
      "==================================================================================================== \n",
      " Menarik, Ganjar-Mahfud tampaknya fokus pada memudahkan akses masyarakat terhadap layanan hukum, ini akan mendukung investasi. @Lachimo73679685 Happy New Year \n",
      "#GanjarMahfud2024\n",
      "#GanjarMahfudM3nang\n",
      "#L3bihbaik https://t.co/Lf7i1EcI6n \n",
      "\n",
      "==================================================================================================== \n",
      " Sedikit soal rekam jejak Anies Baswedan di Jakarta. Hunian DP Rp.0.\n",
      "\n",
      "Lawan politik selalu mengecilkan program DP0 yg digagas Mas Anies ini, padahal hanya di era ini program perumahan dan pemukiman dilaksanakan secara komprehensif menjawab ragam kebutuhan hunian dan dirangkai dalam payung program terintegrasi bernama JakHabitat.\n",
      "\n",
      "Dari mulai membangun rusunawa untuk mereka yang punya preferensi menyewa, merevitalisasi kampung bagi mereka yang tinggal di kampung kota, membangun DP Rp.0 bagi mereka yang selama ini tak sanggup memiliki rumah, hingga menyediakan hunian terjangkau di dekat Mbagi para millenials/gen z yang baru memulai karir dan kepingin gaya hidup yg berkelanjutan.\n",
      "\n",
      "Dalam hal Penyediaan Rusunawa, Mas Anies mencetak rekor pembangunan Rusunawa terbanyak sepanjang sejarah Pemprov DKI. Bahkan lebih banyak dari periode sebelumnya yang dianggap sebagai Gubernur pro rusunawa yg cuma 2 tahun sewa, gak tau bisa perpanjang apa kagak, terserah kepala Unit yg mengelola aja. \n",
      "\n",
      "DP Rp.0 dianggap gagal karena diklaim nyinyiers dan kaum pendendam sakit hati karena kalah pilgub bahwa jumlahnya sedikit. Padahal meski APBD DKI tergerus Pandemi, DP Rp.0 mensupply kurang lebih 30% dari seluruh unit apartemen di Jakarta.\n",
      "\n",
      "Bahkan DP Rp.0 LEBIH LAKU daripada apartemen komersil karena tingkat keterisian yang mencapai 95% dibandingkan 75% dari apartemen komersil yg ada.\n",
      "\n",
      "DP0 mengabulkan mimpi warga yg selama ini menjadi penyewa hunian kemudia naik kelas jadi pemilik (dengan pengeluaran bulanan yang relatif sama), termasuk warga difabel.\n",
      "\n",
      "Saat DP Rp.0 diserang dan kini berupaya dihapuskan sesungguhnya lawan politik bukan menyerang Mas Anies, tp sedang menghalangi, menghapus harapan dan menutup kesempatan warga utk menggapai mimpinya memiliki rumah. \n",
      "\n",
      "Demikian utk dimaklumi. [RE Reiza_Patters] \n",
      "\n",
      "==================================================================================================== \n",
      " Wrap up \"Nakes Desak Anies\"\n",
      "\n",
      "A Thread....\n",
      "\n",
      "1. Stunting\n",
      "1000 HPK dan Kesehatan Ibu harus menjadi prioritas, penciptaan generasi berprestasi dan berdaya saing dimulai bukan saat sudah di sekolah dan diberi makan siang dan susu gratis, namun sejak saat Ibu sudah merencanakan kehamilan dalam kondisi yang sehat dan siap memberikan asupan tebaik selama 1000 hari pertama kehidupan bagi sang bayi nanti\n",
      "\n",
      "Kalau diberikan susu gratis maka yang diuntungkan adalah perusahaan susu dan peningkatan impor nantinya [RE dosenkesmas] \n",
      "\n",
      "==================================================================================================== \n",
      " @Penyuka_ombak Inilah ciri tweet-an orang berpendidikan tapi BODOH.\n",
      "\n",
      "Apalagi yg di angkat isu2 lama dri buzzer2 soal intoleran, anti Pancasila bla bla yg jelas2 fakta di Jakarta Anies dianggap pahlawan oleh pengurus gereja masjid vihara, yg sdh ngasih izin.. \n",
      "\n",
      "gobloog gobloog \n",
      "\n",
      "==================================================================================================== \n",
      " @zarryhendrik Padahal pertanyaan2 Anies bisa dijawab dengan mudah oleh prabowo karena dia yg pegang menhan 4 tahun ini. \n",
      "Disinggung kesejahteraan TNI malah plonga plongo. Disenggol food estate pundung.\n",
      "\n",
      "Emang kosong! Silakan lanjut cebokin Zar \n",
      "\n",
      "==================================================================================================== \n",
      " Tim Nasional Pemenangan Anies Baswedan-Muhaimin Iskandar (Timnas AMIN) mengatakan gerakan di dunia maya dan media sosial dukungan kepada AMIN merupakan hasil organik karena pihaknya tidak mempunyai uang ketika harus membayar influencer.\n",
      "\n",
      "\"Salah satu sasaran pemilih itu generasi muda dan TikTok menjadi sarana untuk menyampaikan visi dan misi pasangan AMIN. Kami tidak mempunyai duit untuk influencer,\" ujar Wakil Deputi Konten Kreator Timnas AMIN Sonny Muhammad, Jumat (5/1/2024).\n",
      "\n",
      "Simak berita selengkapnya hanya di https://t.co/vnH5bJKAbe\n",
      "#HardNews_Politik #NewsOne #CariBeritaditvOne #AniesBaswedan #MuhaiminIskandar #CakImin #TimnasAMIN #Politik #tvOneTVPemilu #KamiKabarkanAndaPutuskan #MauMemilih #Capres #Cawapres #Pemilu2024 #Pilpres2024 [RE tvOneNews] \n",
      "\n",
      "==================================================================================================== \n",
      " Jangan mudah terpengaruh! Ganjar jamin bansos tetap ada. KTP sakti, tonggak menuju kesejahteraan yang merata. #JNK #GanjarMahfudRebound #GanjarPranowoPilihanUmat https://t.co/027jchiei8 \n",
      "\n",
      "==================================================================================================== \n",
      " RT Prabowo-Gibran yang mengutamakan pengembangan pemuda. Salah satunya dengan menempatkan anak muda dalam posisi strategis menyambut bonus demografi Indonesia sebagai titik awal menuju Indonesia Emas 2045. #PrabowoGibranInspiratif #PemimpinYangDinanti https://t.co/Vu2v1ummmH [RE SE0K0] \n",
      "\n",
      "==================================================================================================== \n",
      " Ganjar Pranowo akan beri ruang bagi anak muda untuk masuk ke pemerintahanGanjarMahfudÃ‚Â  SemuaKerja GanjarUntukSemua GanjarSatSetÃ‚Â \n",
      "\n",
      " Ganjar Mahfud Hebat #Coblos3 #3GM #GanjarMahfudM3nangDebat #DebatCapres https://t.co/vKffyFSgLl \n",
      "\n",
      "==================================================================================================== \n",
      " --- FEAR MONGERING ---\n",
      "\n",
      "Ya, Anda tidak salah membaca. Tulisan ini adalah upaya framing terhadap Prabowo dan Gibran. Tulisan ini adalah pendapat saya, tentang kondisi yang akan terjadi jika mereka berdua terpilih sebagai presiden dan wakil presiden RI. Tulisan ini dibuat untuk membuat Anda berpikir ulang untuk memilih mereka berdua. Tulisan ini adalah negative campaign, sebagai counter argument untuk semua gimmick suka cita, riang gembira dan move on.\n",
      "\n",
      "Berkaca pada pengalaman debat capres dan debat cawapres, terlepas apapun yang Prabowo dan Gibran sampaikan, terlepas dari argumen dan kontra argumen yang mereka berdua sampaikan, saya melihat ada kecenderungan uncontrolled emotional outburst. \n",
      "\n",
      "Yang tua tampak menunjuk2 lawan bicara.\n",
      "Yang muda tampak provokatif dengan menjadi 'pemandu sorak' di kedua debat.\n",
      "\n",
      "Dan ini adalah wajah dari orang2 yang mungkin akan menjadi pucuk pimpinan tertinggi dari Republik Indonesia (jika Anda tidak segera berpikir ulang).\n",
      "\n",
      "Lalu apa yang membuat kita harus berpikir ulang? \n",
      "\n",
      "Netizen A: bukankah sejak ada amandemen, kekuasaan presiden sudah direduksi dan diseimbangkan dengan menguatnya kekuasaan legislatif dan yudikatif?\n",
      "\n",
      "Jangan lupa, besaran gaji anggota DPR dan gaji hakim, ditentukan melalui Peraturan Pemerintah. Jangan lupa, besaran tunjangan anggota DPR dan hakim ditentukan oleh Keputusan Presiden.\n",
      "\n",
      "Jangan lupa, sebagian (besar) anggota DPR adalah orang2 yang 'belum selesai dengan hidupnya'. Mereka masih mencari penghasilan. \n",
      "\n",
      "Penghasilan yang (jika jujur dan tidak mencari proyekan) ditentukan besarannya oleh pemerintah cq. presiden (dan wapres jika presiden berhalangan tetap).\n",
      "\n",
      "Dengan bargaining position seperti itu, apakah legislatif dan yudikatif bisa fair dalam menilai dan/atau mengawasi tindak tanduk pemerintah? Tidak.\n",
      "\n",
      "Ini bisa menjadi lebih parah, jika koalisi pengusung presiden mendominasi legislatif. Ketua umum partai jadi presiden, ketua umum partai jadi menteri. So, lupakan saja fungsi check and balance dari legislatif.\n",
      "\n",
      "Anggap saja kewenangan pemerintah dengan persetujuan DPR yang diatur di dalam UUD sama dengan kewenangan pemerintah saja. Karena DPR pasti setuju.\n",
      "\n",
      "Ketiadaan fungsi check and balance dari legislatif, ditambah dengan kecenderungan uncontrolled emotional outburst dari presiden (yang jika berhalangan tetap digantikan wapres), mestinya membuat kita berpikir ulang untuk mencoblos Prabowo dan Gibran dalam Pilpres tahun berapapun.\n",
      "\n",
      "Pikir ulang sebelum memilih Prabowo. Dia punya hutang masa lalu yang belum diselesaikan. Sebagai salah satu ketua umum dari partai yg dominan di DPR, dia bisa mengusulkan untuk membentuk peradilan HAM untuk memeriksa dan memutus semua 'gosip 5 tahunan' yang melekat pada dirinya.\n",
      "\n",
      "Pikir ulang sebelum memilih Gibran. Dia bukan anak muda terbaik yang dimiliki oleh Indonesia. Dia ada di kertas suara karena dia adalah anak presiden. Anak presiden yang konon kabarnya berprestasi, bukan anak muda yang berprestasi dan kebetulan anak presiden.\n",
      "\n",
      "Pikir ulang sebelum memilih mereka berdua. Mereka adalah pasangan yang menikmati keputusan yang diambil dalam kondisi ada pelanggaran etik.\n",
      "\n",
      "Formulanya dapat disimpulkan sebagai berikut:\n",
      "\n",
      "Jika mereka berdua terpilih, Indonesia akan dipimpin oleh sepasang manusia + dengan kecenderungan uncontrolled emotional outburst + penikmat nir etika + ketiadaan check and balance legislatif (dan yudikatif).\n",
      "\n",
      "Bayangkan formula di atas sebelum Anda menentukan pilihan Anda.\n",
      "\n",
      "Bayangkan formula di atas saat Anda mulai terbuai dengan move on, gemoy, hilirisasi, dsb. [RE pedagang_kritik] \n",
      "\n",
      "==================================================================================================== \n",
      " RT Orang bilang, mesti nya Mas Anies berpasangan dg Prof Mahfud. Mas Anies sudah betul berpasangan dg Cak Imin. Prof Mahfud memiliki segmen yg sama dg mas Anies, yakni kelas atas menengah cerdik pandai. Tapi Cak Imin, memiliki segmen kaum boomers &amp; milenial desa NU yg solid. [RE GL_Filosufi] \n",
      "\n",
      "==================================================================================================== \n",
      " @073osYbY49n1OqTm54NhgZbmQQzU1+j/qOR7/o4QmNA= Sosok yang inspiratif, Ganjar memberikan motivasi kepada generasi muda untuk ikut berkontribusi dalam memajukan daerahnya. \n",
      "\n",
      "==================================================================================================== \n",
      " @H1tv24PMcql5H78lcZoTEYLuhPv3484hU4yhVWFQcJo= @/D5l4F+gJeUmo5jzAPz2Y7ZOGV/m458aCswZdMGuWDM= Branding prabowo ikut pilpres 3x kuat sih di grassroot, Anies/Ganjar mungkin populer di kalangan masyarakat menengah atas yg bisa twiteran/tiktokan, cm di kampung2 dan pelosok jgnkan internet, sinyal edge aja susah, elektabilitas prabowo bisa jadi tinggi. \n",
      "\n",
      "==================================================================================================== \n",
      " Lagi-lagi kan malah bapak Prabowo sendiri yang menjelaskan apa yang sebenernya, laen kali di cari dengan betul lah apa apanya itu hehehe\n",
      "\n",
      "#pemiludamai  #KitamudaLoginPakBowo #Palingjelas 02 Paling Pas Ã‚Â  #IndonesiaKuatIndonesiaMaju #DiplomasiProgresifPrabowo #02Melanjutkan https://t.co/c70m7ICdip \n",
      "\n",
      "==================================================================================================== \n",
      " Organik itu. Menarik buat liat hasilnya nanti, sebab militansi dan basis jaringan kpopers udah dari dulu diincar politisi saban pilkada/pilpres coba gandeng salah satu fandom, berujung gagal karena kpop gak suka diseret ke ranah politik. Kalau gini sih bakal putaran ke dua antara 01 dan 02.\n",
      "03 masih berbenah, selain karena isu soliditas PDIP, ditambah beberapa kader PPP yg khawatir  parliamentary threshold gak goal jika tetep di koalisi. Ituah sebab memilih pindah, sekarang PPP lagi proses pecatin kader yg nyebrang.\n",
      "\n",
      "2024 jadi titik balik kpopers, mereka lintas fandom rata-rata menyatakan dukung 01 dgn cara mereka sendiri secara sukarela. Buat gerakin satu fandom tuh gak mudah apalagi itu bubble lintas fandom, makanya capaian Anies Imin gokil. Walaupun kemaren ada gesekan internal antara Ahmad Ali dan Sudirman Said ya udah ganti percakapannya soal live tik-tok Anies dan dukungan kpop ke Amin. [RE mazzini_gsp] \n",
      "\n",
      "==================================================================================================== \n",
      " @ZulkifliLubis69 @aniesbaswedan @PDI_Perjuangan @SBYudhoyono Usia Anies RB saat itu tidak jauh beda dengan usia Gibran, Bobby atau Giring dan Kaesang. Namun kualitas kemampuan intelektual muda yang sama sangat jauh beda. Wacapres 2024 makin tak mutu saat Nepo boy nir Etika diorbitkan karbitan no capability... [RE bettahalfmoon09] \n",
      "\n",
      "==================================================================================================== \n",
      " Jangan mudah terpengaruh! Ganjar jamin bansos tetap ada. KTP sakti, tonggak menuju kesejahteraan yang merata. #JNK #GanjarMahfudRebound #GanjarPranowoPilihanUmat https://t.co/Qnuguv2Ucp \n",
      "\n",
      "==================================================================================================== \n",
      " Apa yang dicari generasi muda di Pilpres 2024? Yang Pasti Mereka tidak akan memilih orang tua untuk menjadi Presiden. Dari semua Paslon capres-cawapres hanya Ganjar yang memberikan bukti hasil kerja dan program realistis pada 2024. \n",
      "\n",
      "==================================================================================================== \n",
      " Ã°ÂŸÂ¦ÂŽ  Ganjar Pranowo, tugas pemerintah adalah memberikan kesempatan atau ruang bagi anak-anak muda untuk dapat masuk ke d sistem pemerintahan\n",
      "\n",
      " Ganjar Mahfud Hebat #L3bihbaik #MahfudLebihBaik3 #GanjarMahfud2024 sikat KKN \n",
      "\n",
      "==================================================================================================== \n",
      " Memang sosok AyahBowo bener bener nunjukin kelasnya, bapak Prabowo nunjukin kalo Anies....\n",
      "Semoga di debat selanjutnya bisa terlihat edukasinya.\n",
      "\n",
      "#pemiludamai  #KitamudaLoginPakBowo #Palingjelas 02 Paling Pas Ã‚Â  #IndonesiaKuatIndonesiaMaju #DiplomasiProgresifPrabowo #02Melanjutkan https://t.co/GGP4aAOhyB \n",
      "\n",
      "==================================================================================================== \n",
      " Sejak Gibran \"diselundupkan\" jadi Cawapres Prabowo melalui pamannya di MK, sejak saat itu kita paham bahwa Jokowi mendukung Prabowo. Apapun yg dilakukan Jokowi bukan lagi kejutan. Apalagi ketika Jokowi bicara soal netralitas, itu artinya dia tidak netral. Bukan kah kita juga sadar bahwa Jokowi memang semencla-mencle itu?\n",
      "\n",
      "Secara resiliensi politik keduanya juga bertemu dalam kepentingan yang sama: yg satu pemburu kekuasaan dan yg satu lagi penyayang kekuasaan. Palu bertemu paku. Jadi, pertemuan \"empat mata\" (tapi dipotret) antara Jokowi dan Prabowo kemarin bukan juga sebuah kejutan. Apalagi mengkhawatirkan bagi yg melawan. Hell no!\n",
      "\n",
      "Atau jangan-jangan justeru mereka yg sedang cemas, sehingga nampaknya ada gimik yg harus disampaikan. Mosok ada pertemuan \"setengah kamar\" tapi sengaja dipublikasikan?\n",
      "\n",
      "Pada dasarnya ini sekadar pertemuan dua \"predator politik\" yg justeru akan membuat bangga siapapun yg telah bertempur melawan aliansi mereka. Atau setidaknya kelak akan membuat tertawa setiap generasi yg membaca sejarah Indonesia, ketika \"hanky-panky\" politik ini telah mencapai ujung takdirnya.\n",
      "\n",
      "Saya teringat tulisan Habyarimana dalam Pearls of Eternity: \"cara kerja manusia di dunia ini adalah barangsiapa yg sanggup melakukan kejahatan kekuasaan kepada makhluk lainnya, maka mereka sekedar menguasai panggung pertunjukannya Ã¢Â€Â” bukan penentu bagi keberhasilan kejahatan politiknya.\" [RE islah_bahrawi] \n",
      "\n",
      "==================================================================================================== \n",
      " Heppy Weekend, Sis dan Bro. Tadi pagi Mas Ketum Kaesang dan Brojen Raja Juli Antoni berkunjung ke Rumah Relawan  Pemenangan Prabowo-Gibran, Provinsi JambiÃ¢ÂœÂ¨Ã°ÂŸÂ“Â\n",
      "\n",
      "Setibanya di sana, Mas Ketum Kaesang disambut  kreativitas warga setempat, yaitu tarian barongsai. WuihÃ¢Â€Â¦ emang boleh sekeren ini? Ã°ÂŸÂ¤Â©\n",
      "\n",
      "Pertemuan dihadiri  beberapa organ relawan, yakni Bolonemase, Projo, Bara JP, Sedulur Jokowi, Penerus Negeri, Jarnas 98, Rejo Pro, dan Pandawa Lima.\n",
      " \n",
      "Setelah ngobrol tipis-tipis dengan para relawan, Mas Ketum membuka acara yang dijamin anak muda pasti suka nih. Ada yang tau apa acaranya? Yes, betul banget, kompetisi mobile legend! nama acaranya adalah Gemoy E-Sport CompetitionÃ°ÂŸÂ‘Â¶Ã°ÂŸÂ’Âƒ\n",
      "\n",
      "\"Tiga tahun lalu saya masih main mobile legend dan skill saya masih bagus. Kalau teman-teman  punya kesempatan bermain dengan Mas Gibran, tolong jangan, soalnya cupu. Tapi, tenang, kalau urusan debat, beliau itu suhu,\" kata Mas Ketum.\n",
      "\n",
      "Lalu ada momen yang seru nih. Salah satu peserta sempat salah menyapa Mas Kaesang dengan menyebut GibranÃ°ÂŸÂ¤ÂÃ°ÂŸÂÂ»Ã°ÂŸÂ˜Â\n",
      "\n",
      "\"Ketika dipanggil Mas Gibran, saya seneng aja, siapa tahu bisa gabung ke PSI, siapa tahu PSI bisa naik,\" ucap  Mas Kaesang.\n",
      "\n",
      "Buat para peserta, selamat bertanding. Jangan lupa Farming!Ã°ÂŸÂŒÂ³Ã°ÂŸÂ¥Â³\n",
      "\n",
      "Ikut Jokowi, pilih PSI!Ã°ÂŸÂŒÂ¹Prabowo-Gibran Menang Satu Putaran!Ã¢ÂœÂŒÃ°ÂŸÂÂ» [RE psi_id] \n",
      "\n"
     ]
    }
   ],
   "source": [
    "words = ['gen z', 'menengah', 'berpendidikan', 'muda', 'pemilih muda', 'etnis', 'generasi', 'kalangan atas', 'kalangan menengah']\n",
    "\n",
    "# show df['Text'] that the string contains word in words\n",
    "for elm in test[test['Text'].str.contains('|'.join(words))]['Text']:\n",
    "    print('='*100, '\\n', elm, '\\n')"
   ]
  },
  {
   "cell_type": "code",
   "execution_count": 34,
   "metadata": {},
   "outputs": [
    {
     "data": {
      "text/plain": [
       "28"
      ]
     },
     "execution_count": 34,
     "metadata": {},
     "output_type": "execute_result"
    }
   ],
   "source": [
    "len(test[test['Text'].str.contains('|'.join(words))])"
   ]
  }
 ],
 "metadata": {
  "kernelspec": {
   "display_name": "Python 3",
   "language": "python",
   "name": "python3"
  },
  "language_info": {
   "codemirror_mode": {
    "name": "ipython",
    "version": 3
   },
   "file_extension": ".py",
   "mimetype": "text/x-python",
   "name": "python",
   "nbconvert_exporter": "python",
   "pygments_lexer": "ipython3",
   "version": "3.12.3"
  }
 },
 "nbformat": 4,
 "nbformat_minor": 2
}
