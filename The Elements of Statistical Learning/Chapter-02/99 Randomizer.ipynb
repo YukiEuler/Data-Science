{
 "cells": [
  {
   "cell_type": "code",
   "execution_count": 10,
   "metadata": {},
   "outputs": [],
   "source": [
    "import numpy as np\n",
    "import random"
   ]
  },
  {
   "cell_type": "code",
   "execution_count": 11,
   "metadata": {},
   "outputs": [],
   "source": [
    "X_1 = np.array([random.gauss(30, 7) for _ in range(50)])\n",
    "y_1 = np.array([random.gauss(30, 7) for _ in range(50)])\n",
    "X_2 = np.array([random.gauss(20, 7) for _ in range(50)])\n",
    "y_2 = np.array([random.gauss(20, 7) for _ in range(50)])"
   ]
  },
  {
   "cell_type": "code",
   "execution_count": 12,
   "metadata": {},
   "outputs": [],
   "source": [
    "X = np.vstack((np.column_stack((X_1, y_1)), np.column_stack((X_2, y_2))))\n",
    "y = np.array([[0]] * len(X_1) + [[1]] * len(X_2))"
   ]
  },
  {
   "cell_type": "code",
   "execution_count": 13,
   "metadata": {},
   "outputs": [],
   "source": [
    "with open('00 Data.npy', 'wb') as f:\n",
    "    np.save(f, X_1)\n",
    "    np.save(f, y_1)\n",
    "    np.save(f, X_2)\n",
    "    np.save(f, y_2)\n",
    "    np.save(f, X)\n",
    "    np.save(f, y)"
   ]
  }
 ],
 "metadata": {
  "kernelspec": {
   "display_name": "Python 3",
   "language": "python",
   "name": "python3"
  },
  "language_info": {
   "codemirror_mode": {
    "name": "ipython",
    "version": 3
   },
   "file_extension": ".py",
   "mimetype": "text/x-python",
   "name": "python",
   "nbconvert_exporter": "python",
   "pygments_lexer": "ipython3",
   "version": "3.12.3"
  }
 },
 "nbformat": 4,
 "nbformat_minor": 2
}
